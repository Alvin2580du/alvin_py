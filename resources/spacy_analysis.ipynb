{
 "cells": [
  {
   "cell_type": "code",
   "execution_count": 3,
   "metadata": {},
   "outputs": [
    {
     "name": "stdout",
     "output_type": "stream",
     "text": [
      "<spacy.lang.en.English object at 0x0000020E088D57F0>\n"
     ]
    }
   ],
   "source": [
    "\n",
    "import pandas as pd\n",
    "from collections import defaultdict, Counter\n",
    "from IPython.display import display\n",
    "from random import seed\n",
    "import random\n",
    "import math\n",
    "import csv\n",
    "import matplotlib.pylab as pylab\n",
    "\n",
    "params = {'legend.fontsize': 'large',\n",
    "          'figure.figsize': (15, 5),\n",
    "          'axes.labelsize': 'large',\n",
    "          'axes.titlesize': 'large',\n",
    "          'xtick.labelsize': 'large',\n",
    "          'ytick.labelsize': 'large'}\n",
    "pylab.rcParams.update(params)\n",
    "# import spacy\n",
    "# from sussex_nltk.corpus_readers import AmazonReviewCorpusReader\n",
    "from nltk.corpus import gutenberg\n",
    "import en_core_web_sm\n",
    "\n",
    "# from GutenbergCorpus import GutenbergCorpusReader as gcr\n",
    "#\n",
    "# reader = gcr.GutenbergCorpusReader()  ## Sussex constructor\n",
    "\n",
    "nlp = en_core_web_sm.load()\n",
    "print(nlp)"
   ]
  },
  {
   "cell_type": "code",
   "execution_count": null,
   "metadata": {},
   "outputs": [],
   "source": []
  }
 ],
 "metadata": {
  "kernelspec": {
   "display_name": "Python 3",
   "language": "python",
   "name": "python3"
  },
  "language_info": {
   "codemirror_mode": {
    "name": "ipython",
    "version": 3
   },
   "file_extension": ".py",
   "mimetype": "text/x-python",
   "name": "python",
   "nbconvert_exporter": "python",
   "pygments_lexer": "ipython3",
   "version": "3.5.3"
  }
 },
 "nbformat": 4,
 "nbformat_minor": 2
}
