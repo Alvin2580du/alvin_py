{
 "cells": [
  {
   "cell_type": "markdown",
   "metadata": {},
   "source": [
    "# 写在最开始的话：  \n",
    "\n",
    "从这一次作业开始，正式进入了Python的应用环节。这也是我觉得这门课不太合适的原因，基础根本没有打扎实，老师也默认大家两个星期内能学会编程基础，看得出这门课真的是为了冲STEM而存在的课。但是换句话说，熬过去了，有STEM总好过没有STEM。  \n",
    "\n",
    "接下来我的作业中不会有太基础的知识的介绍，看不懂请返回去，仔细看我的note1，note2，还有前两次的作业，基本上已经把你们可以出现的问题都考虑到了。这一章开始讲的是note4 portfolio的内容，之前的note是写个一部分BA的同学看的，讲得很罗嗦。现在看我的作业的都是MSF，我默认investment那门课，关于portfolio那一段大家都是学懂了的。  \n",
    "\n",
    "这一个作业还会涉及矩阵的运算，对于没有学过矩阵的同学来说比较辛苦。先看note4，看不懂也不用管什么，反正记得几个公式就可以了。之后会在这次作业中讲明白哪几个公式比较重要。"
   ]
  },
  {
   "cell_type": "markdown",
   "metadata": {},
   "source": [
    "# Problem Set 3\n",
    "\n",
    "\n",
    "\n",
    "This problem set provides both computational and theoretical practice on forming mean-variance efficient portfolios and employing mean-variance mathematics.\n",
    "\n"
   ]
  },
  {
   "cell_type": "markdown",
   "metadata": {},
   "source": [
    "### 1. \n",
    "\n",
    "In order to proceed you need Microsoft Excel and file \"https://www.dropbox.com/s/5qituivg6ovlscr/Homework3.xlsx?dl=1\". \n",
    "\n",
    "This file contains data for 10 value-weighted industry portfolios monthly returns over an 90-year period.  \n",
    "\n",
    "You will be computing mean-variance efficient portfolios for these 10 industries.\n",
    "\n",
    "Find the minimum variance and tangency portfolios of the industries. \n",
    "(hint 1:  you will need to compute the means (arithmetic average), standard deviations, variances, and covariance matrix of the industries.  The risk-free rate is given in the spreadsheet--make sure NOT to include it in the analysis.) \n",
    "\n",
    "\n",
    "(hint 2::  to find the minimum variance portfolio deleted the expected return constraint, leaving only the constraint that weights have to add up to 1)\n",
    "\n",
    "Comment on the different weights applied to each industry under the MVP and Tangent portfolios\n",
    "\n",
    "\n"
   ]
  },
  {
   "cell_type": "code",
   "execution_count": 4,
   "metadata": {
    "collapsed": true
   },
   "outputs": [],
   "source": [
    "import pandas as pd\n",
    "import numpy as np\n",
    "import matplotlib.pyplot as plt\n",
    "%matplotlib inline"
   ]
  },
  {
   "cell_type": "code",
   "execution_count": 6,
   "metadata": {
    "scrolled": false
   },
   "outputs": [
    {
     "ename": "FileNotFoundError",
     "evalue": "[Errno 2] No such file or directory: 'Homework3.xlsx'",
     "output_type": "error",
     "traceback": [
      "\u001b[1;31m---------------------------------------------------------------------------\u001b[0m",
      "\u001b[1;31mFileNotFoundError\u001b[0m                         Traceback (most recent call last)",
      "\u001b[1;32m<ipython-input-6-585d2a39ae9c>\u001b[0m in \u001b[0;36m<module>\u001b[1;34m\u001b[0m\n\u001b[0;32m      2\u001b[0m \u001b[0mdata_url\u001b[0m \u001b[1;33m=\u001b[0m \u001b[1;34m'Homework3.xlsx'\u001b[0m\u001b[1;33m\u001b[0m\u001b[0m\n\u001b[0;32m      3\u001b[0m \u001b[1;33m\u001b[0m\u001b[0m\n\u001b[1;32m----> 4\u001b[1;33m \u001b[0mdata\u001b[0m \u001b[1;33m=\u001b[0m \u001b[0mpd\u001b[0m\u001b[1;33m.\u001b[0m\u001b[0mread_excel\u001b[0m\u001b[1;33m(\u001b[0m\u001b[0mdata_url\u001b[0m\u001b[1;33m,\u001b[0m \u001b[0mindex_col\u001b[0m\u001b[1;33m=\u001b[0m\u001b[1;36m0\u001b[0m\u001b[1;33m)\u001b[0m\u001b[1;33m\u001b[0m\u001b[0m\n\u001b[0m\u001b[0;32m      5\u001b[0m \u001b[0mdata\u001b[0m\u001b[1;33m.\u001b[0m\u001b[0mindex\u001b[0m \u001b[1;33m=\u001b[0m \u001b[0mpd\u001b[0m\u001b[1;33m.\u001b[0m\u001b[0mto_datetime\u001b[0m\u001b[1;33m(\u001b[0m\u001b[0mdata\u001b[0m\u001b[1;33m.\u001b[0m\u001b[0mindex\u001b[0m\u001b[1;33m,\u001b[0m \u001b[0mformat\u001b[0m\u001b[1;33m=\u001b[0m\u001b[1;34m'%Y%m'\u001b[0m\u001b[1;33m)\u001b[0m\u001b[1;33m\u001b[0m\u001b[0m\n\u001b[0;32m      6\u001b[0m \u001b[1;33m\u001b[0m\u001b[0m\n",
      "\u001b[1;32mC:\\Python35\\lib\\site-packages\\pandas\\util\\_decorators.py\u001b[0m in \u001b[0;36mwrapper\u001b[1;34m(*args, **kwargs)\u001b[0m\n\u001b[0;32m    176\u001b[0m                 \u001b[1;32melse\u001b[0m\u001b[1;33m:\u001b[0m\u001b[1;33m\u001b[0m\u001b[0m\n\u001b[0;32m    177\u001b[0m                     \u001b[0mkwargs\u001b[0m\u001b[1;33m[\u001b[0m\u001b[0mnew_arg_name\u001b[0m\u001b[1;33m]\u001b[0m \u001b[1;33m=\u001b[0m \u001b[0mnew_arg_value\u001b[0m\u001b[1;33m\u001b[0m\u001b[0m\n\u001b[1;32m--> 178\u001b[1;33m             \u001b[1;32mreturn\u001b[0m \u001b[0mfunc\u001b[0m\u001b[1;33m(\u001b[0m\u001b[1;33m*\u001b[0m\u001b[0margs\u001b[0m\u001b[1;33m,\u001b[0m \u001b[1;33m**\u001b[0m\u001b[0mkwargs\u001b[0m\u001b[1;33m)\u001b[0m\u001b[1;33m\u001b[0m\u001b[0m\n\u001b[0m\u001b[0;32m    179\u001b[0m         \u001b[1;32mreturn\u001b[0m \u001b[0mwrapper\u001b[0m\u001b[1;33m\u001b[0m\u001b[0m\n\u001b[0;32m    180\u001b[0m     \u001b[1;32mreturn\u001b[0m \u001b[0m_deprecate_kwarg\u001b[0m\u001b[1;33m\u001b[0m\u001b[0m\n",
      "\u001b[1;32mC:\\Python35\\lib\\site-packages\\pandas\\util\\_decorators.py\u001b[0m in \u001b[0;36mwrapper\u001b[1;34m(*args, **kwargs)\u001b[0m\n\u001b[0;32m    176\u001b[0m                 \u001b[1;32melse\u001b[0m\u001b[1;33m:\u001b[0m\u001b[1;33m\u001b[0m\u001b[0m\n\u001b[0;32m    177\u001b[0m                     \u001b[0mkwargs\u001b[0m\u001b[1;33m[\u001b[0m\u001b[0mnew_arg_name\u001b[0m\u001b[1;33m]\u001b[0m \u001b[1;33m=\u001b[0m \u001b[0mnew_arg_value\u001b[0m\u001b[1;33m\u001b[0m\u001b[0m\n\u001b[1;32m--> 178\u001b[1;33m             \u001b[1;32mreturn\u001b[0m \u001b[0mfunc\u001b[0m\u001b[1;33m(\u001b[0m\u001b[1;33m*\u001b[0m\u001b[0margs\u001b[0m\u001b[1;33m,\u001b[0m \u001b[1;33m**\u001b[0m\u001b[0mkwargs\u001b[0m\u001b[1;33m)\u001b[0m\u001b[1;33m\u001b[0m\u001b[0m\n\u001b[0m\u001b[0;32m    179\u001b[0m         \u001b[1;32mreturn\u001b[0m \u001b[0mwrapper\u001b[0m\u001b[1;33m\u001b[0m\u001b[0m\n\u001b[0;32m    180\u001b[0m     \u001b[1;32mreturn\u001b[0m \u001b[0m_deprecate_kwarg\u001b[0m\u001b[1;33m\u001b[0m\u001b[0m\n",
      "\u001b[1;32mC:\\Python35\\lib\\site-packages\\pandas\\io\\excel.py\u001b[0m in \u001b[0;36mread_excel\u001b[1;34m(io, sheet_name, header, names, index_col, usecols, squeeze, dtype, engine, converters, true_values, false_values, skiprows, nrows, na_values, parse_dates, date_parser, thousands, comment, skipfooter, convert_float, **kwds)\u001b[0m\n\u001b[0;32m    305\u001b[0m \u001b[1;33m\u001b[0m\u001b[0m\n\u001b[0;32m    306\u001b[0m     \u001b[1;32mif\u001b[0m \u001b[1;32mnot\u001b[0m \u001b[0misinstance\u001b[0m\u001b[1;33m(\u001b[0m\u001b[0mio\u001b[0m\u001b[1;33m,\u001b[0m \u001b[0mExcelFile\u001b[0m\u001b[1;33m)\u001b[0m\u001b[1;33m:\u001b[0m\u001b[1;33m\u001b[0m\u001b[0m\n\u001b[1;32m--> 307\u001b[1;33m         \u001b[0mio\u001b[0m \u001b[1;33m=\u001b[0m \u001b[0mExcelFile\u001b[0m\u001b[1;33m(\u001b[0m\u001b[0mio\u001b[0m\u001b[1;33m,\u001b[0m \u001b[0mengine\u001b[0m\u001b[1;33m=\u001b[0m\u001b[0mengine\u001b[0m\u001b[1;33m)\u001b[0m\u001b[1;33m\u001b[0m\u001b[0m\n\u001b[0m\u001b[0;32m    308\u001b[0m \u001b[1;33m\u001b[0m\u001b[0m\n\u001b[0;32m    309\u001b[0m     return io.parse(\n",
      "\u001b[1;32mC:\\Python35\\lib\\site-packages\\pandas\\io\\excel.py\u001b[0m in \u001b[0;36m__init__\u001b[1;34m(self, io, **kwds)\u001b[0m\n\u001b[0;32m    392\u001b[0m             \u001b[0mself\u001b[0m\u001b[1;33m.\u001b[0m\u001b[0mbook\u001b[0m \u001b[1;33m=\u001b[0m \u001b[0mxlrd\u001b[0m\u001b[1;33m.\u001b[0m\u001b[0mopen_workbook\u001b[0m\u001b[1;33m(\u001b[0m\u001b[0mfile_contents\u001b[0m\u001b[1;33m=\u001b[0m\u001b[0mdata\u001b[0m\u001b[1;33m)\u001b[0m\u001b[1;33m\u001b[0m\u001b[0m\n\u001b[0;32m    393\u001b[0m         \u001b[1;32melif\u001b[0m \u001b[0misinstance\u001b[0m\u001b[1;33m(\u001b[0m\u001b[0mself\u001b[0m\u001b[1;33m.\u001b[0m\u001b[0m_io\u001b[0m\u001b[1;33m,\u001b[0m \u001b[0mcompat\u001b[0m\u001b[1;33m.\u001b[0m\u001b[0mstring_types\u001b[0m\u001b[1;33m)\u001b[0m\u001b[1;33m:\u001b[0m\u001b[1;33m\u001b[0m\u001b[0m\n\u001b[1;32m--> 394\u001b[1;33m             \u001b[0mself\u001b[0m\u001b[1;33m.\u001b[0m\u001b[0mbook\u001b[0m \u001b[1;33m=\u001b[0m \u001b[0mxlrd\u001b[0m\u001b[1;33m.\u001b[0m\u001b[0mopen_workbook\u001b[0m\u001b[1;33m(\u001b[0m\u001b[0mself\u001b[0m\u001b[1;33m.\u001b[0m\u001b[0m_io\u001b[0m\u001b[1;33m)\u001b[0m\u001b[1;33m\u001b[0m\u001b[0m\n\u001b[0m\u001b[0;32m    395\u001b[0m         \u001b[1;32melse\u001b[0m\u001b[1;33m:\u001b[0m\u001b[1;33m\u001b[0m\u001b[0m\n\u001b[0;32m    396\u001b[0m             raise ValueError('Must explicitly set engine if not passing in'\n",
      "\u001b[1;32mC:\\Python35\\lib\\site-packages\\xlrd\\__init__.py\u001b[0m in \u001b[0;36mopen_workbook\u001b[1;34m(filename, logfile, verbosity, use_mmap, file_contents, encoding_override, formatting_info, on_demand, ragged_rows)\u001b[0m\n\u001b[0;32m    114\u001b[0m         \u001b[0mpeek\u001b[0m \u001b[1;33m=\u001b[0m \u001b[0mfile_contents\u001b[0m\u001b[1;33m[\u001b[0m\u001b[1;33m:\u001b[0m\u001b[0mpeeksz\u001b[0m\u001b[1;33m]\u001b[0m\u001b[1;33m\u001b[0m\u001b[0m\n\u001b[0;32m    115\u001b[0m     \u001b[1;32melse\u001b[0m\u001b[1;33m:\u001b[0m\u001b[1;33m\u001b[0m\u001b[0m\n\u001b[1;32m--> 116\u001b[1;33m         \u001b[1;32mwith\u001b[0m \u001b[0mopen\u001b[0m\u001b[1;33m(\u001b[0m\u001b[0mfilename\u001b[0m\u001b[1;33m,\u001b[0m \u001b[1;34m\"rb\"\u001b[0m\u001b[1;33m)\u001b[0m \u001b[1;32mas\u001b[0m \u001b[0mf\u001b[0m\u001b[1;33m:\u001b[0m\u001b[1;33m\u001b[0m\u001b[0m\n\u001b[0m\u001b[0;32m    117\u001b[0m             \u001b[0mpeek\u001b[0m \u001b[1;33m=\u001b[0m \u001b[0mf\u001b[0m\u001b[1;33m.\u001b[0m\u001b[0mread\u001b[0m\u001b[1;33m(\u001b[0m\u001b[0mpeeksz\u001b[0m\u001b[1;33m)\u001b[0m\u001b[1;33m\u001b[0m\u001b[0m\n\u001b[0;32m    118\u001b[0m     \u001b[1;32mif\u001b[0m \u001b[0mpeek\u001b[0m \u001b[1;33m==\u001b[0m \u001b[1;34mb\"PK\\x03\\x04\"\u001b[0m\u001b[1;33m:\u001b[0m \u001b[1;31m# a ZIP file\u001b[0m\u001b[1;33m\u001b[0m\u001b[0m\n",
      "\u001b[1;31mFileNotFoundError\u001b[0m: [Errno 2] No such file or directory: 'Homework3.xlsx'"
     ]
    }
   ],
   "source": [
    "#数据导入\n",
    "data_url = 'Homework3.xlsx'\n",
    "\n",
    "data = pd.read_excel(data_url, index_col=0)\n",
    "data.index = pd.to_datetime(data.index, format='%Y%m')\n",
    "\n",
    "data.head()"
   ]
  },
  {
   "cell_type": "markdown",
   "metadata": {},
   "source": [
    "注意，从这里开始，你能明白最好，不明白就记住怎么做。"
   ]
  },
  {
   "cell_type": "code",
   "execution_count": 3,
   "metadata": {
    "scrolled": false
   },
   "outputs": [
    {
     "data": {
      "text/html": [
       "<div>\n",
       "<style>\n",
       "    .dataframe thead tr:only-child th {\n",
       "        text-align: right;\n",
       "    }\n",
       "\n",
       "    .dataframe thead th {\n",
       "        text-align: left;\n",
       "    }\n",
       "\n",
       "    .dataframe tbody tr th {\n",
       "        vertical-align: top;\n",
       "    }\n",
       "</style>\n",
       "<table border=\"1\" class=\"dataframe\">\n",
       "  <thead>\n",
       "    <tr style=\"text-align: right;\">\n",
       "      <th></th>\n",
       "      <th>NoDur</th>\n",
       "      <th>Durbl</th>\n",
       "      <th>Manuf</th>\n",
       "      <th>Enrgy</th>\n",
       "      <th>HiTec</th>\n",
       "      <th>Telcm</th>\n",
       "      <th>Shops</th>\n",
       "      <th>Hlth</th>\n",
       "      <th>Utils</th>\n",
       "      <th>Other</th>\n",
       "    </tr>\n",
       "  </thead>\n",
       "  <tbody>\n",
       "    <tr>\n",
       "      <th>1926-07-01</th>\n",
       "      <td>1.23</td>\n",
       "      <td>15.33</td>\n",
       "      <td>4.47</td>\n",
       "      <td>-1.40</td>\n",
       "      <td>2.68</td>\n",
       "      <td>0.61</td>\n",
       "      <td>-0.11</td>\n",
       "      <td>1.55</td>\n",
       "      <td>6.82</td>\n",
       "      <td>1.94</td>\n",
       "    </tr>\n",
       "    <tr>\n",
       "      <th>1926-08-01</th>\n",
       "      <td>3.72</td>\n",
       "      <td>3.43</td>\n",
       "      <td>2.56</td>\n",
       "      <td>3.22</td>\n",
       "      <td>2.41</td>\n",
       "      <td>1.92</td>\n",
       "      <td>-0.96</td>\n",
       "      <td>4.00</td>\n",
       "      <td>-1.94</td>\n",
       "      <td>4.13</td>\n",
       "    </tr>\n",
       "    <tr>\n",
       "      <th>1926-09-01</th>\n",
       "      <td>0.91</td>\n",
       "      <td>4.57</td>\n",
       "      <td>0.92</td>\n",
       "      <td>-3.62</td>\n",
       "      <td>-0.61</td>\n",
       "      <td>2.18</td>\n",
       "      <td>-0.02</td>\n",
       "      <td>0.46</td>\n",
       "      <td>1.81</td>\n",
       "      <td>0.06</td>\n",
       "    </tr>\n",
       "    <tr>\n",
       "      <th>1926-10-01</th>\n",
       "      <td>-1.56</td>\n",
       "      <td>-8.55</td>\n",
       "      <td>-3.95</td>\n",
       "      <td>-1.10</td>\n",
       "      <td>-4.90</td>\n",
       "      <td>-0.43</td>\n",
       "      <td>-2.61</td>\n",
       "      <td>-0.89</td>\n",
       "      <td>-2.95</td>\n",
       "      <td>-3.17</td>\n",
       "    </tr>\n",
       "    <tr>\n",
       "      <th>1926-11-01</th>\n",
       "      <td>4.90</td>\n",
       "      <td>-0.50</td>\n",
       "      <td>3.79</td>\n",
       "      <td>-0.30</td>\n",
       "      <td>4.40</td>\n",
       "      <td>1.32</td>\n",
       "      <td>6.12</td>\n",
       "      <td>5.11</td>\n",
       "      <td>3.40</td>\n",
       "      <td>1.80</td>\n",
       "    </tr>\n",
       "  </tbody>\n",
       "</table>\n",
       "</div>"
      ],
      "text/plain": [
       "            NoDur  Durbl  Manuf  Enrgy  HiTec  Telcm  Shops  Hlth   Utils  \\\n",
       "1926-07-01   1.23  15.33   4.47  -1.40   2.68   0.61  -0.11   1.55   6.82   \n",
       "1926-08-01   3.72   3.43   2.56   3.22   2.41   1.92  -0.96   4.00  -1.94   \n",
       "1926-09-01   0.91   4.57   0.92  -3.62  -0.61   2.18  -0.02   0.46   1.81   \n",
       "1926-10-01  -1.56  -8.55  -3.95  -1.10  -4.90  -0.43  -2.61  -0.89  -2.95   \n",
       "1926-11-01   4.90  -0.50   3.79  -0.30   4.40   1.32   6.12   5.11   3.40   \n",
       "\n",
       "            Other  \n",
       "1926-07-01   1.94  \n",
       "1926-08-01   4.13  \n",
       "1926-09-01   0.06  \n",
       "1926-10-01  -3.17  \n",
       "1926-11-01   1.80  "
      ]
     },
     "execution_count": 3,
     "metadata": {},
     "output_type": "execute_result"
    }
   ],
   "source": [
    "#首先计算前十个资产的超额回报：\n",
    "Re = data.iloc[:, :10].subtract(data['Risk-free rate'],axis='index')\n",
    "Re.head()"
   ]
  },
  {
   "cell_type": "markdown",
   "metadata": {},
   "source": [
    "注意，这里不能写：\n",
    "Re = data.iloc[:,:10] - data['Risk-free rate']\n",
    "\n",
    "如果是单列减单列，比如：\n",
    "data['NoDur'] - data['Risk-free rate']\n",
    "这个写法是成立的，原因是只有一种减法。\n",
    "\n",
    "但是如果是一个数据表减去一列，比如10*10的表格减去一个1*10的列，那么你可以每一列来减，也可以每一行来减。所以需要特定的方程来告诉python应该怎么减。在subtract方程中添加axis='index'这个变量如何减。\n",
    "\n",
    "本质上的原因是因为python里面对单列的数据的结构非常的灵活，这个在我的note4里面有讲到。"
   ]
  },
  {
   "cell_type": "code",
   "execution_count": 41,
   "metadata": {},
   "outputs": [],
   "source": [
    "#然后计算十个资产的期望超额回报（平均数），标准差，和协方差。\n",
    "#注意，不是一个一个计算，而是作为一个整体一起计算。\n",
    "Mue = Re.mean()\n",
    "Std = Re.std()\n",
    "Cov = Re.cov()\n",
    "Rf = data['Risk-free rate'].mean()"
   ]
  },
  {
   "cell_type": "code",
   "execution_count": 5,
   "metadata": {
    "collapsed": true,
    "scrolled": true
   },
   "outputs": [],
   "source": [
    "#接下来为了方便计算，我们定义几个方程方便我们之后计算\n",
    "#为什么这么计算，看一下我的note4。看得懂最好，看不懂就记着\n",
    "\n",
    "#给出一个权重，返回对应portfolio的超额收益\n",
    "def W_Mue(w):\n",
    "    return w @ Mue.values #注意，Mue是一个series，不能和array进行运算，需要用一个.values来解决这个问题。 \n",
    "\n",
    "#给出一个权重，返还对应portfolio的方差\n",
    "def W_Var(w):\n",
    "    return w @ Cov @ w\n",
    "\n",
    "#给出一个权重，返还对应portfolio的sharp ratio\n",
    "def W_SP(w):\n",
    "    return W_Mue(w)/ (W_Var(w)**.5)\n",
    "\n",
    "#给出一个权重，返还对应portfolio的sharp ratio的相反数 \n",
    "#不要问为什么会有这个方程，下面就知道了\n",
    "def W_SP_ng(w):\n",
    "    return -W_SP(w)\n",
    "\n",
    "#注意，在note1中我提到方程内的变量和方程外的变量，我要重新再讲解一下，这是编程里面的基础逻辑。\n",
    "#在新建方程中重新定义的变量，如果名字和方程外的变量重名，以方程内的变量为准。\n",
    "#在新建方程中，如果没有重新定义，可以直接引用方程外的变量，但是不能调用其他方程里面的变量。\n",
    "\n",
    "#比如，上面的方程中，我们在W_Mue和W_Var的方程W_Mue和W_Var的方程中有一个自变量w，这个变量和其他定义的w是独立的。\n",
    "#而在W_Mue和W_Var的方程中，因为Mue和Cov两个变量没有重新计算，所以调用的是我们上面计算好的Mue和Cov\n",
    "#在W_SP的方程中，我们嵌套使用了W_Mue和W_Var的方程，这个是可以的。"
   ]
  },
  {
   "cell_type": "code",
   "execution_count": 6,
   "metadata": {
    "collapsed": true
   },
   "outputs": [],
   "source": [
    "#接下来我们将引用一个方程，叫minimize，相当于Excel里面的规划求解。因为我们仅仅需要这一个方程，所以我们导入方程的语句是如下写法\n",
    "#在之后的引用中，我们只需要直接写这个方程的名字，不需要写这个方程在哪个包。\n",
    "#python只认识你import的东西\n",
    "#比如import numpy，则之后调用numpy里面的方程必须通过numpy.去调用\n",
    "#比如import numpy as np，python还是只认识numpy，但是这个时候np代表了numpy，所以用numpy里面的方程用np.调用\n",
    "#比如from scipy.optimize import minimize， python只认识minimize，它并不认识scipy，也不认识scipy.optimize，因为你没有直接调用这些包，你调用的仅仅minimize这个方程。\n",
    "from scipy.optimize import minimize"
   ]
  },
  {
   "cell_type": "code",
   "execution_count": 1,
   "metadata": {
    "scrolled": true
   },
   "outputs": [],
   "source": [
    "#minimize这个方程一般而言需要几个变量\n",
    "#fun：目标方程，也就是因变量，minimize将会找取符合要求的最小的因变量，因变量必须是单变量方程\n",
    "#x0： 自变量\n",
    "#bond：自变量变化范围\n",
    "#constraints：自变量的条件，注意，constrain的书写很复杂接下来我会讲。\n",
    "#返回的结果包含两个东西，一个是目标方程的最小值，一个是满足该目标方程的自变量，后面会细讲。"
   ]
  },
  {
   "cell_type": "code",
   "execution_count": 8,
   "metadata": {},
   "outputs": [
    {
     "data": {
      "text/plain": [
       "array([ 0.1,  0.1,  0.1,  0.1,  0.1,  0.1,  0.1,  0.1,  0.1,  0.1])"
      ]
     },
     "execution_count": 8,
     "metadata": {},
     "output_type": "execute_result"
    }
   ],
   "source": [
    "#为了计算MVP，最小方差投资组合，我们来明确每一个主要的变量\n",
    "#首先是自变量，因为有十个资产，所以比例矩阵式一个(10,)的矩阵。我们初始化一个权重矩阵\n",
    "w0 = np.ones(10) / 10\n",
    "w0"
   ]
  },
  {
   "cell_type": "code",
   "execution_count": 9,
   "metadata": {
    "scrolled": true
   },
   "outputs": [
    {
     "ename": "TypeError",
     "evalue": "unsupported operand type(s) for @: 'numpy.ndarray' and 'Series'",
     "output_type": "error",
     "traceback": [
      "\u001b[1;31m---------------------------------------------------------------------------\u001b[0m",
      "\u001b[1;31mTypeError\u001b[0m                                 Traceback (most recent call last)",
      "\u001b[1;32m<ipython-input-9-7e09ba970673>\u001b[0m in \u001b[0;36m<module>\u001b[1;34m()\u001b[0m\n\u001b[0;32m      2\u001b[0m \u001b[1;31m#那就找到计算中那个变量是series，加.values\u001b[0m\u001b[1;33m\u001b[0m\u001b[1;33m\u001b[0m\u001b[0m\n\u001b[0;32m      3\u001b[0m \u001b[1;31m#从DataFrame中调取的单列数据基本上都是series\u001b[0m\u001b[1;33m\u001b[0m\u001b[1;33m\u001b[0m\u001b[0m\n\u001b[1;32m----> 4\u001b[1;33m \u001b[0mw0\u001b[0m \u001b[1;33m@\u001b[0m \u001b[0mRe\u001b[0m\u001b[1;33m.\u001b[0m\u001b[0mmean\u001b[0m\u001b[1;33m(\u001b[0m\u001b[1;33m)\u001b[0m\u001b[1;33m\u001b[0m\u001b[0m\n\u001b[0m",
      "\u001b[1;31mTypeError\u001b[0m: unsupported operand type(s) for @: 'numpy.ndarray' and 'Series'"
     ]
    }
   ],
   "source": [
    "#如果出现这个报错，说unsupported operand type(s) for @: 'numpy.ndarray' and 'Series'\n",
    "#那就找到计算中那个变量是series，加.values\n",
    "#从DataFrame中调取的单列数据基本上都是series\n",
    "w0 @ Re.mean()"
   ]
  },
  {
   "cell_type": "code",
   "execution_count": 10,
   "metadata": {
    "scrolled": true
   },
   "outputs": [
    {
     "data": {
      "text/plain": [
       "0.71954349859681921"
      ]
     },
     "execution_count": 10,
     "metadata": {},
     "output_type": "execute_result"
    }
   ],
   "source": [
    "#问题解决\n",
    "w0 @ Re.mean().values"
   ]
  },
  {
   "cell_type": "code",
   "execution_count": 11,
   "metadata": {},
   "outputs": [
    {
     "data": {
      "text/plain": [
       "-0.13770206852829028"
      ]
     },
     "execution_count": 11,
     "metadata": {},
     "output_type": "execute_result"
    }
   ],
   "source": [
    "W_SP_ng(w0)"
   ]
  },
  {
   "cell_type": "code",
   "execution_count": 12,
   "metadata": {
    "collapsed": true
   },
   "outputs": [],
   "source": [
    "#因变量就是我们上面定义的W_Var()方程，我们的目标就是要投资组合的方差最小\n",
    "#自变量没有变动范围。如果要求不能做空，则自变量，也就是所有权重要求都为正数，但是这里没有要求\n",
    "#自变量的条件，在第一题里面只有一个要求，那就是权重之和等于1\n",
    "#写constraint的格式是，一个小括号（。。。）,里面每一个条件用大括号{}来写，逗号分隔\n",
    "#每一个条件主要写两个：type 和 fun。\n",
    "#type只有两个选项，'ep'为0 和 'ineq'非负\n",
    "#fun则是需要控制的条件方程，与0进行比较\n",
    "\n",
    "cons = ({'type': 'eq',   'fun' : lambda W: W.sum()-1}) \n",
    "\n",
    "#上面这个写法的意思是：\n",
    "#'type'：'eq'表示条件是后面的方程要等于0\n",
    "#'fun': 后面写的是条件方程。看我的note1，有写两种方程的写法和区别\n",
    "#我们的目标是权重的和等于1，但是constraint里面只能将目标方程和0进行比较，那我们就把目标换一种说法，权重的和减1等于0"
   ]
  },
  {
   "cell_type": "code",
   "execution_count": 13,
   "metadata": {
    "scrolled": true
   },
   "outputs": [
    {
     "data": {
      "text/plain": [
       "     fun: 13.79992125980242\n",
       "     jac: array([ 27.59917188,  27.59914255,  27.59957564,  27.60169172,\n",
       "        27.60111046,  27.59943438,  27.59965932,  27.60043812,\n",
       "        27.59889913,  27.59859967])\n",
       " message: 'Optimization terminated successfully.'\n",
       "    nfev: 156\n",
       "     nit: 12\n",
       "    njev: 12\n",
       "  status: 0\n",
       " success: True\n",
       "       x: array([ 0.7808334 , -0.06329735, -0.13250304,  0.22003553, -0.10631137,\n",
       "        0.55368392, -0.06230953,  0.06909885,  0.0774389 , -0.33666932])"
      ]
     },
     "execution_count": 13,
     "metadata": {},
     "output_type": "execute_result"
    }
   ],
   "source": [
    "#写完了了以后就可以写minimize方程：\n",
    "\n",
    "MVP_result = minimize( W_Var, w0, constraints=cons )\n",
    "MVP_result\n",
    "\n",
    "#可以看到，result是个非常复杂的数据库，但是没关系我们只需要调取其中两个数据"
   ]
  },
  {
   "cell_type": "code",
   "execution_count": 14,
   "metadata": {},
   "outputs": [
    {
     "data": {
      "text/plain": [
       "13.79992125980242"
      ]
     },
     "execution_count": 14,
     "metadata": {},
     "output_type": "execute_result"
    }
   ],
   "source": [
    "#结果的目标方程，也就是最小化的因变量，也就是最小的方差\n",
    "MVP_result.fun"
   ]
  },
  {
   "cell_type": "code",
   "execution_count": 15,
   "metadata": {
    "scrolled": true
   },
   "outputs": [
    {
     "data": {
      "text/plain": [
       "array([ 0.7808334 , -0.06329735, -0.13250304,  0.22003553, -0.10631137,\n",
       "        0.55368392, -0.06230953,  0.06909885,  0.0774389 , -0.33666932])"
      ]
     },
     "execution_count": 15,
     "metadata": {},
     "output_type": "execute_result"
    }
   ],
   "source": [
    "#最小方差对应的自变量\n",
    "MVP_result.x"
   ]
  },
  {
   "cell_type": "code",
   "execution_count": 20,
   "metadata": {
    "collapsed": true
   },
   "outputs": [],
   "source": [
    "w_MVP = MVP_result.x"
   ]
  },
  {
   "cell_type": "code",
   "execution_count": 16,
   "metadata": {},
   "outputs": [
    {
     "data": {
      "text/plain": [
       "array([ 0.82632648,  0.09078607, -0.1928568 ,  0.31326706,  0.01603273,\n",
       "        0.34363566, -0.04620433,  0.32179299, -0.0328157 , -0.63996416])"
      ]
     },
     "execution_count": 16,
     "metadata": {},
     "output_type": "execute_result"
    }
   ],
   "source": [
    "#明白了逻辑，再来找 Tangent portfolios的权重\n",
    "#Tangent portfolios实际上就是sharp ratio最高的portfolio，所以唯一要改变的就是目标方程\n",
    "# maximize sharp ratio = minimize (- sharp ratio)\n",
    "#注意，这里不能用 -W_SP, 原因是这里面需要输入一个方程，而不是一个计算公式\n",
    "#-W_SP(w0)直接输可以输出结果，但是不是一个方程，而是一个计算公式。\n",
    "\n",
    "Tang_result = minimize( W_SP_ng, w0, constraints=cons )\n",
    "Tang_result.x"
   ]
  },
  {
   "cell_type": "code",
   "execution_count": 23,
   "metadata": {
    "scrolled": true
   },
   "outputs": [
    {
     "name": "stdout",
     "output_type": "stream",
     "text": [
      "[ 0.82742309  0.0913663  -0.19956638  0.31575394  0.01871339  0.34113147\n",
      " -0.04383604  0.32198931 -0.03258938 -0.6403857 ]\n",
      "1.0\n"
     ]
    }
   ],
   "source": [
    "#当然，对于tangent portfolio还有另一个课件上的求法，需要的话我可以给出证明，但是不要求掌握，大部分同学记住怎么做就可以了。\n",
    "#具体看我的note4的内容\n",
    "\n",
    "Covinv = np.linalg.inv(Cov)  #求逆矩阵\n",
    "w = Covinv @ Mue.values      #这个会求出CAL上某一个组合的权重，但是是包括一定的risk free资产，所以risky资产的权重之和不为1\n",
    "w_Tang = w/w.sum()             #w.sum()是w中所有元素的总和，这一步是为了让w.sum()=1\n",
    "print(w_Tang)\n",
    "print(w_Tang.sum())"
   ]
  },
  {
   "cell_type": "code",
   "execution_count": 18,
   "metadata": {},
   "outputs": [
    {
     "data": {
      "text/plain": [
       "0.19003822925718045"
      ]
     },
     "execution_count": 18,
     "metadata": {},
     "output_type": "execute_result"
    }
   ],
   "source": [
    "W_SP(Tang_result.x)"
   ]
  },
  {
   "cell_type": "code",
   "execution_count": 24,
   "metadata": {},
   "outputs": [
    {
     "data": {
      "text/plain": [
       "0.19003988873075364"
      ]
     },
     "execution_count": 24,
     "metadata": {},
     "output_type": "execute_result"
    }
   ],
   "source": [
    "W_SP(w_Tang)"
   ]
  },
  {
   "cell_type": "markdown",
   "metadata": {},
   "source": [
    "这里会发现，第二种方法的答案sharp ratio比第一种方法求得比较大，原因很简单，minimize的算法是有局限的，而第二种方法是几乎在数学上严格证明的方法，所以第二种方法做出来的答案基本上都是正确的。不过无所谓，这种小差距不是问题。"
   ]
  },
  {
   "cell_type": "markdown",
   "metadata": {},
   "source": [
    "### 2. \n",
    "\n",
    "a)Compute the means and standard deviations of the minimum variance portfolio and Tangent portfolios.  \n",
    "\n",
    "b)Plot the mean-standard deviation efficient frontier of these 10 industries. Plot the 10 industries as well on a mean-standard deviation diagram.  \n",
    "\n",
    "c)Plot the mean-variance efficient frontier of these 10 industries. Plot the 10 industries as well on a mean-standard deviation diagram.  \n",
    "\n",
    "\n",
    "\n",
    "\n"
   ]
  },
  {
   "cell_type": "markdown",
   "metadata": {},
   "source": [
    "#### a)Solution:"
   ]
  },
  {
   "cell_type": "code",
   "execution_count": 25,
   "metadata": {},
   "outputs": [
    {
     "data": {
      "text/plain": [
       "0.64751141470150242"
      ]
     },
     "execution_count": 25,
     "metadata": {},
     "output_type": "execute_result"
    }
   ],
   "source": [
    "#知道为啥上面要定义那么几个方程了吧。。。\n",
    "W_Mue(w_MVP)"
   ]
  },
  {
   "cell_type": "code",
   "execution_count": 26,
   "metadata": {},
   "outputs": [
    {
     "data": {
      "text/plain": [
       "13.799921259802421"
      ]
     },
     "execution_count": 26,
     "metadata": {},
     "output_type": "execute_result"
    }
   ],
   "source": [
    "W_Var(w_MVP)"
   ]
  },
  {
   "cell_type": "code",
   "execution_count": 27,
   "metadata": {},
   "outputs": [
    {
     "data": {
      "text/plain": [
       "0.76972099869200172"
      ]
     },
     "execution_count": 27,
     "metadata": {},
     "output_type": "execute_result"
    }
   ],
   "source": [
    "W_Mue(w_Tang)"
   ]
  },
  {
   "cell_type": "code",
   "execution_count": 28,
   "metadata": {
    "scrolled": true
   },
   "outputs": [
    {
     "data": {
      "text/plain": [
       "16.405033984803541"
      ]
     },
     "execution_count": 28,
     "metadata": {},
     "output_type": "execute_result"
    }
   ],
   "source": [
    "W_Var(w_Tang)"
   ]
  },
  {
   "cell_type": "markdown",
   "metadata": {},
   "source": [
    "#### b)Solution:"
   ]
  },
  {
   "cell_type": "markdown",
   "metadata": {},
   "source": [
    "这道题的意思是，画mean-(standard deviation) efficient frontier，并且标出原来十个资产的位置。  \n",
    "首先要明白，怎么找efficient frontier，__注意这里有可能是个重点考点。__  \n",
    "EF是怎么来的，两种方法：  \n",
    "1）对每一个预期超额回报，EF的标准差最小，或  \n",
    "2）对每一个预期标准差，EF的超额回报最大。  \n",
    "所以接下来的求法，就是按照其中一个逻辑在做，鉴于我们刚刚在求完MVP，所以我们按照第一个方法来求。  "
   ]
  },
  {
   "cell_type": "code",
   "execution_count": 73,
   "metadata": {},
   "outputs": [
    {
     "data": {
      "text/html": [
       "<div>\n",
       "<style>\n",
       "    .dataframe thead tr:only-child th {\n",
       "        text-align: right;\n",
       "    }\n",
       "\n",
       "    .dataframe thead th {\n",
       "        text-align: left;\n",
       "    }\n",
       "\n",
       "    .dataframe tbody tr th {\n",
       "        vertical-align: top;\n",
       "    }\n",
       "</style>\n",
       "<table border=\"1\" class=\"dataframe\">\n",
       "  <thead>\n",
       "    <tr style=\"text-align: right;\">\n",
       "      <th></th>\n",
       "      <th>Mu</th>\n",
       "      <th>Std</th>\n",
       "    </tr>\n",
       "  </thead>\n",
       "  <tbody>\n",
       "    <tr>\n",
       "      <th>NoDur</th>\n",
       "      <td>0.985781</td>\n",
       "      <td>4.626245</td>\n",
       "    </tr>\n",
       "    <tr>\n",
       "      <th>Durbl</th>\n",
       "      <td>1.098952</td>\n",
       "      <td>7.764269</td>\n",
       "    </tr>\n",
       "    <tr>\n",
       "      <th>Manuf</th>\n",
       "      <td>1.021487</td>\n",
       "      <td>6.308047</td>\n",
       "    </tr>\n",
       "    <tr>\n",
       "      <th>Enrgy</th>\n",
       "      <td>1.024219</td>\n",
       "      <td>6.097319</td>\n",
       "    </tr>\n",
       "    <tr>\n",
       "      <th>HiTec</th>\n",
       "      <td>1.094874</td>\n",
       "      <td>7.319941</td>\n",
       "    </tr>\n",
       "    <tr>\n",
       "      <th>Telcm</th>\n",
       "      <td>0.869167</td>\n",
       "      <td>4.608105</td>\n",
       "    </tr>\n",
       "    <tr>\n",
       "      <th>Shops</th>\n",
       "      <td>1.019579</td>\n",
       "      <td>5.878753</td>\n",
       "    </tr>\n",
       "    <tr>\n",
       "      <th>Hlth</th>\n",
       "      <td>1.106623</td>\n",
       "      <td>5.603567</td>\n",
       "    </tr>\n",
       "    <tr>\n",
       "      <th>Utils</th>\n",
       "      <td>0.883714</td>\n",
       "      <td>5.572461</td>\n",
       "    </tr>\n",
       "    <tr>\n",
       "      <th>Other</th>\n",
       "      <td>0.911431</td>\n",
       "      <td>6.476691</td>\n",
       "    </tr>\n",
       "  </tbody>\n",
       "</table>\n",
       "</div>"
      ],
      "text/plain": [
       "             Mu       Std\n",
       "NoDur  0.985781  4.626245\n",
       "Durbl  1.098952  7.764269\n",
       "Manuf  1.021487  6.308047\n",
       "Enrgy  1.024219  6.097319\n",
       "HiTec  1.094874  7.319941\n",
       "Telcm  0.869167  4.608105\n",
       "Shops  1.019579  5.878753\n",
       "Hlth   1.106623  5.603567\n",
       "Utils  0.883714  5.572461\n",
       "Other  0.911431  6.476691"
      ]
     },
     "execution_count": 73,
     "metadata": {},
     "output_type": "execute_result"
    }
   ],
   "source": [
    "#记录每一个资产的回报和标准差,大致看一下范围\n",
    "std_mu = pd.DataFrame([Mue+Rf, Std], index = ['Mu', 'Std']).T\n",
    "std_mu"
   ]
  },
  {
   "cell_type": "code",
   "execution_count": 81,
   "metadata": {
    "collapsed": true
   },
   "outputs": [
    {
     "data": {
      "text/plain": [
       "array([[ 0.88203929,  3.76738126],\n",
       "       [ 0.89220878,  3.74736922],\n",
       "       [ 0.90237827,  3.73208465],\n",
       "       [ 0.91254776,  3.72158581],\n",
       "       [ 0.92271726,  3.71591327],\n",
       "       [ 0.93288675,  3.71508912],\n",
       "       [ 0.94305624,  3.71911658],\n",
       "       [ 0.95322573,  3.72797993],\n",
       "       [ 0.96339522,  3.74164482],\n",
       "       [ 0.97356471,  3.76005889],\n",
       "       [ 0.9837342 ,  3.78315279],\n",
       "       [ 0.9939037 ,  3.81084144],\n",
       "       [ 1.00407319,  3.84302554],\n",
       "       [ 1.01424268,  3.8795932 ],\n",
       "       [ 1.02441217,  3.92042176],\n",
       "       [ 1.03458166,  3.96537964],\n",
       "       [ 1.04475115,  4.01432802],\n",
       "       [ 1.05492064,  4.0671229 ],\n",
       "       [ 1.06509014,  4.12361652],\n",
       "       [ 1.07525963,  4.18365906],\n",
       "       [ 1.08542912,  4.24709998],\n",
       "       [ 1.09559861,  4.31378937],\n",
       "       [ 1.1057681 ,  4.38357896],\n",
       "       [ 1.11593759,  4.4563231 ],\n",
       "       [ 1.12610709,  4.53187952],\n",
       "       [ 1.13627658,  4.61010996],\n",
       "       [ 1.14644607,  4.69088061],\n",
       "       [ 1.15661556,  4.77406252],\n",
       "       [ 1.16678505,  4.85953191],\n",
       "       [ 1.17695454,  4.94717023],\n",
       "       [ 1.18712403,  5.03686423],\n",
       "       [ 1.19729353,  5.12850609],\n",
       "       [ 1.20746302,  5.22199324],\n",
       "       [ 1.21763251,  5.31722836],\n",
       "       [ 1.227802  ,  5.41411921],\n",
       "       [ 1.23797149,  5.51257847],\n",
       "       [ 1.24814098,  5.61252362],\n",
       "       [ 1.25831048,  5.71387667],\n",
       "       [ 1.26847997,  5.81656403],\n",
       "       [ 1.27864946,  5.92051627],\n",
       "       [ 1.28881895,  6.02566793],\n",
       "       [ 1.29898844,  6.13195731],\n",
       "       [ 1.30915793,  6.23932626],\n",
       "       [ 1.31932742,  6.34771999],\n",
       "       [ 1.32949692,  6.45708692],\n",
       "       [ 1.33966641,  6.5673784 ],\n",
       "       [ 1.3498359 ,  6.67854864],\n",
       "       [ 1.36000539,  6.79055448],\n",
       "       [ 1.37017488,  6.90335525],\n",
       "       [ 1.38034437,  7.0169126 ],\n",
       "       [ 1.39051387,  7.1311904 ],\n",
       "       [ 1.40068336,  7.24615456],\n",
       "       [ 1.41085285,  7.36177293],\n",
       "       [ 1.42102234,  7.47801516],\n",
       "       [ 1.43119183,  7.59485259],\n",
       "       [ 1.44136132,  7.7122582 ],\n",
       "       [ 1.45153081,  7.83020641],\n",
       "       [ 1.46170031,  7.94867307],\n",
       "       [ 1.4718698 ,  8.06763535],\n",
       "       [ 1.48203929,  8.18707163]])"
      ]
     },
     "execution_count": 81,
     "metadata": {},
     "output_type": "execute_result"
    }
   ],
   "source": [
    "targetmue  = np.linspace(0.6,1.2,60)                                  \n",
    "#设定目标回报率，这个方程的意思，在0.6，到1.4，平均分成40个点，形成一个列矩阵。\n",
    "\n",
    "ef_std_mu = []                                                       \n",
    "#创建一个list，用来记录每一个目标回报率对应的标准差。\n",
    "\n",
    "for mue in targetmue:                                                      #对于每一个目标回报率\n",
    "    cons=({'type': 'eq','fun' : lambda W: W_Mue(W) - mue},                 #注意，要重新修改cons的条件，要加入portfolio的回报等于目标回报\n",
    "          {'type': 'eq','fun' : lambda W: W.sum() - 1 } )                  #而且，这个修改，每一次换目标回报率的时候都要重新写\n",
    "    result = minimize(W_Var,w0, constraints=cons)   \n",
    "    w = result.x                                                           \n",
    "    std = result.fun ** 0.5                                                #标准差即是目标值的开方\n",
    "    ef_std_mu.append([mue+Rf,std])                                        #将结果分两列存在efficientp里面。\n",
    "                                                                           #之所以要list格式，只是因为append这个方程用起来比较轻松\n",
    "                                                                           #不知道这个方程干啥的，看我的note1\n",
    "ef_std_mu=np.array(ef_std_mu)                                              #将list转成array，因为array可以做图。\n",
    "ef_std_mu"
   ]
  },
  {
   "cell_type": "code",
   "execution_count": 88,
   "metadata": {},
   "outputs": [
    {
     "data": {
      "image/png": "[encoded data removed]",
      "text/plain": [
       "<matplotlib.figure.Figure at 0x1600b3cbac8>"
      ]
     },
     "metadata": {},
     "output_type": "display_data"
    }
   ],
   "source": [
    "plt.xlabel('standard deviation')\n",
    "plt.ylabel('expected return')\n",
    "plt.title('Efficient Frontier: Mu-Std ')\n",
    "\n",
    "plt.scatter(ef_std_mu[:,1], ef_std_mu[:,0])\n",
    "for i in std_mu.index:\n",
    "    plt.text(std_mu.loc[i,'Std'],std_mu.loc[i,'Mu'],i)"
   ]
  },
  {
   "cell_type": "markdown",
   "metadata": {},
   "source": [
    "#### c)Solution:"
   ]
  },
  {
   "cell_type": "code",
   "execution_count": 89,
   "metadata": {},
   "outputs": [
    {
     "data": {
      "image/png": "[encoded data removed]",
      "text/plain": [
       "<matplotlib.figure.Figure at 0x16009c9ce10>"
      ]
     },
     "metadata": {},
     "output_type": "display_data"
    }
   ],
   "source": [
    "plt.xlabel('standard deviation')\n",
    "plt.ylabel('expected return')\n",
    "plt.title('Efficient Frontier: Mu-Std ')\n",
    "\n",
    "plt.scatter(ef_std_mu[:,1] ** 2 , ef_std_mu[:,0])\n",
    "for i in std_mu.index:\n",
    "    plt.text(std_mu.loc[i,'Std'] ** 2,std_mu.loc[i,'Mu'],i)"
   ]
  },
  {
   "cell_type": "markdown",
   "metadata": {},
   "source": [
    "### 3. \n",
    "\n",
    "a)Comment on the reliability of the mean return estimates for each industry.\n",
    "\n",
    "b)Describe how you would evaluate if they are well estimated.\n",
    "\n",
    "c)Construct the 95% confidence interval for the estimator of each industry expected return.\n",
    "\n",
    "\n",
    "d)Artificially change the mean return estimates of each industry by a one standard error increase.  How much does the Tangent portfolio change?  Does the efficient frontier change a lot or a little? What does that teach us?\n",
    " \n"
   ]
  },
  {
   "cell_type": "markdown",
   "metadata": {},
   "source": [
    "__注意，记得给每一个结果赋予一个特别的名字，用题号也好，自己用别的表示也好，不要重复命名，导致后面覆盖了前面的数据。__"
   ]
  },
  {
   "cell_type": "code",
   "execution_count": 95,
   "metadata": {
    "scrolled": true
   },
   "outputs": [
    {
     "data": {
      "text/html": [
       "<div>\n",
       "<style>\n",
       "    .dataframe thead tr:only-child th {\n",
       "        text-align: right;\n",
       "    }\n",
       "\n",
       "    .dataframe thead th {\n",
       "        text-align: left;\n",
       "    }\n",
       "\n",
       "    .dataframe tbody tr th {\n",
       "        vertical-align: top;\n",
       "    }\n",
       "</style>\n",
       "<table border=\"1\" class=\"dataframe\">\n",
       "  <thead>\n",
       "    <tr style=\"text-align: right;\">\n",
       "      <th></th>\n",
       "      <th>Mu</th>\n",
       "      <th>Std</th>\n",
       "      <th>95%CI_lower</th>\n",
       "      <th>95%CI_higher</th>\n",
       "    </tr>\n",
       "  </thead>\n",
       "  <tbody>\n",
       "    <tr>\n",
       "      <th>NoDur</th>\n",
       "      <td>0.985781</td>\n",
       "      <td>4.626245</td>\n",
       "      <td>0.753730</td>\n",
       "      <td>1.217832</td>\n",
       "    </tr>\n",
       "    <tr>\n",
       "      <th>Durbl</th>\n",
       "      <td>1.098952</td>\n",
       "      <td>7.764269</td>\n",
       "      <td>0.709499</td>\n",
       "      <td>1.488406</td>\n",
       "    </tr>\n",
       "    <tr>\n",
       "      <th>Manuf</th>\n",
       "      <td>1.021487</td>\n",
       "      <td>6.308047</td>\n",
       "      <td>0.705078</td>\n",
       "      <td>1.337897</td>\n",
       "    </tr>\n",
       "    <tr>\n",
       "      <th>Enrgy</th>\n",
       "      <td>1.024219</td>\n",
       "      <td>6.097319</td>\n",
       "      <td>0.718379</td>\n",
       "      <td>1.330059</td>\n",
       "    </tr>\n",
       "    <tr>\n",
       "      <th>HiTec</th>\n",
       "      <td>1.094874</td>\n",
       "      <td>7.319941</td>\n",
       "      <td>0.727708</td>\n",
       "      <td>1.462040</td>\n",
       "    </tr>\n",
       "    <tr>\n",
       "      <th>Telcm</th>\n",
       "      <td>0.869167</td>\n",
       "      <td>4.608105</td>\n",
       "      <td>0.638026</td>\n",
       "      <td>1.100309</td>\n",
       "    </tr>\n",
       "    <tr>\n",
       "      <th>Shops</th>\n",
       "      <td>1.019579</td>\n",
       "      <td>5.878753</td>\n",
       "      <td>0.724703</td>\n",
       "      <td>1.314456</td>\n",
       "    </tr>\n",
       "    <tr>\n",
       "      <th>Hlth</th>\n",
       "      <td>1.106623</td>\n",
       "      <td>5.603567</td>\n",
       "      <td>0.825550</td>\n",
       "      <td>1.387696</td>\n",
       "    </tr>\n",
       "    <tr>\n",
       "      <th>Utils</th>\n",
       "      <td>0.883714</td>\n",
       "      <td>5.572461</td>\n",
       "      <td>0.604201</td>\n",
       "      <td>1.163227</td>\n",
       "    </tr>\n",
       "    <tr>\n",
       "      <th>Other</th>\n",
       "      <td>0.911431</td>\n",
       "      <td>6.476691</td>\n",
       "      <td>0.586562</td>\n",
       "      <td>1.236300</td>\n",
       "    </tr>\n",
       "  </tbody>\n",
       "</table>\n",
       "</div>"
      ],
      "text/plain": [
       "             Mu       Std  95%CI_lower  95%CI_higher\n",
       "NoDur  0.985781  4.626245     0.753730      1.217832\n",
       "Durbl  1.098952  7.764269     0.709499      1.488406\n",
       "Manuf  1.021487  6.308047     0.705078      1.337897\n",
       "Enrgy  1.024219  6.097319     0.718379      1.330059\n",
       "HiTec  1.094874  7.319941     0.727708      1.462040\n",
       "Telcm  0.869167  4.608105     0.638026      1.100309\n",
       "Shops  1.019579  5.878753     0.724703      1.314456\n",
       "Hlth   1.106623  5.603567     0.825550      1.387696\n",
       "Utils  0.883714  5.572461     0.604201      1.163227\n",
       "Other  0.911431  6.476691     0.586562      1.236300"
      ]
     },
     "execution_count": 95,
     "metadata": {},
     "output_type": "execute_result"
    }
   ],
   "source": [
    "std_mu['95%CI_lower'] = std_mu['Mu'] - 1.64 * (std_mu['Std'] / (Re.shape[0] ** .5) )\n",
    "std_mu['95%CI_higher'] = std_mu['Mu'] + 1.64 * (std_mu['Std'] / (Re.shape[0] ** .5) )\n",
    "std_mu"
   ]
  },
  {
   "cell_type": "code",
   "execution_count": 96,
   "metadata": {
    "collapsed": true
   },
   "outputs": [],
   "source": [
    "#重新定义Mue，然后把第一题的东西做一遍\n",
    "Mue_L = std_mu['95%CI_lower']\n",
    "Mue_H = std_mu['95%CI_higher']"
   ]
  },
  {
   "cell_type": "markdown",
   "metadata": {},
   "source": [
    "### 4. \n",
    "\n",
    "a) Comment on the reliability of the covariance matrix estimate.  \n",
    "\n",
    "b) First,lets ignore covaraince terms:  assume that all covariances are zero and recompute the efficient frontier using the diagonal matrix of variances as the covariance matrix. (you might find the fucntion diag() from the numpy package very useful here)\n",
    "\n",
    "c)Then, lets also ignore variance terms: assume very simply that the covariance matrix is just the identity matrix (i.e., a matrix of ones along the diagonal and zeros everywhere else). \n",
    "\n",
    "d) Now lets assume that the average returns are the same, replicated the analysis in (c), look at teh weights, what portfolio is this? \n",
    "\n",
    "d) Does the mean-variance frontier change a lot or a little, relative to the analysis in 3)?  \n",
    "\n",
    "e) Discuss how important are the covariance terms relative to the variance terms?\n",
    "\n"
   ]
  },
  {
   "cell_type": "code",
   "execution_count": 98,
   "metadata": {},
   "outputs": [
    {
     "data": {
      "text/plain": [
       "array([[ 21.40214722,   0.        ,   0.        ,   0.        ,\n",
       "          0.        ,   0.        ,   0.        ,   0.        ,\n",
       "          0.        ,   0.        ],\n",
       "       [  0.        ,  60.2838663 ,   0.        ,   0.        ,\n",
       "          0.        ,   0.        ,   0.        ,   0.        ,\n",
       "          0.        ,   0.        ],\n",
       "       [  0.        ,   0.        ,  39.7914584 ,   0.        ,\n",
       "          0.        ,   0.        ,   0.        ,   0.        ,\n",
       "          0.        ,   0.        ],\n",
       "       [  0.        ,   0.        ,   0.        ,  37.17730208,\n",
       "          0.        ,   0.        ,   0.        ,   0.        ,\n",
       "          0.        ,   0.        ],\n",
       "       [  0.        ,   0.        ,   0.        ,   0.        ,\n",
       "         53.58153475,   0.        ,   0.        ,   0.        ,\n",
       "          0.        ,   0.        ],\n",
       "       [  0.        ,   0.        ,   0.        ,   0.        ,\n",
       "          0.        ,  21.23463341,   0.        ,   0.        ,\n",
       "          0.        ,   0.        ],\n",
       "       [  0.        ,   0.        ,   0.        ,   0.        ,\n",
       "          0.        ,   0.        ,  34.55973242,   0.        ,\n",
       "          0.        ,   0.        ],\n",
       "       [  0.        ,   0.        ,   0.        ,   0.        ,\n",
       "          0.        ,   0.        ,   0.        ,  31.39996081,\n",
       "          0.        ,   0.        ],\n",
       "       [  0.        ,   0.        ,   0.        ,   0.        ,\n",
       "          0.        ,   0.        ,   0.        ,   0.        ,\n",
       "         31.05231751,   0.        ],\n",
       "       [  0.        ,   0.        ,   0.        ,   0.        ,\n",
       "          0.        ,   0.        ,   0.        ,   0.        ,\n",
       "          0.        ,  41.947525  ]])"
      ]
     },
     "execution_count": 98,
     "metadata": {},
     "output_type": "execute_result"
    }
   ],
   "source": [
    "#重新定义Cov，然后把第一题的东西做一遍\n",
    "Cov_Diag = np.diag(np.diag(Cov))\n",
    "Cov_Diag"
   ]
  },
  {
   "cell_type": "markdown",
   "metadata": {},
   "source": [
    "看下面事例明白这个方程怎么用https://docs.scipy.org/doc/numpy/reference/generated/numpy.diag.html"
   ]
  },
  {
   "cell_type": "code",
   "execution_count": 100,
   "metadata": {},
   "outputs": [
    {
     "data": {
      "text/html": [
       "<div>\n",
       "<style>\n",
       "    .dataframe thead tr:only-child th {\n",
       "        text-align: right;\n",
       "    }\n",
       "\n",
       "    .dataframe thead th {\n",
       "        text-align: left;\n",
       "    }\n",
       "\n",
       "    .dataframe tbody tr th {\n",
       "        vertical-align: top;\n",
       "    }\n",
       "</style>\n",
       "<table border=\"1\" class=\"dataframe\">\n",
       "  <thead>\n",
       "    <tr style=\"text-align: right;\">\n",
       "      <th></th>\n",
       "      <th>NoDur</th>\n",
       "      <th>Durbl</th>\n",
       "      <th>Manuf</th>\n",
       "      <th>Enrgy</th>\n",
       "      <th>HiTec</th>\n",
       "      <th>Telcm</th>\n",
       "      <th>Shops</th>\n",
       "      <th>Hlth</th>\n",
       "      <th>Utils</th>\n",
       "      <th>Other</th>\n",
       "    </tr>\n",
       "  </thead>\n",
       "  <tbody>\n",
       "    <tr>\n",
       "      <th>NoDur</th>\n",
       "      <td>0.000000</td>\n",
       "      <td>26.776604</td>\n",
       "      <td>24.856814</td>\n",
       "      <td>17.609312</td>\n",
       "      <td>25.061231</td>\n",
       "      <td>14.496576</td>\n",
       "      <td>23.661065</td>\n",
       "      <td>20.802765</td>\n",
       "      <td>18.241880</td>\n",
       "      <td>25.354565</td>\n",
       "    </tr>\n",
       "    <tr>\n",
       "      <th>Durbl</th>\n",
       "      <td>26.776604</td>\n",
       "      <td>0.000000</td>\n",
       "      <td>42.790995</td>\n",
       "      <td>29.401838</td>\n",
       "      <td>44.154922</td>\n",
       "      <td>22.674181</td>\n",
       "      <td>36.499991</td>\n",
       "      <td>27.685748</td>\n",
       "      <td>26.820796</td>\n",
       "      <td>40.597960</td>\n",
       "    </tr>\n",
       "    <tr>\n",
       "      <th>Manuf</th>\n",
       "      <td>24.856814</td>\n",
       "      <td>42.790995</td>\n",
       "      <td>0.000000</td>\n",
       "      <td>28.378263</td>\n",
       "      <td>39.903672</td>\n",
       "      <td>19.994928</td>\n",
       "      <td>31.530688</td>\n",
       "      <td>26.836471</td>\n",
       "      <td>24.559749</td>\n",
       "      <td>37.106639</td>\n",
       "    </tr>\n",
       "    <tr>\n",
       "      <th>Enrgy</th>\n",
       "      <td>17.609312</td>\n",
       "      <td>29.401838</td>\n",
       "      <td>28.378263</td>\n",
       "      <td>0.000000</td>\n",
       "      <td>27.683532</td>\n",
       "      <td>14.514477</td>\n",
       "      <td>21.182411</td>\n",
       "      <td>19.315567</td>\n",
       "      <td>21.053395</td>\n",
       "      <td>27.465180</td>\n",
       "    </tr>\n",
       "    <tr>\n",
       "      <th>HiTec</th>\n",
       "      <td>25.061231</td>\n",
       "      <td>44.154922</td>\n",
       "      <td>39.903672</td>\n",
       "      <td>27.683532</td>\n",
       "      <td>0.000000</td>\n",
       "      <td>23.205089</td>\n",
       "      <td>34.192418</td>\n",
       "      <td>29.642558</td>\n",
       "      <td>25.330366</td>\n",
       "      <td>38.044668</td>\n",
       "    </tr>\n",
       "    <tr>\n",
       "      <th>Telcm</th>\n",
       "      <td>14.496576</td>\n",
       "      <td>22.674181</td>\n",
       "      <td>19.994928</td>\n",
       "      <td>14.514477</td>\n",
       "      <td>23.205089</td>\n",
       "      <td>0.000000</td>\n",
       "      <td>18.437197</td>\n",
       "      <td>15.631705</td>\n",
       "      <td>16.235567</td>\n",
       "      <td>21.111768</td>\n",
       "    </tr>\n",
       "    <tr>\n",
       "      <th>Shops</th>\n",
       "      <td>23.661065</td>\n",
       "      <td>36.499991</td>\n",
       "      <td>31.530688</td>\n",
       "      <td>21.182411</td>\n",
       "      <td>34.192418</td>\n",
       "      <td>18.437197</td>\n",
       "      <td>0.000000</td>\n",
       "      <td>24.542656</td>\n",
       "      <td>21.434278</td>\n",
       "      <td>31.555568</td>\n",
       "    </tr>\n",
       "    <tr>\n",
       "      <th>Hlth</th>\n",
       "      <td>20.802765</td>\n",
       "      <td>27.685748</td>\n",
       "      <td>26.836471</td>\n",
       "      <td>19.315567</td>\n",
       "      <td>29.642558</td>\n",
       "      <td>15.631705</td>\n",
       "      <td>24.542656</td>\n",
       "      <td>0.000000</td>\n",
       "      <td>19.521025</td>\n",
       "      <td>26.853848</td>\n",
       "    </tr>\n",
       "    <tr>\n",
       "      <th>Utils</th>\n",
       "      <td>18.241880</td>\n",
       "      <td>26.820796</td>\n",
       "      <td>24.559749</td>\n",
       "      <td>21.053395</td>\n",
       "      <td>25.330366</td>\n",
       "      <td>16.235567</td>\n",
       "      <td>21.434278</td>\n",
       "      <td>19.521025</td>\n",
       "      <td>0.000000</td>\n",
       "      <td>26.255535</td>\n",
       "    </tr>\n",
       "    <tr>\n",
       "      <th>Other</th>\n",
       "      <td>25.354565</td>\n",
       "      <td>40.597960</td>\n",
       "      <td>37.106639</td>\n",
       "      <td>27.465180</td>\n",
       "      <td>38.044668</td>\n",
       "      <td>21.111768</td>\n",
       "      <td>31.555568</td>\n",
       "      <td>26.853848</td>\n",
       "      <td>26.255535</td>\n",
       "      <td>0.000000</td>\n",
       "    </tr>\n",
       "  </tbody>\n",
       "</table>\n",
       "</div>"
      ],
      "text/plain": [
       "           NoDur      Durbl      Manuf      Enrgy      HiTec      Telcm  \\\n",
       "NoDur   0.000000  26.776604  24.856814  17.609312  25.061231  14.496576   \n",
       "Durbl  26.776604   0.000000  42.790995  29.401838  44.154922  22.674181   \n",
       "Manuf  24.856814  42.790995   0.000000  28.378263  39.903672  19.994928   \n",
       "Enrgy  17.609312  29.401838  28.378263   0.000000  27.683532  14.514477   \n",
       "HiTec  25.061231  44.154922  39.903672  27.683532   0.000000  23.205089   \n",
       "Telcm  14.496576  22.674181  19.994928  14.514477  23.205089   0.000000   \n",
       "Shops  23.661065  36.499991  31.530688  21.182411  34.192418  18.437197   \n",
       "Hlth   20.802765  27.685748  26.836471  19.315567  29.642558  15.631705   \n",
       "Utils  18.241880  26.820796  24.559749  21.053395  25.330366  16.235567   \n",
       "Other  25.354565  40.597960  37.106639  27.465180  38.044668  21.111768   \n",
       "\n",
       "           Shops      Hlth       Utils      Other  \n",
       "NoDur  23.661065  20.802765  18.241880  25.354565  \n",
       "Durbl  36.499991  27.685748  26.820796  40.597960  \n",
       "Manuf  31.530688  26.836471  24.559749  37.106639  \n",
       "Enrgy  21.182411  19.315567  21.053395  27.465180  \n",
       "HiTec  34.192418  29.642558  25.330366  38.044668  \n",
       "Telcm  18.437197  15.631705  16.235567  21.111768  \n",
       "Shops   0.000000  24.542656  21.434278  31.555568  \n",
       "Hlth   24.542656   0.000000  19.521025  26.853848  \n",
       "Utils  21.434278  19.521025   0.000000  26.255535  \n",
       "Other  31.555568  26.853848  26.255535   0.000000  "
      ]
     },
     "execution_count": 100,
     "metadata": {},
     "output_type": "execute_result"
    }
   ],
   "source": [
    "Cov_Zdiag = Cov - Cov_Diag\n",
    "Cov_Zdiag"
   ]
  },
  {
   "cell_type": "markdown",
   "metadata": {
    "collapsed": true
   },
   "source": [
    "### 5. \n",
    "\n",
    "a) construct the portfolios returns for the 4 different approaches discussed in 3 and 4:tangent portfolio, minimum variance portfolio, minimum variance portfolio that ignores covariance terms, minimum variance portfolio that ignore covariance terms and assume variances are the same.\n",
    "\n",
    "\n",
    "b) report mean returns for 4 portfolios\n",
    "\n",
    "c) report mean returns in excess of the risk-free rate\n",
    "\n",
    "d) Report standard deviations\n",
    "\n",
    "e) report portfolio sharpe ratios by dividing the answer in (c) by the answer in (d)\n",
    "\n",
    "f) Discuss the results. Is it surprising what you find? What does that teach us about the different approaches? Suggest an empirical approach to learn even more about which strategy is better (no need to implement just discuss) \n"
   ]
  },
  {
   "cell_type": "code",
   "execution_count": null,
   "metadata": {
    "collapsed": true
   },
   "outputs": [],
   "source": []
  },
  {
   "cell_type": "markdown",
   "metadata": {
    "collapsed": true
   },
   "source": [
    "上面可以求到四个portfolio的weight，然后可以用第一题定义好的方程求出结果。return 就是 mue + rf。  \n",
    "文字叙述就自己扯扯蛋咯。"
   ]
  }
 ],
 "metadata": {
  "kernelspec": {
   "display_name": "Python 3",
   "language": "python",
   "name": "python3"
  },
  "language_info": {
   "codemirror_mode": {
    "name": "ipython",
    "version": 3
   },
   "file_extension": ".py",
   "mimetype": "text/x-python",
   "name": "python",
   "nbconvert_exporter": "python",
   "pygments_lexer": "ipython3",
   "version": "3.6.6"
  }
 },
 "nbformat": 4,
 "nbformat_minor": 1
}
