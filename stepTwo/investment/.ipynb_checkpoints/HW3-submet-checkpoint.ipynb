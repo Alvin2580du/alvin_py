{
 "cells": [
  {
   "cell_type": "markdown",
   "metadata": {},
   "source": [
    "GROUP NUMBER:\n",
    "\n",
    "GROUP MEMBERS that participated in the production of this file:\n",
    "\n",
    "Comments:\n"
   ]
  },
  {
   "cell_type": "markdown",
   "metadata": {},
   "source": [
    "# Problem Set 3\n",
    "\n",
    "\n",
    "\n",
    "This problem set provides both computational and theoretical practice on forming mean-variance efficient portfolios and employing mean-variance mathematics.\n",
    "\n"
   ]
  },
  {
   "cell_type": "markdown",
   "metadata": {},
   "source": [
    "### 1. \n",
    "\n",
    "In order to proceed you need Microsoft Excel and file \"https://www.dropbox.com/s/5qituivg6ovlscr/Homework3.xlsx?dl=1\". \n",
    "\n",
    "This file contains data for 10 value-weighted industry portfolios monthly returns over an 90-year period.  \n",
    "\n",
    "You will be computing mean-variance efficient portfolios for these 10 industries.\n",
    "\n",
    "Find the minimum variance and tangency portfolios of the industries. \n",
    "(hint 1:  For the tangency portfolio, put everything in excess return space and use the formular we derived in class) \n",
    "\n",
    "\n",
    "(hint 2::  to find the minimum variance portfolio, look at the maximization problem of Lecture 3 and now replace the constraint that the portfolio has to have some target expected return, by the constraint that the weights have to add up to 1-- The constraint becomes 1'@ W-1 instead of ER' @ W -mutarget , so in practice you are simply replacing the vector of average returns by a vector of 1's...What does this mean? It means that a small adjustement to the formula you use to construct the tangent portfolio will deliver for you the minimum variance portfolio.\n",
    "\n",
    "\n",
    "\n",
    "Report their weights. Don't forget to normalize so they add up to 1, and be careful so the signs don't flip! \n",
    "\n",
    "Comment on the different weights applied to each industry under the MVP and Tangent portfolios\n",
    "\n",
    "\n"
   ]
  },
  {
   "cell_type": "code",
   "execution_count": 35,
   "metadata": {
    "collapsed": true
   },
   "outputs": [],
   "source": [
    "import pandas as pd\n",
    "import numpy as np\n",
    "import matplotlib.pyplot as plt\n",
    "from collections import OrderedDict\n",
    "import sys\n",
    "sys.path.append(\"D:\\\\alvin_py\\\\stepTwo\\\\investment\") # 你的路径\n",
    "from scipy.optimize import minimize"
   ]
  },
  {
   "cell_type": "code",
   "execution_count": 5,
   "metadata": {},
   "outputs": [
    {
     "data": {
      "text/html": [
       "<div>\n",
       "<style scoped>\n",
       "    .dataframe tbody tr th:only-of-type {\n",
       "        vertical-align: middle;\n",
       "    }\n",
       "\n",
       "    .dataframe tbody tr th {\n",
       "        vertical-align: top;\n",
       "    }\n",
       "\n",
       "    .dataframe thead th {\n",
       "        text-align: right;\n",
       "    }\n",
       "</style>\n",
       "<table border=\"1\" class=\"dataframe\">\n",
       "  <thead>\n",
       "    <tr style=\"text-align: right;\">\n",
       "      <th></th>\n",
       "      <th>NoDur</th>\n",
       "      <th>Durbl</th>\n",
       "      <th>Manuf</th>\n",
       "      <th>Enrgy</th>\n",
       "      <th>HiTec</th>\n",
       "      <th>Telcm</th>\n",
       "      <th>Shops</th>\n",
       "      <th>Hlth</th>\n",
       "      <th>Utils</th>\n",
       "      <th>Other</th>\n",
       "      <th>Risk-free rate</th>\n",
       "    </tr>\n",
       "  </thead>\n",
       "  <tbody>\n",
       "    <tr>\n",
       "      <th>192607</th>\n",
       "      <td>1.45</td>\n",
       "      <td>15.55</td>\n",
       "      <td>4.69</td>\n",
       "      <td>-1.18</td>\n",
       "      <td>2.90</td>\n",
       "      <td>0.83</td>\n",
       "      <td>0.11</td>\n",
       "      <td>1.77</td>\n",
       "      <td>7.04</td>\n",
       "      <td>2.16</td>\n",
       "      <td>0.22</td>\n",
       "    </tr>\n",
       "    <tr>\n",
       "      <th>192608</th>\n",
       "      <td>3.97</td>\n",
       "      <td>3.68</td>\n",
       "      <td>2.81</td>\n",
       "      <td>3.47</td>\n",
       "      <td>2.66</td>\n",
       "      <td>2.17</td>\n",
       "      <td>-0.71</td>\n",
       "      <td>4.25</td>\n",
       "      <td>-1.69</td>\n",
       "      <td>4.38</td>\n",
       "      <td>0.25</td>\n",
       "    </tr>\n",
       "    <tr>\n",
       "      <th>192609</th>\n",
       "      <td>1.14</td>\n",
       "      <td>4.80</td>\n",
       "      <td>1.15</td>\n",
       "      <td>-3.39</td>\n",
       "      <td>-0.38</td>\n",
       "      <td>2.41</td>\n",
       "      <td>0.21</td>\n",
       "      <td>0.69</td>\n",
       "      <td>2.04</td>\n",
       "      <td>0.29</td>\n",
       "      <td>0.23</td>\n",
       "    </tr>\n",
       "    <tr>\n",
       "      <th>192610</th>\n",
       "      <td>-1.24</td>\n",
       "      <td>-8.23</td>\n",
       "      <td>-3.63</td>\n",
       "      <td>-0.78</td>\n",
       "      <td>-4.58</td>\n",
       "      <td>-0.11</td>\n",
       "      <td>-2.29</td>\n",
       "      <td>-0.57</td>\n",
       "      <td>-2.63</td>\n",
       "      <td>-2.85</td>\n",
       "      <td>0.32</td>\n",
       "    </tr>\n",
       "    <tr>\n",
       "      <th>192611</th>\n",
       "      <td>5.21</td>\n",
       "      <td>-0.19</td>\n",
       "      <td>4.10</td>\n",
       "      <td>0.01</td>\n",
       "      <td>4.71</td>\n",
       "      <td>1.63</td>\n",
       "      <td>6.43</td>\n",
       "      <td>5.42</td>\n",
       "      <td>3.71</td>\n",
       "      <td>2.11</td>\n",
       "      <td>0.31</td>\n",
       "    </tr>\n",
       "  </tbody>\n",
       "</table>\n",
       "</div>"
      ],
      "text/plain": [
       "<div>\n",
       "<style scoped>\n",
       "    .dataframe tbody tr th:only-of-type {\n",
       "        vertical-align: middle;\n",
       "    }\n",
       "\n",
       "    .dataframe tbody tr th {\n",
       "        vertical-align: top;\n",
       "    }\n",
       "\n",
       "    .dataframe thead th {\n",
       "        text-align: right;\n",
       "    }\n",
       "</style>\n",
       "<table border=\"1\" class=\"dataframe\">\n",
       "  <thead>\n",
       "    <tr style=\"text-align: right;\">\n",
       "      <th></th>\n",
       "      <th>NoDur</th>\n",
       "      <th>Durbl</th>\n",
       "      <th>Manuf</th>\n",
       "      <th>Enrgy</th>\n",
       "      <th>HiTec</th>\n",
       "      <th>Telcm</th>\n",
       "      <th>Shops</th>\n",
       "      <th>Hlth</th>\n",
       "      <th>Utils</th>\n",
       "      <th>Other</th>\n",
       "      <th>Risk-free rate</th>\n",
       "    </tr>\n",
       "  </thead>\n",
       "  <tbody>\n",
       "    <tr>\n",
       "      <th>192607</th>\n",
       "      <td>1.45</td>\n",
       "      <td>15.55</td>\n",
       "      <td>4.69</td>\n",
       "      <td>-1.18</td>\n",
       "      <td>2.90</td>\n",
       "      <td>0.83</td>\n",
       "      <td>0.11</td>\n",
       "      <td>1.77</td>\n",
       "      <td>7.04</td>\n",
       "      <td>2.16</td>\n",
       "      <td>0.22</td>\n",
       "    </tr>\n",
       "    <tr>\n",
       "      <th>192608</th>\n",
       "      <td>3.97</td>\n",
       "      <td>3.68</td>\n",
       "      <td>2.81</td>\n",
       "      <td>3.47</td>\n",
       "      <td>2.66</td>\n",
       "      <td>2.17</td>\n",
       "      <td>-0.71</td>\n",
       "      <td>4.25</td>\n",
       "      <td>-1.69</td>\n",
       "      <td>4.38</td>\n",
       "      <td>0.25</td>\n",
       "    </tr>\n",
       "    <tr>\n",
       "      <th>192609</th>\n",
       "      <td>1.14</td>\n",
       "      <td>4.80</td>\n",
       "      <td>1.15</td>\n",
       "      <td>-3.39</td>\n",
       "      <td>-0.38</td>\n",
       "      <td>2.41</td>\n",
       "      <td>0.21</td>\n",
       "      <td>0.69</td>\n",
       "      <td>2.04</td>\n",
       "      <td>0.29</td>\n",
       "      <td>0.23</td>\n",
       "    </tr>\n",
       "    <tr>\n",
       "      <th>192610</th>\n",
       "      <td>-1.24</td>\n",
       "      <td>-8.23</td>\n",
       "      <td>-3.63</td>\n",
       "      <td>-0.78</td>\n",
       "      <td>-4.58</td>\n",
       "      <td>-0.11</td>\n",
       "      <td>-2.29</td>\n",
       "      <td>-0.57</td>\n",
       "      <td>-2.63</td>\n",
       "      <td>-2.85</td>\n",
       "      <td>0.32</td>\n",
       "    </tr>\n",
       "    <tr>\n",
       "      <th>192611</th>\n",
       "      <td>5.21</td>\n",
       "      <td>-0.19</td>\n",
       "      <td>4.10</td>\n",
       "      <td>0.01</td>\n",
       "      <td>4.71</td>\n",
       "      <td>1.63</td>\n",
       "      <td>6.43</td>\n",
       "      <td>5.42</td>\n",
       "      <td>3.71</td>\n",
       "      <td>2.11</td>\n",
       "      <td>0.31</td>\n",
       "    </tr>\n",
       "  </tbody>\n",
       "</table>\n",
       "</div>"
      ]
     },
     "execution_count": 5,
     "metadata": {},
     "output_type": "execute_result"
    }
   ],
   "source": [
    "dateparse = lambda dates: pd.datetime.strptime(dates, '%Y%m').strftime(\"%Y-%m\")\n",
    "\n",
    "url = \"https://www.dropbox.com/s/5qituivg6ovlscr/Homework3.xlsx?dl=1\"\n",
    "data = pd.read_excel(\"D:\\\\alvin_py\\\\stepTwo\\\\investment\\\\Homework3.xlsx\", index_col=0, date_parser=dateparse)\n",
    "data.head()"
   ]
  },
  {
   "cell_type": "code",
   "execution_count": 6,
   "metadata": {},
   "outputs": [],
   "source": [
    "def get_top_10():\n",
    "    Re_top10 = []\n",
    "    for x, y in data.iterrows():\n",
    "        rows = OrderedDict()\n",
    "        rows['NoDur'] = y['NoDur'] - y['Risk-free rate']\n",
    "        rows['Durbl'] = y['Durbl'] - y['Risk-free rate']\n",
    "        rows['Durbl'] = y['Durbl'] - y['Risk-free rate']\n",
    "        rows['Manuf'] = y['Manuf'] - y['Risk-free rate']\n",
    "        rows['Enrgy'] = y['Enrgy'] - y['Risk-free rate']\n",
    "        rows['HiTec'] = y['HiTec'] - y['Risk-free rate']\n",
    "        rows['Telcm'] = y['Telcm'] - y['Risk-free rate']\n",
    "        rows['Shops'] = y['NoDur'] - y['Risk-free rate']\n",
    "        rows['Hlth '] = y['Hlth '] - y['Risk-free rate']\n",
    "        rows['Utils'] = y['Utils'] - y['Risk-free rate']\n",
    "        rows['Other'] = y['Other'] - y['Risk-free rate']\n",
    "        Re_top10.append(rows)\n",
    "\n",
    "    Re_top10_df = pd.DataFrame(Re_top10, index=data.index)\n",
    "    return Re_top10_df"
   ]
  },
  {
   "cell_type": "code",
   "execution_count": 11,
   "metadata": {},
   "outputs": [],
   "source": [
    "def get_msc(df):\n",
    "    return df.mean(), df.std(), df.cov()"
   ]
  },
  {
   "cell_type": "code",
   "execution_count": 56,
   "metadata": {},
   "outputs": [
    {
     "data": {
      "text/html": [
       "<div>\n",
       "<style scoped>\n",
       "    .dataframe tbody tr th:only-of-type {\n",
       "        vertical-align: middle;\n",
       "    }\n",
       "\n",
       "    .dataframe tbody tr th {\n",
       "        vertical-align: top;\n",
       "    }\n",
       "\n",
       "    .dataframe thead th {\n",
       "        text-align: right;\n",
       "    }\n",
       "</style>\n",
       "<table border=\"1\" class=\"dataframe\">\n",
       "  <thead>\n",
       "    <tr style=\"text-align: right;\">\n",
       "      <th></th>\n",
       "      <th>NoDur</th>\n",
       "      <th>Durbl</th>\n",
       "      <th>Manuf</th>\n",
       "      <th>Enrgy</th>\n",
       "      <th>HiTec</th>\n",
       "      <th>Telcm</th>\n",
       "      <th>Shops</th>\n",
       "      <th>Hlth</th>\n",
       "      <th>Utils</th>\n",
       "      <th>Other</th>\n",
       "    </tr>\n",
       "  </thead>\n",
       "  <tbody>\n",
       "    <tr>\n",
       "      <th>192607</th>\n",
       "      <td>1.23</td>\n",
       "      <td>15.33</td>\n",
       "      <td>4.47</td>\n",
       "      <td>-1.40</td>\n",
       "      <td>2.68</td>\n",
       "      <td>0.61</td>\n",
       "      <td>1.23</td>\n",
       "      <td>1.55</td>\n",
       "      <td>6.82</td>\n",
       "      <td>1.94</td>\n",
       "    </tr>\n",
       "    <tr>\n",
       "      <th>192608</th>\n",
       "      <td>3.72</td>\n",
       "      <td>3.43</td>\n",
       "      <td>2.56</td>\n",
       "      <td>3.22</td>\n",
       "      <td>2.41</td>\n",
       "      <td>1.92</td>\n",
       "      <td>3.72</td>\n",
       "      <td>4.00</td>\n",
       "      <td>-1.94</td>\n",
       "      <td>4.13</td>\n",
       "    </tr>\n",
       "  </tbody>\n",
       "</table>\n",
       "</div>"
      ],
      "text/plain": [
       "<div>\n",
       "<style scoped>\n",
       "    .dataframe tbody tr th:only-of-type {\n",
       "        vertical-align: middle;\n",
       "    }\n",
       "\n",
       "    .dataframe tbody tr th {\n",
       "        vertical-align: top;\n",
       "    }\n",
       "\n",
       "    .dataframe thead th {\n",
       "        text-align: right;\n",
       "    }\n",
       "</style>\n",
       "<table border=\"1\" class=\"dataframe\">\n",
       "  <thead>\n",
       "    <tr style=\"text-align: right;\">\n",
       "      <th></th>\n",
       "      <th>NoDur</th>\n",
       "      <th>Durbl</th>\n",
       "      <th>Manuf</th>\n",
       "      <th>Enrgy</th>\n",
       "      <th>HiTec</th>\n",
       "      <th>Telcm</th>\n",
       "      <th>Shops</th>\n",
       "      <th>Hlth</th>\n",
       "      <th>Utils</th>\n",
       "      <th>Other</th>\n",
       "    </tr>\n",
       "  </thead>\n",
       "  <tbody>\n",
       "    <tr>\n",
       "      <th>192607</th>\n",
       "      <td>1.23</td>\n",
       "      <td>15.33</td>\n",
       "      <td>4.47</td>\n",
       "      <td>-1.40</td>\n",
       "      <td>2.68</td>\n",
       "      <td>0.61</td>\n",
       "      <td>1.23</td>\n",
       "      <td>1.55</td>\n",
       "      <td>6.82</td>\n",
       "      <td>1.94</td>\n",
       "    </tr>\n",
       "    <tr>\n",
       "      <th>192608</th>\n",
       "      <td>3.72</td>\n",
       "      <td>3.43</td>\n",
       "      <td>2.56</td>\n",
       "      <td>3.22</td>\n",
       "      <td>2.41</td>\n",
       "      <td>1.92</td>\n",
       "      <td>3.72</td>\n",
       "      <td>4.00</td>\n",
       "      <td>-1.94</td>\n",
       "      <td>4.13</td>\n",
       "    </tr>\n",
       "  </tbody>\n",
       "</table>\n",
       "</div>"
      ]
     },
     "execution_count": 56,
     "metadata": {},
     "output_type": "execute_result"
    }
   ],
   "source": [
    "Re_top10_df = get_top_10()\n",
    "Re_top10_df.head(2)"
   ]
  },
  {
   "cell_type": "code",
   "execution_count": 57,
   "metadata": {
    "collapsed": true
   },
   "outputs": [
    {
     "data": {
      "text/plain": [
       "(NoDur    0.703742\n",
       " Durbl    0.816913\n",
       " Manuf    0.739448\n",
       " Enrgy    0.742180\n",
       " HiTec    0.812834\n",
       " Telcm    0.587128\n",
       " Shops    0.703742\n",
       " Hlth     0.824584\n",
       " Utils    0.601674\n",
       " Other    0.629392\n",
       " dtype: float64, NoDur    4.626245\n",
       " Durbl    7.764269\n",
       " Manuf    6.308047\n",
       " Enrgy    6.097319\n",
       " HiTec    7.319941\n",
       " Telcm    4.608105\n",
       " Shops    4.626245\n",
       " Hlth     5.603567\n",
       " Utils    5.572461\n",
       " Other    6.476691\n",
       " dtype: float64,            NoDur      Durbl      Manuf      Enrgy      HiTec      Telcm  \\\n",
       " NoDur  21.402147  26.776604  24.856814  17.609312  25.061231  14.496576   \n",
       " Durbl  26.776604  60.283866  42.790995  29.401838  44.154922  22.674181   \n",
       " Manuf  24.856814  42.790995  39.791458  28.378263  39.903672  19.994928   \n",
       " Enrgy  17.609312  29.401838  28.378263  37.177302  27.683532  14.514477   \n",
       " HiTec  25.061231  44.154922  39.903672  27.683532  53.581535  23.205089   \n",
       " Telcm  14.496576  22.674181  19.994928  14.514477  23.205089  21.234633   \n",
       " Shops  21.402147  26.776604  24.856814  17.609312  25.061231  14.496576   \n",
       " Hlth   20.802765  27.685748  26.836471  19.315567  29.642558  15.631705   \n",
       " Utils  18.241880  26.820796  24.559749  21.053395  25.330366  16.235567   \n",
       " Other  25.354565  40.597960  37.106639  27.465180  38.044668  21.111768   \n",
       " \n",
       "            Shops      Hlth       Utils      Other  \n",
       " NoDur  21.402147  20.802765  18.241880  25.354565  \n",
       " Durbl  26.776604  27.685748  26.820796  40.597960  \n",
       " Manuf  24.856814  26.836471  24.559749  37.106639  \n",
       " Enrgy  17.609312  19.315567  21.053395  27.465180  \n",
       " HiTec  25.061231  29.642558  25.330366  38.044668  \n",
       " Telcm  14.496576  15.631705  16.235567  21.111768  \n",
       " Shops  21.402147  20.802765  18.241880  25.354565  \n",
       " Hlth   20.802765  31.399961  19.521025  26.853848  \n",
       " Utils  18.241880  19.521025  31.052318  26.255535  \n",
       " Other  25.354565  26.853848  26.255535  41.947525  )"
      ]
     },
     "execution_count": 57,
     "metadata": {},
     "output_type": "execute_result"
    }
   ],
   "source": [
    "Mue_top10, Std_top10, Cov_top10 = get_msc(Re_top10_df)\n",
    "Mue_top10, Std_top10, Cov_top10"
   ]
  },
  {
   "cell_type": "code",
   "execution_count": 80,
   "metadata": {},
   "outputs": [
    {
     "name": "stdout",
     "output_type": "stream",
     "text": [
      "10\n"
     ]
    },
    {
     "data": {
      "text/plain": [
       "array([0.1, 0.1, 0.1, 0.1, 0.1, 0.1, 0.1, 0.1, 0.1, 0.1])"
      ]
     },
     "execution_count": 80,
     "metadata": {},
     "output_type": "execute_result"
    }
   ],
   "source": [
    "Rf_mean = np.mean(data['Risk-free rate'])\n",
    "print(Re_top10_df.shape[1])\n",
    "w_zero = np.ones(Re_top10_df.shape[1]) / Re_top10_df.shape[1]\n",
    "w_zero"
   ]
  },
  {
   "cell_type": "code",
   "execution_count": 81,
   "metadata": {},
   "outputs": [
    {
     "data": {
      "text/plain": [
       "0.716163704396632"
      ]
     },
     "execution_count": 81,
     "metadata": {},
     "output_type": "execute_result"
    }
   ],
   "source": [
    "# MVP，最小方差投资组合\n",
    "w_zero @ Re_top10_df.mean()"
   ]
  },
  {
   "cell_type": "code",
   "execution_count": 97,
   "metadata": {},
   "outputs": [],
   "source": [
    "def get_sharp_ratio(w, m=Mue_top10, c=Cov_top10):\n",
    "    return w @ m.values / np.sqrt(w @ c @ w)"
   ]
  },
  {
   "cell_type": "code",
   "execution_count": 98,
   "metadata": {},
   "outputs": [
    {
     "name": "stdout",
     "output_type": "stream",
     "text": [
      "0.1399030226981996\n"
     ]
    }
   ],
   "source": [
    "print(get_sharp_ratio(w=w_zero))"
   ]
  },
  {
   "cell_type": "code",
   "execution_count": 99,
   "metadata": {},
   "outputs": [],
   "source": [
    "cons = ({'type': 'eq', 'fun': lambda W: W.sum() - 1})"
   ]
  },
  {
   "cell_type": "code",
   "execution_count": 100,
   "metadata": {},
   "outputs": [],
   "source": [
    "def get_mue(w, m=Mue_top10):\n",
    "    return w @ m.values"
   ]
  },
  {
   "cell_type": "code",
   "execution_count": 101,
   "metadata": {},
   "outputs": [],
   "source": [
    "def get_var(w, c=Cov_top10):\n",
    "    return w @ c @ w"
   ]
  },
  {
   "cell_type": "code",
   "execution_count": 102,
   "metadata": {},
   "outputs": [],
   "source": []
  },
  {
   "cell_type": "code",
   "execution_count": 102,
   "metadata": {},
   "outputs": [
    {
     "data": {
      "text/plain": [
       "     fun: 13.82303184241512\n",
       "     jac: array([27.64593625, 27.64652967, 27.64618778, 27.64603615, 27.64561105,\n",
       "       27.64592969, 27.64593649, 27.64641261, 27.64639568, 27.64570069])\n",
       " message: 'Optimization terminated successfully.'\n",
       "    nfev: 133\n",
       "     nit: 10\n",
       "    njev: 10\n",
       "  status: 0\n",
       " success: True\n",
       "       x: array([ 0.37194169, -0.07325277, -0.1347425 ,  0.22389148, -0.11558206,\n",
       "        0.55145811,  0.37194169,  0.06723138,  0.07879124, -0.34167825])"
      ]
     },
     "execution_count": 102,
     "metadata": {},
     "output_type": "execute_result"
    }
   ],
   "source": [
    "MVP_result = minimize(get_var, w_zero, constraints=cons)\n",
    "MVP_result"
   ]
  },
  {
   "cell_type": "code",
   "execution_count": 103,
   "metadata": {},
   "outputs": [
    {
     "data": {
      "text/plain": [
       "13.82303184241512"
      ]
     },
     "execution_count": 103,
     "metadata": {},
     "output_type": "execute_result"
    }
   ],
   "source": [
    "min_var = MVP_result.fun\n",
    "min_var"
   ]
  },
  {
   "cell_type": "code",
   "execution_count": 104,
   "metadata": {},
   "outputs": [
    {
     "data": {
      "text/plain": [
       "array([ 0.37194169, -0.07325277, -0.1347425 ,  0.22389148, -0.11558206,\n",
       "        0.55145811,  0.37194169,  0.06723138,  0.07879124, -0.34167825])"
      ]
     },
     "execution_count": 104,
     "metadata": {},
     "output_type": "execute_result"
    }
   ],
   "source": [
    "min_x = MVP_result.x\n",
    "min_x"
   ]
  },
  {
   "cell_type": "code",
   "execution_count": 105,
   "metadata": {},
   "outputs": [
    {
     "data": {
      "text/plain": [
       "array([ -7733.84262215,   9309.60501403,   7039.08204775,  -6158.72735612,\n",
       "         5840.83935051,  -4421.84376343,  -7733.84266919, -13426.35897922,\n",
       "         1998.05514763,  15288.0338302 ])"
      ]
     },
     "execution_count": 105,
     "metadata": {},
     "output_type": "execute_result"
    }
   ],
   "source": [
    "Tang_result = minimize(get_sharp_ratio, w_zero, constraints=cons)\n",
    "min_x = Tang_result.x\n",
    "min_x"
   ]
  },
  {
   "cell_type": "code",
   "execution_count": null,
   "metadata": {},
   "outputs": [],
   "source": [
    "w_MVP = MVP_result.x"
   ]
  },
  {
   "cell_type": "code",
   "execution_count": null,
   "metadata": {},
   "outputs": [
    {
     "ename": "LinAlgError",
     "evalue": "singular matrix",
     "output_type": "error",
     "traceback": [
      "\u001b[1;31m---------------------------------------------------------------------------\u001b[0m",
      "\u001b[1;31mLinAlgError\u001b[0m                               Traceback (most recent call last)",
      "\u001b[1;32m<ipython-input-111-e6f4ec115f23>\u001b[0m in \u001b[0;36m<module>\u001b[1;34m\u001b[0m\n\u001b[1;32m----> 1\u001b[1;33m \u001b[0mcov_inv\u001b[0m \u001b[1;33m=\u001b[0m \u001b[0mnp\u001b[0m\u001b[1;33m.\u001b[0m\u001b[0mmatrix\u001b[0m\u001b[1;33m(\u001b[0m\u001b[0mCov_top10\u001b[0m\u001b[1;33m)\u001b[0m\u001b[1;33m.\u001b[0m\u001b[0mI\u001b[0m\u001b[1;33m\u001b[0m\u001b[0m\n\u001b[0m",
      "\u001b[1;32mC:\\Python35\\lib\\site-packages\\numpy\\matrixlib\\defmatrix.py\u001b[0m in \u001b[0;36mgetI\u001b[1;34m(self)\u001b[0m\n\u001b[0;32m    829\u001b[0m         \u001b[1;32melse\u001b[0m\u001b[1;33m:\u001b[0m\u001b[1;33m\u001b[0m\u001b[0m\n\u001b[0;32m    830\u001b[0m             \u001b[1;32mfrom\u001b[0m \u001b[0mnumpy\u001b[0m\u001b[1;33m.\u001b[0m\u001b[0mdual\u001b[0m \u001b[1;32mimport\u001b[0m \u001b[0mpinv\u001b[0m \u001b[1;32mas\u001b[0m \u001b[0mfunc\u001b[0m\u001b[1;33m\u001b[0m\u001b[0m\n\u001b[1;32m--> 831\u001b[1;33m         \u001b[1;32mreturn\u001b[0m \u001b[0masmatrix\u001b[0m\u001b[1;33m(\u001b[0m\u001b[0mfunc\u001b[0m\u001b[1;33m(\u001b[0m\u001b[0mself\u001b[0m\u001b[1;33m)\u001b[0m\u001b[1;33m)\u001b[0m\u001b[1;33m\u001b[0m\u001b[0m\n\u001b[0m\u001b[0;32m    832\u001b[0m \u001b[1;33m\u001b[0m\u001b[0m\n\u001b[0;32m    833\u001b[0m     \u001b[1;32mdef\u001b[0m \u001b[0mgetA\u001b[0m\u001b[1;33m(\u001b[0m\u001b[0mself\u001b[0m\u001b[1;33m)\u001b[0m\u001b[1;33m:\u001b[0m\u001b[1;33m\u001b[0m\u001b[0m\n",
      "\u001b[1;32mC:\\Python35\\lib\\site-packages\\scipy\\linalg\\basic.py\u001b[0m in \u001b[0;36minv\u001b[1;34m(a, overwrite_a, check_finite)\u001b[0m\n\u001b[0;32m    973\u001b[0m         \u001b[0minv_a\u001b[0m\u001b[1;33m,\u001b[0m \u001b[0minfo\u001b[0m \u001b[1;33m=\u001b[0m \u001b[0mgetri\u001b[0m\u001b[1;33m(\u001b[0m\u001b[0mlu\u001b[0m\u001b[1;33m,\u001b[0m \u001b[0mpiv\u001b[0m\u001b[1;33m,\u001b[0m \u001b[0mlwork\u001b[0m\u001b[1;33m=\u001b[0m\u001b[0mlwork\u001b[0m\u001b[1;33m,\u001b[0m \u001b[0moverwrite_lu\u001b[0m\u001b[1;33m=\u001b[0m\u001b[1;36m1\u001b[0m\u001b[1;33m)\u001b[0m\u001b[1;33m\u001b[0m\u001b[0m\n\u001b[0;32m    974\u001b[0m     \u001b[1;32mif\u001b[0m \u001b[0minfo\u001b[0m \u001b[1;33m>\u001b[0m \u001b[1;36m0\u001b[0m\u001b[1;33m:\u001b[0m\u001b[1;33m\u001b[0m\u001b[0m\n\u001b[1;32m--> 975\u001b[1;33m         \u001b[1;32mraise\u001b[0m \u001b[0mLinAlgError\u001b[0m\u001b[1;33m(\u001b[0m\u001b[1;34m\"singular matrix\"\u001b[0m\u001b[1;33m)\u001b[0m\u001b[1;33m\u001b[0m\u001b[0m\n\u001b[0m\u001b[0;32m    976\u001b[0m     \u001b[1;32mif\u001b[0m \u001b[0minfo\u001b[0m \u001b[1;33m<\u001b[0m \u001b[1;36m0\u001b[0m\u001b[1;33m:\u001b[0m\u001b[1;33m\u001b[0m\u001b[0m\n\u001b[0;32m    977\u001b[0m         raise ValueError('illegal value in %d-th argument of internal '\n",
      "\u001b[1;31mLinAlgError\u001b[0m: singular matrix"
     ]
    }
   ],
   "source": [
    "cov_inv = np.matrix(Cov_top10).I"
   ]
  },
  {
   "cell_type": "code",
   "execution_count": 108,
   "metadata": {},
   "outputs": [
    {
     "ename": "NameError",
     "evalue": "name 'cov_inv' is not defined",
     "output_type": "error",
     "traceback": [
      "\u001b[1;31m---------------------------------------------------------------------------\u001b[0m",
      "\u001b[1;31mNameError\u001b[0m                                 Traceback (most recent call last)",
      "\u001b[1;32m<ipython-input-108-e63964c09efe>\u001b[0m in \u001b[0;36m<module>\u001b[1;34m\u001b[0m\n\u001b[1;32m----> 1\u001b[1;33m \u001b[0mw\u001b[0m \u001b[1;33m=\u001b[0m \u001b[0mcov_inv\u001b[0m \u001b[1;33m@\u001b[0m \u001b[0mMue_top10\u001b[0m\u001b[1;33m.\u001b[0m\u001b[0mvalues\u001b[0m\u001b[1;33m\u001b[0m\u001b[0m\n\u001b[0m\u001b[0;32m      2\u001b[0m \u001b[0mw_Tang\u001b[0m \u001b[1;33m=\u001b[0m \u001b[0mw\u001b[0m\u001b[1;33m/\u001b[0m\u001b[0mw\u001b[0m\u001b[1;33m.\u001b[0m\u001b[0msum\u001b[0m\u001b[1;33m(\u001b[0m\u001b[1;33m)\u001b[0m\u001b[1;33m\u001b[0m\u001b[0m\n\u001b[0;32m      3\u001b[0m \u001b[0mprint\u001b[0m\u001b[1;33m(\u001b[0m\u001b[0mw_Tang\u001b[0m\u001b[1;33m)\u001b[0m\u001b[1;33m\u001b[0m\u001b[0m\n\u001b[0;32m      4\u001b[0m \u001b[0mprint\u001b[0m\u001b[1;33m(\u001b[0m\u001b[0mw_Tang\u001b[0m\u001b[1;33m.\u001b[0m\u001b[0msum\u001b[0m\u001b[1;33m(\u001b[0m\u001b[1;33m)\u001b[0m\u001b[1;33m)\u001b[0m\u001b[1;33m\u001b[0m\u001b[0m\n",
      "\u001b[1;31mNameError\u001b[0m: name 'cov_inv' is not defined"
     ]
    }
   ],
   "source": [
    "w = cov_inv @ Mue_top10.values      \n",
    "w_Tang = w/w.sum()  \n",
    "print(w_Tang)\n",
    "print(w_Tang.sum())"
   ]
  },
  {
   "cell_type": "code",
   "execution_count": 112,
   "metadata": {},
   "outputs": [
    {
     "data": {
      "text/plain": [
       "-0.006085639989637262"
      ]
     },
     "execution_count": 112,
     "metadata": {},
     "output_type": "execute_result"
    }
   ],
   "source": [
    "get_sharp_ratio(Tang_result.x)"
   ]
  },
  {
   "cell_type": "code",
   "execution_count": 113,
   "metadata": {},
   "outputs": [
    {
     "ename": "NameError",
     "evalue": "name 'w_Tang' is not defined",
     "output_type": "error",
     "traceback": [
      "\u001b[1;31m---------------------------------------------------------------------------\u001b[0m",
      "\u001b[1;31mNameError\u001b[0m                                 Traceback (most recent call last)",
      "\u001b[1;32m<ipython-input-113-10a80796634d>\u001b[0m in \u001b[0;36m<module>\u001b[1;34m\u001b[0m\n\u001b[1;32m----> 1\u001b[1;33m \u001b[0mget_sharp_ratio\u001b[0m\u001b[1;33m(\u001b[0m\u001b[0mw_Tang\u001b[0m\u001b[1;33m)\u001b[0m\u001b[1;33m\u001b[0m\u001b[0m\n\u001b[0m",
      "\u001b[1;31mNameError\u001b[0m: name 'w_Tang' is not defined"
     ]
    }
   ],
   "source": [
    "get_sharp_ratio(w_Tang)"
   ]
  },
  {
   "cell_type": "code",
   "execution_count": null,
   "metadata": {},
   "outputs": [],
   "source": []
  },
  {
   "cell_type": "code",
   "execution_count": null,
   "metadata": {},
   "outputs": [],
   "source": []
  },
  {
   "cell_type": "code",
   "execution_count": null,
   "metadata": {},
   "outputs": [],
   "source": []
  },
  {
   "cell_type": "markdown",
   "metadata": {},
   "source": [
    "### 2. \n",
    "\n",
    "a)Compute the means and standard deviations of the minimum variance portfolio and Tangent portfolios.  \n",
    "\n",
    "b)Plot the mean-standard deviation efficient frontier of these 10 industries. Plot the 10 industries as well on a mean-standard deviation diagram.  \n",
    "- Do that for the case that you have free borrowing and lending like we did in the beggining of notebook 4, where we can simply scale up and down the tangency portfolio weights, and also for the case that you cannot borrow or invest in the risk-free asset-- for this case you will need to use the maximizer that we use in the end of notebook 4.\n",
    "\n",
    "c)Plot the mean-variance efficient frontier of these 10 industries. Plot the 10 industries as well on a mean-standard deviation diagram. \n",
    "- Do that for the case that you have free borrowing and lending like we did in the beggining of notebook 4, where we can simply scale up and down the tangency portfolio weights, and also for the case that you cannot borrow or invest in the risk-free asset-- for this case you will need to use the maximizer that we use in the end of notebook 4.\n",
    "\n",
    "\n",
    "\n",
    "\n",
    "\n"
   ]
  },
  {
   "cell_type": "code",
   "execution_count": null,
   "metadata": {
    "collapsed": true
   },
   "outputs": [],
   "source": [
    "get_mue(min_x)"
   ]
  },
  {
   "cell_type": "code",
   "execution_count": null,
   "metadata": {},
   "outputs": [],
   "source": [
    "get_var(min_x)"
   ]
  },
  {
   "cell_type": "code",
   "execution_count": null,
   "metadata": {},
   "outputs": [],
   "source": [
    "get_mue(w_Tang)"
   ]
  },
  {
   "cell_type": "code",
   "execution_count": null,
   "metadata": {},
   "outputs": [],
   "source": [
    "get_var(w_Tang)"
   ]
  },
  {
   "cell_type": "code",
   "execution_count": null,
   "metadata": {},
   "outputs": [],
   "source": [
    "\n",
    "std_mu = pd.DataFrame([Mue_top10 + Rf_mean, Std_top10], index=['Mu_top10', 'Std_top10']).T\n",
    "std_mu"
   ]
  },
  {
   "cell_type": "code",
   "execution_count": null,
   "metadata": {},
   "outputs": [],
   "source": [
    "targetmue = np.linspace(0.6, 1.2, 60)\n",
    "\n",
    "ef_std_mu = []\n",
    "\n",
    "for mue in targetmue: \n",
    "    cons = ({'type': 'eq', 'fun': lambda W: W_Mue(W) - mue}, \n",
    "            {'type': 'eq', 'fun': lambda W: W.sum() - 1}) \n",
    "    result = minimize(W_Var, w0, constraints=cons)\n",
    "    w = result.x\n",
    "    std = result.fun ** 0.5  \n",
    "    ef_std_mu.append([mue + Rf, std]) \n",
    "ef_std_mu = np.array(ef_std_mu)  \n",
    "ef_std_mu"
   ]
  },
  {
   "cell_type": "code",
   "execution_count": null,
   "metadata": {},
   "outputs": [],
   "source": [
    "plt.xlabel('standard deviation')\n",
    "plt.ylabel('expected return')\n",
    "plt.title('Efficient Frontier: Mu-Std ')\n",
    "\n",
    "plt.scatter(ef_std_mu[:, 1], ef_std_mu[:, 0])\n",
    "for i in std_mu.index:\n",
    "    plt.text(std_mu.loc[i, 'Std'], std_mu.loc[i, 'Mu'], i)"
   ]
  },
  {
   "cell_type": "code",
   "execution_count": null,
   "metadata": {},
   "outputs": [],
   "source": [
    "plt.xlabel('standard deviation')\n",
    "plt.ylabel('expected return')\n",
    "plt.title('Efficient Frontier: Mu-Std ')\n",
    "\n",
    "plt.scatter(ef_std_mu[:, 1] ** 2, ef_std_mu[:, 0])\n",
    "for i in std_mu.index:\n",
    "    plt.text(std_mu.loc[i, 'Std'] ** 2, std_mu.loc[i, 'Mu'], i)"
   ]
  },
  {
   "cell_type": "code",
   "execution_count": null,
   "metadata": {},
   "outputs": [],
   "source": []
  },
  {
   "cell_type": "code",
   "execution_count": null,
   "metadata": {},
   "outputs": [],
   "source": []
  },
  {
   "cell_type": "code",
   "execution_count": null,
   "metadata": {},
   "outputs": [],
   "source": []
  },
  {
   "cell_type": "markdown",
   "metadata": {},
   "source": [
    "### 3. \n",
    "\n",
    "a)Comment on the reliability of the mean return estimates for each industry.\n",
    "\n",
    "b)Describe how you would evaluate if they are well estimated.\n",
    "\n",
    "c)Construct the 95% confidence interval for the estimator of each industry expected return.\n",
    "\n",
    "\n",
    "d)Artificially change the mean return estimates of each industry by a one standard error increase.  How much does the Tangent portfolio change?  Does the efficient frontier change a lot or a little? What does that teach us?\n",
    " \n",
    "- Do that for the case that you have free borrowing and lending like we did in the beggining of notebook 4, where we can simply scale up and down the tangency portfolio weights, and also for the case that you cannot borrow or invest in the risk-free asset-- for this case you will need to use the maximizer that we use in the end of notebook 4.\n"
   ]
  },
  {
   "cell_type": "code",
   "execution_count": null,
   "metadata": {
    "collapsed": true
   },
   "outputs": [],
   "source": [
    "std_mu['95%CI_lower'] = std_mu['Mu'] - 1.64 * (std_mu['Std'] / (Re.shape[0] ** .5) )\n",
    "std_mu['95%CI_higher'] = std_mu['Mu'] + 1.64 * (std_mu['Std'] / (Re.shape[0] ** .5) )\n",
    "std_mu"
   ]
  },
  {
   "cell_type": "code",
   "execution_count": null,
   "metadata": {},
   "outputs": [],
   "source": [
    "#重新定义Mue，然后把第一题的东西做一遍\n",
    "Mue_L = std_mu['95%CI_lower']\n",
    "Mue_H = std_mu['95%CI_higher']"
   ]
  },
  {
   "cell_type": "markdown",
   "metadata": {},
   "source": [
    "### 4. \n",
    "\n",
    "a) Comment on the reliability of the covariance matrix estimate.  \n",
    "\n",
    "b) First,lets ignore covaraince terms:  assume that all covariances are zero and recompute the efficient frontier using the diagonal matrix of variances as the covariance matrix. (you might find the fucntion diag() from the numpy package very useful here). For this one you can focus on the case with free borrowing and lending. Report the tangency portfolio weights.\n",
    "\n",
    "c)Then, lets also ignore variance terms: assume very simply that the covariance matrix is just the identity matrix (i.e., a matrix of ones along the diagonal and zeros everywhere else). Compute tangency portfolio weights\n",
    "\n",
    "d) Now lets assume that the average returns are the same, replicated the analysis in (c), look at the weights, what portfolio is this? \n",
    "\n",
    "d) Does the mean-variance frontier change a lot or a little, relative to the analysis in 3)?  \n",
    "\n",
    "e) Discuss how important are the covariance terms relative to the variance terms.\n",
    "\n"
   ]
  },
  {
   "cell_type": "code",
   "execution_count": null,
   "metadata": {
    "collapsed": true
   },
   "outputs": [],
   "source": [
    "#重新定义Cov，然后把第一题的东西做一遍\n",
    "Cov_Diag = np.diag(np.diag(Cov))\n",
    "Cov_Diag"
   ]
  },
  {
   "cell_type": "code",
   "execution_count": null,
   "metadata": {},
   "outputs": [],
   "source": [
    "Cov_Zdiag = Cov - Cov_Diag\n",
    "Cov_Zdiag"
   ]
  },
  {
   "cell_type": "markdown",
   "metadata": {
    "collapsed": true
   },
   "source": [
    "### 5. \n",
    "\n",
    "a) construct the portfolios returns for the 4 different approaches discussed in 3 and 4:tangent portfolio, minimum variance portfolio, minimum variance portfolio that ignores covariance terms, minimum variance portfolio that ignore covariance terms and assume variances are the same.\n",
    "\n",
    "\n",
    "b) report mean returns for 4 portfolios\n",
    "\n",
    "c) report mean returns in excess of the risk-free rate\n",
    "\n",
    "d) Report standard deviations\n",
    "\n",
    "e) report portfolio sharpe ratios by dividing the answer in (c) by the answer in (d)\n",
    "\n",
    "f) Discuss the results. Is it surprising what you find? What does that teach us about the different approaches?\n",
    "\n",
    "g) Suggest an empirical approach to learn even more about which strategy is better (no need to implement just discuss) \n"
   ]
  },
  {
   "cell_type": "code",
   "execution_count": null,
   "metadata": {
    "collapsed": true
   },
   "outputs": [],
   "source": []
  },
  {
   "cell_type": "markdown",
   "metadata": {},
   "source": [
    "## MORE QUESTIONS WILL BE ADDED ON THURSDAY"
   ]
  }
 ],
 "metadata": {
  "kernelspec": {
   "display_name": "Python 3",
   "language": "python",
   "name": "python3"
  },
  "language_info": {
   "codemirror_mode": {
    "name": "ipython",
    "version": 3
   },
   "file_extension": ".py",
   "mimetype": "text/x-python",
   "name": "python",
   "nbconvert_exporter": "python",
   "pygments_lexer": "ipython3",
   "version": "3.6.6"
  }
 },
 "nbformat": 4,
 "nbformat_minor": 1
}
