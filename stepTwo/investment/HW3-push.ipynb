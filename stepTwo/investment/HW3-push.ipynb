{
 "cells": [
  {
   "cell_type": "markdown",
   "metadata": {},
   "source": [
    "GROUP NUMBER:\n",
    "\n",
    "GROUP MEMBERS that participated in the production of this file:\n",
    "\n",
    "Comments:\n"
   ]
  },
  {
   "cell_type": "code",
   "execution_count": 5,
   "metadata": {},
   "outputs": [],
   "source": [
    "import pandas as pd\n",
    "import numpy as np\n",
    "import matplotlib.pyplot as plt\n",
    "from scipy.optimize import minimize\n",
    "from collections import OrderedDict"
   ]
  },
  {
   "cell_type": "code",
   "execution_count": null,
   "metadata": {},
   "outputs": [],
   "source": [
    ""
   ]
  },
  {
   "cell_type": "markdown",
   "metadata": {},
   "source": [
    "# Problem Set 3\n",
    "\n",
    "\n",
    "\n",
    "This problem set provides both computational and theoretical practice on forming mean-variance efficient portfolios and employing mean-variance mathematics.\n",
    "\n"
   ]
  },
  {
   "cell_type": "markdown",
   "metadata": {},
   "source": [
    "### 1. \n",
    "\n",
    "In order to proceed you need Microsoft Excel and file \"https://www.dropbox.com/s/5qituivg6ovlscr/Homework3.xlsx?dl=1\". \n",
    "\n",
    "This file contains data for 10 value-weighted industry portfolios monthly returns over an 90-year period.  \n",
    "\n",
    "You will be computing mean-variance efficient portfolios for these 10 industries.\n",
    "\n",
    "Find the minimum variance and tangency portfolios of the industries. \n",
    "(hint 1:  For the tangency portfolio, put everything in excess return space and use the formular we derived in class) \n",
    "\n",
    "\n",
    "(hint 2::  to find the minimum variance portfolio, look at the maximization problem of Lecture 3 and now replace the constraint that the portfolio has to have some target expected return, by the constraint that the weights have to add up to 1-- The constraint becomes 1'@ W-1 instead of ER' @ W -mutarget , so in practice you are simply replacing the vector of average returns by a vector of 1's...What does this mean? It means that a small adjustement to the formula you use to construct the tangent portfolio will deliver for you the minimum variance portfolio.\n",
    "\n",
    "\n",
    "\n",
    "Report their weights. Don't forget to normalize so they add up to 1, and be careful so the signs don't flip! \n",
    "\n",
    "Comment on the different weights applied to each industry under the MVP and Tangent portfolios\n",
    "\n",
    "\n"
   ]
  },
  {
   "cell_type": "code",
   "execution_count": 6,
   "metadata": {},
   "outputs": [],
   "source": [
    "dateparse = lambda dates: pd.datetime.strptime(dates, '%Y%m').strftime(\"%Y-%m\")\n",
    "data = pd.read_excel('Homework3.xlsx', index_col=0, date_parser=dateparse)"
   ]
  },
  {
   "cell_type": "code",
   "execution_count": 3,
   "metadata": {},
   "outputs": [],
   "source": [
    "def get_top_10():\n",
    "    Re_top10 = []\n",
    "    for x, y in data.iterrows():\n",
    "        rows = OrderedDict()\n",
    "        rows['NoDur'] = y['NoDur'] - y['Risk-free rate']\n",
    "        rows['Durbl'] = y['Durbl'] - y['Risk-free rate']\n",
    "        rows['Durbl'] = y['Durbl'] - y['Risk-free rate']\n",
    "        rows['Manuf'] = y['Manuf'] - y['Risk-free rate']\n",
    "        rows['Enrgy'] = y['Enrgy'] - y['Risk-free rate']\n",
    "        rows['HiTec'] = y['HiTec'] - y['Risk-free rate']\n",
    "        rows['Telcm'] = y['Telcm'] - y['Risk-free rate']\n",
    "        rows['Shops'] = y['NoDur'] - y['Risk-free rate']\n",
    "        rows['Hlth '] = y['Hlth '] - y['Risk-free rate']\n",
    "        rows['Utils'] = y['Utils'] - y['Risk-free rate']\n",
    "        rows['Other'] = y['Other'] - y['Risk-free rate']\n",
    "        Re_top10.append(rows)\n",
    "\n",
    "    Re_top10_df = pd.DataFrame(Re_top10, index=data.index)\n",
    "    return Re_top10_df"
   ]
  },
  {
   "cell_type": "code",
   "execution_count": 7,
   "metadata": {},
   "outputs": [
    {
     "name": "stdout",
     "output_type": "stream",
     "text": [
      "        NoDur  Durbl  Manuf  Enrgy  HiTec  Telcm  Shops  Hlth   Utils  Other\n",
      "192607   1.23  15.33   4.47  -1.40   2.68   0.61   1.23   1.55   6.82   1.94\n",
      "192608   3.72   3.43   2.56   3.22   2.41   1.92   3.72   4.00  -1.94   4.13\n",
      "192609   0.91   4.57   0.92  -3.62  -0.61   2.18   0.91   0.46   1.81   0.06\n",
      "192610  -1.56  -8.55  -3.95  -1.10  -4.90  -0.43  -1.56  -0.89  -2.95  -3.17\n",
      "192611   4.90  -0.50   3.79  -0.30   4.40   1.32   4.90   5.11   3.40   1.80\n"
     ]
    }
   ],
   "source": [
    "Re = get_top_10()\n",
    "print(Re.head())"
   ]
  },
  {
   "cell_type": "code",
   "execution_count": 8,
   "metadata": {},
   "outputs": [],
   "source": [
    "def mean():\n",
    "    return Re.mean()\n",
    "\n",
    "\n",
    "def std():\n",
    "    return Re.std()\n",
    "\n",
    "\n",
    "def cov():\n",
    "    return Re.cov()\n",
    "\n",
    "\n",
    "def rf():\n",
    "    return data['Risk-free rate'].mean()\n",
    "\n",
    "\n",
    "def get_mue(w):\n",
    "    return np.matmul(w, Re.mean().values)\n",
    "\n",
    "\n",
    "def get_var(w):\n",
    "    return np.matmul(np.matmul(w, cov()), w)\n",
    "\n",
    "\n",
    "def get_sp(w):\n",
    "    return get_mue(w) / (get_var(w) ** .5)\n",
    "\n",
    "\n",
    "def get_spNg(w):\n",
    "    return -get_sp(w)"
   ]
  },
  {
   "cell_type": "code",
   "execution_count": 9,
   "metadata": {},
   "outputs": [
    {
     "name": "stdout",
     "output_type": "stream",
     "text": [
      "0.716163704396632\n"
     ]
    }
   ],
   "source": [
    "w0 = np.ones(10) / 10\n",
    "\n",
    "results1 = np.matmul(w0, Re.mean())\n",
    "print(results1)"
   ]
  },
  {
   "cell_type": "code",
   "execution_count": 10,
   "metadata": {},
   "outputs": [
    {
     "name": "stdout",
     "output_type": "stream",
     "text": [
      "-0.1399030226981996\n"
     ]
    }
   ],
   "source": [
    "w0_sp_ng = get_spNg(w0)\n",
    "print(w0_sp_ng)"
   ]
  },
  {
   "cell_type": "code",
   "execution_count": 11,
   "metadata": {},
   "outputs": [
    {
     "name": "stdout",
     "output_type": "stream",
     "text": [
      "     fun: 13.82303184241512\n",
      "     jac: array([27.64593625, 27.64652967, 27.64618778, 27.64603615, 27.64561105,\n",
      "       27.64592969, 27.64593649, 27.64641261, 27.64639568, 27.64570069])\n",
      " message: 'Optimization terminated successfully.'\n",
      "    nfev: 133\n",
      "     nit: 10\n",
      "    njev: 10\n",
      "  status: 0\n",
      " success: True\n",
      "       x: array([ 0.37194169, -0.07325277, -0.1347425 ,  0.22389148, -0.11558206,\n",
      "        0.55145811,  0.37194169,  0.06723138,  0.07879124, -0.34167825])\n"
     ]
    }
   ],
   "source": [
    "cons = ({'type': 'eq', 'fun': lambda W: W.sum() - 1})\n",
    "MVP_result = minimize(get_var, w0, constraints=cons)\n",
    "print(MVP_result)"
   ]
  },
  {
   "cell_type": "code",
   "execution_count": 12,
   "metadata": {},
   "outputs": [
    {
     "name": "stdout",
     "output_type": "stream",
     "text": [
      "13.82303184241512\n"
     ]
    }
   ],
   "source": [
    "results2 = MVP_result.fun\n",
    "print(results2)"
   ]
  },
  {
   "cell_type": "code",
   "execution_count": 13,
   "metadata": {},
   "outputs": [
    {
     "name": "stdout",
     "output_type": "stream",
     "text": [
      "[ 0.37194169 -0.07325277 -0.1347425   0.22389148 -0.11558206  0.55145811\n",
      "  0.37194169  0.06723138  0.07879124 -0.34167825]\n"
     ]
    }
   ],
   "source": [
    "results3 = MVP_result.x\n",
    "\n",
    "print(results3)"
   ]
  },
  {
   "cell_type": "code",
   "execution_count": 14,
   "metadata": {},
   "outputs": [
    {
     "name": "stdout",
     "output_type": "stream",
     "text": [
      "[ 0.40090789  0.08308327 -0.19176004  0.31832745  0.01131582  0.33910164\n",
      "  0.40090787  0.32003912 -0.03203101 -0.64989201]\n"
     ]
    }
   ],
   "source": [
    "Tang_result = minimize(get_spNg, w0, constraints=cons)\n",
    "results4 = Tang_result.x\n",
    "print(results4)"
   ]
  },
  {
   "cell_type": "code",
   "execution_count": 15,
   "metadata": {},
   "outputs": [
    {
     "name": "stdout",
     "output_type": "stream",
     "text": [
      "[ 0.89886135  0.11019896 -0.19487268  0.30782105  0.03610035  0.34614759\n",
      " -0.16462772  0.32476158 -0.03476057 -0.6296299 ]\n"
     ]
    }
   ],
   "source": [
    "w = np.matmul(np.linalg.inv(data.iloc[:, :10].subtract(data['Risk-free rate'], axis='index').cov()), mean().values)\n",
    "w_Tang = w / w.sum()\n",
    "print(w_Tang)"
   ]
  },
  {
   "cell_type": "code",
   "execution_count": 16,
   "metadata": {},
   "outputs": [
    {
     "name": "stdout",
     "output_type": "stream",
     "text": [
      "1.0\n"
     ]
    }
   ],
   "source": [
    "wt_sum = w_Tang.sum()\n",
    "print(wt_sum)"
   ]
  },
  {
   "cell_type": "code",
   "execution_count": 17,
   "metadata": {},
   "outputs": [
    {
     "name": "stdout",
     "output_type": "stream",
     "text": [
      "0.18997167524217853\n"
     ]
    }
   ],
   "source": [
    "result5 = get_sp(Tang_result.x)\n",
    "print(result5)"
   ]
  },
  {
   "cell_type": "code",
   "execution_count": 18,
   "metadata": {},
   "outputs": [
    {
     "name": "stdout",
     "output_type": "stream",
     "text": [
      "0.1895653512972922\n"
     ]
    }
   ],
   "source": [
    "result6 = get_sp(w_Tang)\n",
    "print(result6)"
   ]
  },
  {
   "cell_type": "code",
   "execution_count": null,
   "metadata": {},
   "outputs": [],
   "source": [
    ""
   ]
  },
  {
   "cell_type": "markdown",
   "metadata": {},
   "source": [
    "### 2. \n",
    "\n",
    "a)Compute the means and standard deviations of the minimum variance portfolio and Tangent portfolios.  \n",
    "\n",
    "b)Plot the mean-standard deviation efficient frontier of these 10 industries. Plot the 10 industries as well on a mean-standard deviation diagram.  \n",
    "- Do that for the case that you have free borrowing and lending like we did in the beggining of notebook 4, where we can simply scale up and down the tangency portfolio weights, and also for the case that you cannot borrow or invest in the risk-free asset-- for this case you will need to use the maximizer that we use in the end of notebook 4.\n",
    "\n",
    "c)Plot the mean-variance efficient frontier of these 10 industries. Plot the 10 industries as well on a mean-standard deviation diagram. \n",
    "- Do that for the case that you have free borrowing and lending like we did in the beggining of notebook 4, where we can simply scale up and down the tangency portfolio weights, and also for the case that you cannot borrow or invest in the risk-free asset-- for this case you will need to use the maximizer that we use in the end of notebook 4.\n",
    "\n",
    "\n",
    "\n",
    "\n",
    "\n"
   ]
  },
  {
   "cell_type": "code",
   "execution_count": 19,
   "metadata": {},
   "outputs": [
    {
     "name": "stdout",
     "output_type": "stream",
     "text": [
      "0.6478158428310954\n",
      "13.82303184241512\n",
      "16.682521308039824\n",
      "16.682521308039824\n"
     ]
    }
   ],
   "source": [
    "print(get_mue(results3))\n",
    "print(get_var(results3))\n",
    "print(get_var(w_Tang))\n",
    "print(get_var(w_Tang))"
   ]
  },
  {
   "cell_type": "code",
   "execution_count": 20,
   "metadata": {},
   "outputs": [
    {
     "name": "stdout",
     "output_type": "stream",
     "text": [
      "             Mu       Std\n",
      "NoDur  0.985781  4.626245\n",
      "Durbl  1.098952  7.764269\n",
      "Manuf  1.021487  6.308047\n",
      "Enrgy  1.024219  6.097319\n",
      "HiTec  1.094874  7.319941\n",
      "Telcm  0.869167  4.608105\n",
      "Shops  0.985781  4.626245\n",
      "Hlth   1.106623  5.603567\n",
      "Utils  0.883714  5.572461\n",
      "Other  0.911431  6.476691\n"
     ]
    }
   ],
   "source": [
    "std_mu = pd.DataFrame([mean() + rf(), std()], index=['Mu', 'Std']).T\n",
    "print(std_mu)"
   ]
  },
  {
   "cell_type": "code",
   "execution_count": 21,
   "metadata": {},
   "outputs": [],
   "source": [
    "targetmue = np.linspace(0.6, 1.2, 60)"
   ]
  },
  {
   "cell_type": "code",
   "execution_count": 22,
   "metadata": {},
   "outputs": [],
   "source": [
    "ef_std_mu = []\n",
    "\n",
    "for mue in targetmue: \n",
    "    cons = ({'type': 'eq', 'fun': lambda W: get_mue(W) - mue},\n",
    "            {'type': 'eq', 'fun': lambda W: W.sum() - 1})\n",
    "    result = minimize(get_var, w0, constraints={'type': 'eq', 'fun': lambda W: W.sum() - 1})\n",
    "    w = result.x\n",
    "    std = result.fun ** 0.5\n",
    "    ef_std_mu.append([mue + rf(), std])"
   ]
  },
  {
   "cell_type": "code",
   "execution_count": 25,
   "metadata": {},
   "outputs": [
    {
     "data": {
      "image/png": "[encoded data removed]",
      "text/plain": [
       "<Figure size 432x288 with 1 Axes>"
      ]
     },
     "metadata": {
      "needs_background": "light"
     },
     "output_type": "display_data"
    }
   ],
   "source": [
    "ef_std_mu = np.array(ef_std_mu)\n",
    "\n",
    "plt.xlabel('standard deviation')\n",
    "plt.ylabel('expected return')\n",
    "plt.title('Efficient Frontier: Mu-Std ')\n",
    "\n",
    "plt.scatter(ef_std_mu[:, 1], ef_std_mu[:, 0])\n",
    "for i in std_mu.index:\n",
    "    plt.text(std_mu.loc[i, 'Std'], std_mu.loc[i, 'Mu'], i)\n",
    "\n",
    "plt.xlabel('standard deviation')\n",
    "plt.ylabel('expected return')\n",
    "plt.title('Efficient Frontier: Mu-Std ')\n",
    "\n",
    "plt.scatter(ef_std_mu[:, 1] ** 2, ef_std_mu[:, 0])\n",
    "for i in std_mu.index:\n",
    "    plt.text(std_mu.loc[i, 'Std'] ** 2, std_mu.loc[i, 'Mu'], i)\n",
    "plt.savefig(\"plt.png\")\n",
    "plt.show()"
   ]
  },
  {
   "cell_type": "code",
   "execution_count": null,
   "metadata": {},
   "outputs": [],
   "source": [
    ""
   ]
  },
  {
   "cell_type": "code",
   "execution_count": null,
   "metadata": {},
   "outputs": [],
   "source": [
    ""
   ]
  },
  {
   "cell_type": "code",
   "execution_count": null,
   "metadata": {},
   "outputs": [],
   "source": [
    ""
   ]
  },
  {
   "cell_type": "code",
   "execution_count": null,
   "metadata": {},
   "outputs": [],
   "source": [
    ""
   ]
  },
  {
   "cell_type": "markdown",
   "metadata": {},
   "source": [
    "### 3. \n",
    "\n",
    "a)Comment on the reliability of the mean return estimates for each industry.\n",
    "\n",
    "b)Describe how you would evaluate if they are well estimated.\n",
    "\n",
    "c)Construct the 95% confidence interval for the estimator of each industry expected return.\n",
    "\n",
    "\n",
    "d)Artificially change the mean return estimates of each industry by a one standard error increase.  How much does the Tangent portfolio change?  Does the efficient frontier change a lot or a little? What does that teach us?\n",
    " \n",
    "- Do that for the case that you have free borrowing and lending like we did in the beggining of notebook 4, where we can simply scale up and down the tangency portfolio weights, and also for the case that you cannot borrow or invest in the risk-free asset-- for this case you will need to use the maximizer that we use in the end of notebook 4.\n"
   ]
  },
  {
   "cell_type": "code",
   "execution_count": 27,
   "metadata": {},
   "outputs": [
    {
     "name": "stdout",
     "output_type": "stream",
     "text": [
      "NoDur    0.753730\n",
      "Durbl    0.709499\n",
      "Manuf    0.705078\n",
      "Enrgy    0.718379\n",
      "HiTec    0.727708\n",
      "Telcm    0.638026\n",
      "Shops    0.753730\n",
      "Hlth     0.825550\n",
      "Utils    0.604201\n",
      "Other    0.586562\n",
      "Name: 95%CI_lower, dtype: float64\n",
      "NoDur    1.217832\n",
      "Durbl    1.488406\n",
      "Manuf    1.337897\n",
      "Enrgy    1.330059\n",
      "HiTec    1.462040\n",
      "Telcm    1.100309\n",
      "Shops    1.217832\n",
      "Hlth     1.387696\n",
      "Utils    1.163227\n",
      "Other    1.236300\n",
      "Name: 95%CI_higher, dtype: float64\n"
     ]
    }
   ],
   "source": [
    "std_mu['95%CI_lower'] = std_mu['Mu'] - 1.64 * (std_mu['Std'] / (Re.shape[0] ** .5))\n",
    "std_mu['95%CI_higher'] = std_mu['Mu'] + 1.64 * (std_mu['Std'] / (Re.shape[0] ** .5))\n",
    "Mue_L = std_mu['95%CI_lower']\n",
    "Mue_H = std_mu['95%CI_higher']\n",
    "print(Mue_L)\n",
    "print(Mue_H)"
   ]
  },
  {
   "cell_type": "markdown",
   "metadata": {},
   "source": [
    "### 4. \n",
    "\n",
    "a) Comment on the reliability of the covariance matrix estimate.  \n",
    "\n",
    "b) First,lets ignore covaraince terms:  assume that all covariances are zero and recompute the efficient frontier using the diagonal matrix of variances as the covariance matrix. (you might find the fucntion diag() from the numpy package very useful here). For this one you can focus on the case with free borrowing and lending. Report the tangency portfolio weights.\n",
    "\n",
    "c)Then, lets also ignore variance terms: assume very simply that the covariance matrix is just the identity matrix (i.e., a matrix of ones along the diagonal and zeros everywhere else). Compute tangency portfolio weights\n",
    "\n",
    "d) Now lets assume that the average returns are the same, replicated the analysis in (c), look at the weights, what portfolio is this? \n",
    "\n",
    "d) Does the mean-variance frontier change a lot or a little, relative to the analysis in 3)?  \n",
    "\n",
    "e) Discuss how important are the covariance terms relative to the variance terms.\n",
    "\n"
   ]
  },
  {
   "cell_type": "code",
   "execution_count": 28,
   "metadata": {},
   "outputs": [
    {
     "name": "stdout",
     "output_type": "stream",
     "text": [
      "0.716163704396632\n",
      "-0.1399030226981996\n",
      "     fun: 13.82303184241512\n",
      "     jac: array([27.64593625, 27.64652967, 27.64618778, 27.64603615, 27.64561105,\n",
      "       27.64592969, 27.64593649, 27.64641261, 27.64639568, 27.64570069])\n",
      " message: 'Optimization terminated successfully.'\n",
      "    nfev: 133\n",
      "     nit: 10\n",
      "    njev: 10\n",
      "  status: 0\n",
      " success: True\n",
      "       x: array([ 0.37194169, -0.07325277, -0.1347425 ,  0.22389148, -0.11558206,\n",
      "        0.55145811,  0.37194169,  0.06723138,  0.07879124, -0.34167825])\n",
      "13.82303184241512\n",
      "[ 0.37194169 -0.07325277 -0.1347425   0.22389148 -0.11558206  0.55145811\n",
      "  0.37194169  0.06723138  0.07879124 -0.34167825]\n",
      "[ 0.40090789  0.08308327 -0.19176004  0.31832745  0.01131582  0.33910164\n",
      "  0.40090787  0.32003912 -0.03203101 -0.64989201]\n",
      "[-0.14039101  0.31417026  0.33946672  0.04929078  0.26333891 -0.04655538\n",
      " -0.14039101 -0.23481537  0.16205327  0.43383284]\n",
      "1.0\n",
      "0.18997167524217853\n",
      "0.09520753975036232\n"
     ]
    }
   ],
   "source": [
    "Cov_Diag = np.diag(np.diag(cov()))\n",
    "Cov_Zdiag = cov() - Cov_Diag\n",
    "\n",
    "w0 = np.ones(10) / 10\n",
    "\n",
    "results1 = np.matmul(w0, Re.mean())\n",
    "print(results1)\n",
    "w0_sp_ng = get_spNg(w0)\n",
    "print(w0_sp_ng)\n",
    "cons = ({'type': 'eq', 'fun': lambda W: W.sum() - 1})\n",
    "MVP_result = minimize(get_var, w0, constraints=cons)\n",
    "print(MVP_result)\n",
    "results41 = MVP_result.fun\n",
    "results42 = MVP_result.x\n",
    "print(results41)\n",
    "print(results42)\n",
    "Tang_result = minimize(get_spNg, w0, constraints=cons)\n",
    "results43 = Tang_result.x\n",
    "print(results43)\n",
    "w = np.matmul(np.linalg.inv(Cov_Zdiag), mean().values)\n",
    "w_Tang = w / w.sum()\n",
    "print(w_Tang)\n",
    "print(w_Tang.sum())\n",
    "print(get_sp(Tang_result.x))\n",
    "print(get_sp(w_Tang))"
   ]
  },
  {
   "cell_type": "markdown",
   "metadata": {
    "collapsed": true
   },
   "source": [
    "### 5. \n",
    "\n",
    "a) construct the portfolios returns for the 4 different approaches discussed in 3 and 4:tangent portfolio, minimum variance portfolio, minimum variance portfolio that ignores covariance terms, minimum variance portfolio that ignore covariance terms and assume variances are the same.\n",
    "\n",
    "\n",
    "b) report mean returns for 4 portfolios\n",
    "\n",
    "c) report mean returns in excess of the risk-free rate\n",
    "\n",
    "d) Report standard deviations\n",
    "\n",
    "e) report portfolio sharpe ratios by dividing the answer in (c) by the answer in (d)\n",
    "\n",
    "f) Discuss the results. Is it surprising what you find? What does that teach us about the different approaches?\n",
    "\n",
    "g) Suggest an empirical approach to learn even more about which strategy is better (no need to implement just discuss) \n"
   ]
  },
  {
   "cell_type": "code",
   "execution_count": null,
   "metadata": {
    "collapsed": true
   },
   "outputs": [],
   "source": [
    ""
   ]
  },
  {
   "cell_type": "markdown",
   "metadata": {},
   "source": [
    "## MORE QUESTIONS WILL BE ADDED ON THURSDAY"
   ]
  }
 ],
 "metadata": {
  "kernelspec": {
   "display_name": "Python 3",
   "language": "python",
   "name": "python3"
  },
  "language_info": {
   "codemirror_mode": {
    "name": "ipython",
    "version": 3.0
   },
   "file_extension": ".py",
   "mimetype": "text/x-python",
   "name": "python",
   "nbconvert_exporter": "python",
   "pygments_lexer": "ipython3",
   "version": "3.6.6"
  }
 },
 "nbformat": 4,
 "nbformat_minor": 0
}