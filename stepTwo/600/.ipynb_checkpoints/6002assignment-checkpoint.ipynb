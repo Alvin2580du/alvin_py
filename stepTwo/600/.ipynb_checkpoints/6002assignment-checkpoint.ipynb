{
 "cells": [
  {
   "cell_type": "markdown",
   "metadata": {},
   "source": [
    "# Marketing and Business Analytics Individual Assignment\n",
    "\n",
    "1. This assignment accounts for 22% of your final mark.\n",
    "    - 15% from the Marketing component\n",
    "    - 7% from the Business Analytics component\n",
    "1. This is an individual assignment.\n",
    "2. The assignment is due before **17:00 26th October 2018**. The late penalty for the assignment is 10% of the assigned mark per day, starting after 5pm on the due date. The closing date **5pm 2nd November 2018** is the last date on which an assessment will be accepted for marking. \n",
    "3. Please only include your student ID in the submitted report, and do **NOT** include your name.\n",
    "\n",
    "## Background\n",
    "\n",
    "You are employed as a Data Scientist at a telecommunications company. One of the biggest issues facing the company is minimising customer churn. Customer churn is when a customer changes provider. The business is interested in analysing and predicting churn since the cost of acquiring new customers is higher than retaining existing customers.\n",
    "\n",
    "This is particularly problematic for the telecommunications industry as changing telecommunications provider is relatively easy. There are also a large number of price competitive providers to choose from, which encourages churning. \n",
    "\n",
    "Your job is to help the marketing department to undertake the following:\n",
    "- Investigate why and which customers churn\n",
    "- Discover retention oppurtunities and strategies\n",
    "- Identify current customers that are likely to churn so that the retention strategy can be applied\n",
    "- Identify potential customers so that the incentive strategy can be applied\n",
    "\n",
    "## Files\n",
    "\n",
    "Part 1:\n",
    "- churn_survey.json\n",
    "\n",
    "Part 2:\n",
    "- tweets.db\n",
    "\n",
    "\n",
    "## Submission Instructions\n",
    "\n",
    "This assessment will be automatically marked. Any deviation from the stated output form will be marked as an incorrect answer. It is your responsibility to check that the output matches the given template or example for each question.\n",
    "\n",
    "#### What to Submit\n",
    "\n",
    "Submit only your .ipynb file. You can choose to use this file as a template OR start from scratch. Just make sure that running your notebook generates all the answers!\n",
    "\n",
    "#### Filename\n",
    "\n",
    "The filename must be \"BUSS6002_MKBA_STUDENTID.ipynb\"\n",
    "\n",
    "#### Loading the data files when marking\n",
    "\n",
    "We will run your notebook in the same directory as the data files. We will assume the original file names.\n",
    "\n",
    "#### Output\n",
    "\n",
    "The output for each question should be saved to the same directory as the notebook.\n",
    "\n",
    "#### Checking the format of your output files\n",
    "\n",
    "We have created ED Challenges for each question. The challenges will tell you if the FORMAT of your output file is correct. It does not tell you if your answer is correct. Please test your output files on Ed before submitting your assignment.\n",
    "\n",
    "#### Timeout\n",
    "\n",
    "We will automatically run your notebook. Each notebook will be given a maximum of 1 minute to be completed. Please ensure any model training or optimisation will be easily completed in this time frame.\n",
    "\n",
    "## Marking Criteria\n",
    "1. Correctness of results"
   ]
  },
  {
   "cell_type": "markdown",
   "metadata": {},
   "source": [
    "## Set your Student ID here"
   ]
  },
  {
   "cell_type": "code",
   "execution_count": 1,
   "metadata": {},
   "outputs": [],
   "source": [
    "YOURSTUDENTID = 470265589"
   ]
  },
  {
   "cell_type": "markdown",
   "metadata": {},
   "source": [
    "## Helper Function"
   ]
  },
  {
   "cell_type": "code",
   "execution_count": 2,
   "metadata": {},
   "outputs": [],
   "source": [
    "# This function is used to save answers with a non-tabular output\n",
    "def write_txt(student_id, part_number, data):\n",
    "    file = open(\"ID_{0}_Q_{1}.txt\".format(student_id, part_number), 'w')\n",
    "    file.write(data)\n",
    "    file.close()"
   ]
  },
  {
   "cell_type": "markdown",
   "metadata": {},
   "source": [
    "# Part 1 - Understanding Churn and Identifying Retention Strategies (20 Marks)\n",
    "\n",
    "## Data\n",
    "\n",
    "The marketing team has collected information from a subset of current and past customers. To understand why customers churn and identify why customers have churned use the ``churn_survey.json`` file.\n",
    "\n",
    "### Data Dictionary\n",
    "\n",
    "| Variable  | Description  |\n",
    "|---|---|\n",
    "| Churn  | Whether the customer churned or not |\n",
    "| Contract  | The contract term of the customer |\n",
    "| Dependents  | Whether the customer has dependents or not |\n",
    "| DeviceProtection  | Whether the customer has purchased the device protection service or not |\n",
    "| Gender  | Customer gender |\n",
    "| InternetService  | Customer’s internet service type |\n",
    "| MonthlyCharges  | The amount charged to the customer monthly |\n",
    "| MultipleLines  | Whether the customer has multiple lines or not |\n",
    "| OnlineBackup  | Whether the customer has purchased the additional online backup service or not |\n",
    "| OnlineSecurity  | Whether the customer has purchased the additional online security service or not |\n",
    "| PaperlessBilling  | Whether the customer has paperless billing or not |\n",
    "| Partner  | Whether the customer has a partner or not |\n",
    "| PaymentMethod  | The customer’s payment method |\n",
    "| PhoneService  | Whether the customer has a phone service or not |\n",
    "| SeniorCitizen  | Whether the customer is a senior citizen or not |\n",
    "| StreamingMovies  | Whether the customer has purchased the additional streaming movie service or not |\n",
    "| StreamingTV  | Whether the customer has purchased the additional streaming TV service or not |\n",
    "| TechSupport  | Whether the customer has purchased the additional tech support service or not |\n",
    "| Tenure  | Number of months the customer has stayed with the company |\n",
    "| TotalCharges  | The total amount charged to the customer |\n"
   ]
  },
  {
   "cell_type": "code",
   "execution_count": 273,
   "metadata": {},
   "outputs": [
    {
     "data": {
      "text/html": [
       "<div>\n",
       "<style scoped>\n",
       "    .dataframe tbody tr th:only-of-type {\n",
       "        vertical-align: middle;\n",
       "    }\n",
       "\n",
       "    .dataframe tbody tr th {\n",
       "        vertical-align: top;\n",
       "    }\n",
       "\n",
       "    .dataframe thead th {\n",
       "        text-align: right;\n",
       "    }\n",
       "</style>\n",
       "<table border=\"1\" class=\"dataframe\">\n",
       "  <thead>\n",
       "    <tr style=\"text-align: right;\">\n",
       "      <th></th>\n",
       "      <th>Churn</th>\n",
       "      <th>Contract</th>\n",
       "      <th>Dependents</th>\n",
       "      <th>DeviceProtection</th>\n",
       "      <th>Gender</th>\n",
       "      <th>InternetService</th>\n",
       "      <th>MonthlyCharges</th>\n",
       "      <th>MultipleLines</th>\n",
       "      <th>OnlineBackup</th>\n",
       "      <th>OnlineSecurity</th>\n",
       "      <th>PaperlessBilling</th>\n",
       "      <th>Partner</th>\n",
       "      <th>PaymentMethod</th>\n",
       "      <th>PhoneService</th>\n",
       "      <th>SeniorCitizen</th>\n",
       "      <th>StreamingMovies</th>\n",
       "      <th>StreamingTV</th>\n",
       "      <th>TechSupport</th>\n",
       "      <th>Tenure</th>\n",
       "      <th>TotalCharges</th>\n",
       "    </tr>\n",
       "  </thead>\n",
       "  <tbody>\n",
       "    <tr>\n",
       "      <th>0</th>\n",
       "      <td>No</td>\n",
       "      <td>Month-to-month</td>\n",
       "      <td>No</td>\n",
       "      <td>No</td>\n",
       "      <td>Female</td>\n",
       "      <td>DSL</td>\n",
       "      <td>50.15</td>\n",
       "      <td>No</td>\n",
       "      <td>No</td>\n",
       "      <td>Yes</td>\n",
       "      <td>No</td>\n",
       "      <td>No</td>\n",
       "      <td>Electronic check</td>\n",
       "      <td>Yes</td>\n",
       "      <td>No</td>\n",
       "      <td>No</td>\n",
       "      <td>No</td>\n",
       "      <td>No</td>\n",
       "      <td>1.0</td>\n",
       "      <td>50.15</td>\n",
       "    </tr>\n",
       "    <tr>\n",
       "      <th>1</th>\n",
       "      <td>No</td>\n",
       "      <td>One year</td>\n",
       "      <td>No</td>\n",
       "      <td>Yes</td>\n",
       "      <td>Male</td>\n",
       "      <td>DSL</td>\n",
       "      <td>69.00</td>\n",
       "      <td>Yes</td>\n",
       "      <td>No</td>\n",
       "      <td>No</td>\n",
       "      <td>No</td>\n",
       "      <td>Yes</td>\n",
       "      <td>Credit card (automatic)</td>\n",
       "      <td>Yes</td>\n",
       "      <td>No</td>\n",
       "      <td>Yes</td>\n",
       "      <td>No</td>\n",
       "      <td>Yes</td>\n",
       "      <td>38.0</td>\n",
       "      <td>2669.45</td>\n",
       "    </tr>\n",
       "    <tr>\n",
       "      <th>2</th>\n",
       "      <td>Yes</td>\n",
       "      <td>Month-to-month</td>\n",
       "      <td>Yes</td>\n",
       "      <td>No</td>\n",
       "      <td>Male</td>\n",
       "      <td>Fiber optic</td>\n",
       "      <td>74.35</td>\n",
       "      <td>Yes</td>\n",
       "      <td>No</td>\n",
       "      <td>No</td>\n",
       "      <td>Yes</td>\n",
       "      <td>Yes</td>\n",
       "      <td>Electronic check</td>\n",
       "      <td>Yes</td>\n",
       "      <td>No</td>\n",
       "      <td>No</td>\n",
       "      <td>No</td>\n",
       "      <td>No</td>\n",
       "      <td>11.0</td>\n",
       "      <td>834.20</td>\n",
       "    </tr>\n",
       "    <tr>\n",
       "      <th>3</th>\n",
       "      <td>No</td>\n",
       "      <td>Month-to-month</td>\n",
       "      <td>Yes</td>\n",
       "      <td>Yes</td>\n",
       "      <td>Male</td>\n",
       "      <td>DSL</td>\n",
       "      <td>45.00</td>\n",
       "      <td>No phone service</td>\n",
       "      <td>Yes</td>\n",
       "      <td>Yes</td>\n",
       "      <td>Yes</td>\n",
       "      <td>No</td>\n",
       "      <td>Mailed check</td>\n",
       "      <td>No</td>\n",
       "      <td>No</td>\n",
       "      <td>No</td>\n",
       "      <td>No</td>\n",
       "      <td>Yes</td>\n",
       "      <td>29.0</td>\n",
       "      <td>1242.45</td>\n",
       "    </tr>\n",
       "    <tr>\n",
       "      <th>4</th>\n",
       "      <td>Yes</td>\n",
       "      <td>Month-to-month</td>\n",
       "      <td>Yes</td>\n",
       "      <td>No</td>\n",
       "      <td>Female</td>\n",
       "      <td>Fiber optic</td>\n",
       "      <td>79.60</td>\n",
       "      <td>Yes</td>\n",
       "      <td>Yes</td>\n",
       "      <td>No</td>\n",
       "      <td>Yes</td>\n",
       "      <td>Yes</td>\n",
       "      <td>Mailed check</td>\n",
       "      <td>Yes</td>\n",
       "      <td>Yes</td>\n",
       "      <td>No</td>\n",
       "      <td>No</td>\n",
       "      <td>No</td>\n",
       "      <td>34.0</td>\n",
       "      <td>2718.30</td>\n",
       "    </tr>\n",
       "  </tbody>\n",
       "</table>\n",
       "</div>"
      ],
      "text/plain": [
       "  Churn        Contract Dependents DeviceProtection  Gender InternetService  \\\n",
       "0    No  Month-to-month         No               No  Female             DSL   \n",
       "1    No        One year         No              Yes    Male             DSL   \n",
       "2   Yes  Month-to-month        Yes               No    Male     Fiber optic   \n",
       "3    No  Month-to-month        Yes              Yes    Male             DSL   \n",
       "4   Yes  Month-to-month        Yes               No  Female     Fiber optic   \n",
       "\n",
       "   MonthlyCharges     MultipleLines OnlineBackup OnlineSecurity  \\\n",
       "0           50.15                No           No            Yes   \n",
       "1           69.00               Yes           No             No   \n",
       "2           74.35               Yes           No             No   \n",
       "3           45.00  No phone service          Yes            Yes   \n",
       "4           79.60               Yes          Yes             No   \n",
       "\n",
       "  PaperlessBilling Partner            PaymentMethod PhoneService  \\\n",
       "0               No      No         Electronic check          Yes   \n",
       "1               No     Yes  Credit card (automatic)          Yes   \n",
       "2              Yes     Yes         Electronic check          Yes   \n",
       "3              Yes      No             Mailed check           No   \n",
       "4              Yes     Yes             Mailed check          Yes   \n",
       "\n",
       "  SeniorCitizen StreamingMovies StreamingTV TechSupport  Tenure  TotalCharges  \n",
       "0            No              No          No          No     1.0         50.15  \n",
       "1            No             Yes          No         Yes    38.0       2669.45  \n",
       "2            No              No          No          No    11.0        834.20  \n",
       "3            No              No          No         Yes    29.0       1242.45  \n",
       "4           Yes              No          No          No    34.0       2718.30  "
      ]
     },
     "execution_count": 273,
     "metadata": {},
     "output_type": "execute_result"
    }
   ],
   "source": [
    "# Use this area to load the data\n",
    "import numpy as np\n",
    "import pandas as pd\n",
    "data = open('churn_survey.json').read()\n",
    "df_cust = pd.read_json('churn_survey.json')\n",
    "df_cust.head()"
   ]
  },
  {
   "cell_type": "markdown",
   "metadata": {},
   "source": [
    "## Questions\n",
    "\n",
    "### 1.1 What is the most popular payment method? (1 Mark)\n",
    "\n",
    "Output your answer as a .txt file containing the name of the most popular payment method.\n",
    "\n",
    "FILENAME: ID_STUDENTID_Q_1_1.txt"
   ]
  },
  {
   "cell_type": "code",
   "execution_count": 274,
   "metadata": {},
   "outputs": [],
   "source": [
    "# WRITE YOUR CODE HERE\n",
    "method_name = df_cust[\"PaymentMethod\"].value_counts().index[0]\n",
    "# This will save your answer to a .txt file\n",
    "write_txt(YOURSTUDENTID, \"1_1\", method_name)"
   ]
  },
  {
   "cell_type": "markdown",
   "metadata": {},
   "source": [
    "### 1.2 What is the mean amount spent per month for the churn and non-churn customers? (1 Mark)\n",
    "\n",
    "Output your answer as a .csv file with the following format to four decimal places. DO NOT include the $ sign.\n",
    "\n",
    "| Churn  | MonthlyCharges  |\n",
    "|---|---|\n",
    "| No  | 00.0000  |\n",
    "| Yes  |  00.0000 |\n",
    "\n",
    "FILENAME: ID_STUDENTID_Q_1_2.csv"
   ]
  },
  {
   "cell_type": "code",
   "execution_count": 275,
   "metadata": {},
   "outputs": [],
   "source": [
    "# WRITE YOUR CODE HERE\n",
    "cust_groups = df_cust.groupby(\"Churn\")\n",
    "charge_mean = cust_groups.mean()['MonthlyCharges'].round(4).reset_index()\n",
    "charge_mean.to_csv(\"ID_{0}_Q_{1}.csv\".format(YOURSTUDENTID, \"1_2\"),index=None)"
   ]
  },
  {
   "cell_type": "markdown",
   "metadata": {},
   "source": [
    "### 1.3 What is the standard deviation of amount spent per month for the churn and non-churn customers? (1 Mark)\n",
    "\n",
    "Output your answer as a .csv file with the following format to four decimal places. DO NOT include the $ sign.\n",
    "\n",
    "| Churn  | MonthlyCharges  |\n",
    "|---|---|\n",
    "| No  | 00.0000  |\n",
    "| Yes  |  00.0000 |\n",
    "\n",
    "FILENAME: ID_STUDENTID_Q_1_3.csv"
   ]
  },
  {
   "cell_type": "code",
   "execution_count": 276,
   "metadata": {},
   "outputs": [],
   "source": [
    "# WRITE YOUR CODE HERE\n",
    "amountspent_sd = cust_groups.std()['MonthlyCharges'].round(4).reset_index()\n",
    "amountspent_sd.to_csv(\"ID_{0}_Q_{1}.csv\".format(YOURSTUDENTID, \"1_3\"),index=None)"
   ]
  },
  {
   "cell_type": "markdown",
   "metadata": {},
   "source": [
    "### 1.4 What is the percentage of contract type for the churn and non-churn customers (2 Marks)\n",
    "\n",
    "Output your answer as a .csv file with the following format to two decimal places. Do not include the % symbol.\n",
    "\n",
    "| Churn  | Month-to-month  | One year | Two year |\n",
    "|---|---|---|---|\n",
    "| No  | 00.00  |00.00  |00.00  |\n",
    "| Yes  |  00.00 |00.00  |00.00  |\n",
    "\n",
    "This percentage should be relative to the churn status NOT the entire sample i.e. the top left cell is the percentage of customers on month-to-month contracts who didn't churn.\n",
    "\n",
    "FILENAME: ID_STUDENTID_Q_1_4.csv"
   ]
  },
  {
   "cell_type": "code",
   "execution_count": 390,
   "metadata": {},
   "outputs": [
    {
     "data": {
      "text/html": [
       "<div>\n",
       "<style scoped>\n",
       "    .dataframe tbody tr th:only-of-type {\n",
       "        vertical-align: middle;\n",
       "    }\n",
       "\n",
       "    .dataframe tbody tr th {\n",
       "        vertical-align: top;\n",
       "    }\n",
       "\n",
       "    .dataframe thead th {\n",
       "        text-align: right;\n",
       "    }\n",
       "</style>\n",
       "<table border=\"1\" class=\"dataframe\">\n",
       "  <thead>\n",
       "    <tr style=\"text-align: right;\">\n",
       "      <th>Contract</th>\n",
       "      <th>Churn</th>\n",
       "      <th>Month-to-month</th>\n",
       "      <th>One year</th>\n",
       "      <th>Two year</th>\n",
       "    </tr>\n",
       "  </thead>\n",
       "  <tbody>\n",
       "    <tr>\n",
       "      <th>0</th>\n",
       "      <td>No</td>\n",
       "      <td>1135</td>\n",
       "      <td>647</td>\n",
       "      <td>805</td>\n",
       "    </tr>\n",
       "    <tr>\n",
       "      <th>1</th>\n",
       "      <td>Yes</td>\n",
       "      <td>826</td>\n",
       "      <td>78</td>\n",
       "      <td>29</td>\n",
       "    </tr>\n",
       "  </tbody>\n",
       "</table>\n",
       "</div>"
      ],
      "text/plain": [
       "Contract Churn  Month-to-month  One year  Two year\n",
       "0           No            1135       647       805\n",
       "1          Yes             826        78        29"
      ]
     },
     "execution_count": 390,
     "metadata": {},
     "output_type": "execute_result"
    }
   ],
   "source": [
    "Churn_k = df_cust.groupby(['Churn','Contract']).size().reset_index()\n",
    "Churn_k.columns=['Churn','Contract','Number']  \n",
    "Churn_k1 = Churn_k.pivot(columns='Contract',index='Churn',values='Number').reset_index()\n",
    "Churn_k1.head()"
   ]
  },
  {
   "cell_type": "code",
   "execution_count": 398,
   "metadata": {
    "scrolled": true
   },
   "outputs": [
    {
     "data": {
      "text/html": [
       "<div>\n",
       "<style scoped>\n",
       "    .dataframe tbody tr th:only-of-type {\n",
       "        vertical-align: middle;\n",
       "    }\n",
       "\n",
       "    .dataframe tbody tr th {\n",
       "        vertical-align: top;\n",
       "    }\n",
       "\n",
       "    .dataframe thead th {\n",
       "        text-align: right;\n",
       "    }\n",
       "</style>\n",
       "<table border=\"1\" class=\"dataframe\">\n",
       "  <thead>\n",
       "    <tr style=\"text-align: right;\">\n",
       "      <th></th>\n",
       "      <th>Churn</th>\n",
       "      <th>Contract</th>\n",
       "      <th>Churn</th>\n",
       "      <th>Month-to-month</th>\n",
       "      <th>One year</th>\n",
       "      <th>Two year</th>\n",
       "    </tr>\n",
       "  </thead>\n",
       "  <tbody>\n",
       "    <tr>\n",
       "      <th>0</th>\n",
       "      <td>No</td>\n",
       "      <td>2587</td>\n",
       "      <td>No</td>\n",
       "      <td>43.87</td>\n",
       "      <td>25.01</td>\n",
       "      <td>31.12</td>\n",
       "    </tr>\n",
       "    <tr>\n",
       "      <th>1</th>\n",
       "      <td>Yes</td>\n",
       "      <td>933</td>\n",
       "      <td>Yes</td>\n",
       "      <td>88.53</td>\n",
       "      <td>8.36</td>\n",
       "      <td>3.11</td>\n",
       "    </tr>\n",
       "  </tbody>\n",
       "</table>\n",
       "</div>"
      ],
      "text/plain": [
       "  Churn  Contract Churn  Month-to-month  One year  Two year\n",
       "0    No      2587    No           43.87     25.01     31.12\n",
       "1   Yes       933   Yes           88.53      8.36      3.11"
      ]
     },
     "execution_count": 398,
     "metadata": {},
     "output_type": "execute_result"
    }
   ],
   "source": [
    "churn_count = cust_groups.count().iloc[:,0].reset_index()\n",
    "combine = pd.concat([churn_count,Churn_k1],axis=1)\n",
    "combine.head()"
   ]
  },
  {
   "cell_type": "code",
   "execution_count": 392,
   "metadata": {},
   "outputs": [],
   "source": [
    "Churn_k1['Month-to-month'] = combine['Month-to-month']*100/combine['Contract']\n",
    "Churn_k1['One year'] = combine['One year']*100/combine['Contract']\n",
    "Churn_k1['Two year']= combine['Two year']*100/combine['Contract']\n",
    "Churn_k1 = Churn_k1.round(2)\n",
    "Churn_k1.to_csv(\"ID_{0}_Q_{1}.csv\".format(YOURSTUDENTID, \"1_4\"),index=None)"
   ]
  },
  {
   "cell_type": "markdown",
   "metadata": {},
   "source": [
    "### 1.5 Which feature and value is most correlated with MonthlyCharges? (2.5 Marks)\n",
    "\n",
    "Output your answer as a .csv file with the following format containing the most correlated feature name and value.\n",
    "\n",
    "| Feature  | Value  |\n",
    "|---|---|---|---|\n",
    "| FEATURE_NAME  | FEATURE_VALUE  |\n",
    "\n",
    "FILENAME: ID_STUDENTID_Q_1_5.csv"
   ]
  },
  {
   "cell_type": "code",
   "execution_count": 393,
   "metadata": {
    "scrolled": false
   },
   "outputs": [
    {
     "data": {
      "text/html": [
       "<div>\n",
       "<style scoped>\n",
       "    .dataframe tbody tr th:only-of-type {\n",
       "        vertical-align: middle;\n",
       "    }\n",
       "\n",
       "    .dataframe tbody tr th {\n",
       "        vertical-align: top;\n",
       "    }\n",
       "\n",
       "    .dataframe thead th {\n",
       "        text-align: right;\n",
       "    }\n",
       "</style>\n",
       "<table border=\"1\" class=\"dataframe\">\n",
       "  <thead>\n",
       "    <tr style=\"text-align: right;\">\n",
       "      <th></th>\n",
       "      <th>Churn</th>\n",
       "      <th>Contract</th>\n",
       "      <th>Dependents</th>\n",
       "      <th>DeviceProtection</th>\n",
       "      <th>Gender</th>\n",
       "      <th>InternetService</th>\n",
       "      <th>MonthlyCharges</th>\n",
       "      <th>MultipleLines</th>\n",
       "      <th>OnlineBackup</th>\n",
       "      <th>OnlineSecurity</th>\n",
       "      <th>PaperlessBilling</th>\n",
       "      <th>Partner</th>\n",
       "      <th>PaymentMethod</th>\n",
       "      <th>PhoneService</th>\n",
       "      <th>SeniorCitizen</th>\n",
       "      <th>StreamingMovies</th>\n",
       "      <th>StreamingTV</th>\n",
       "      <th>TechSupport</th>\n",
       "      <th>Tenure</th>\n",
       "      <th>TotalCharges</th>\n",
       "    </tr>\n",
       "  </thead>\n",
       "  <tbody>\n",
       "    <tr>\n",
       "      <th>0</th>\n",
       "      <td>0.0</td>\n",
       "      <td>Month-to-month</td>\n",
       "      <td>0</td>\n",
       "      <td>0</td>\n",
       "      <td>0</td>\n",
       "      <td>DSL</td>\n",
       "      <td>50.15</td>\n",
       "      <td>0.0</td>\n",
       "      <td>0</td>\n",
       "      <td>1</td>\n",
       "      <td>0</td>\n",
       "      <td>0</td>\n",
       "      <td>Electronic check</td>\n",
       "      <td>1</td>\n",
       "      <td>0</td>\n",
       "      <td>0</td>\n",
       "      <td>0.0</td>\n",
       "      <td>0.0</td>\n",
       "      <td>1.0</td>\n",
       "      <td>50.15</td>\n",
       "    </tr>\n",
       "    <tr>\n",
       "      <th>1</th>\n",
       "      <td>0.0</td>\n",
       "      <td>One year</td>\n",
       "      <td>0</td>\n",
       "      <td>1</td>\n",
       "      <td>1</td>\n",
       "      <td>DSL</td>\n",
       "      <td>69.00</td>\n",
       "      <td>1.0</td>\n",
       "      <td>0</td>\n",
       "      <td>0</td>\n",
       "      <td>0</td>\n",
       "      <td>1</td>\n",
       "      <td>Credit card (automatic)</td>\n",
       "      <td>1</td>\n",
       "      <td>0</td>\n",
       "      <td>1</td>\n",
       "      <td>0.0</td>\n",
       "      <td>1.0</td>\n",
       "      <td>38.0</td>\n",
       "      <td>2669.45</td>\n",
       "    </tr>\n",
       "    <tr>\n",
       "      <th>2</th>\n",
       "      <td>1.0</td>\n",
       "      <td>Month-to-month</td>\n",
       "      <td>1</td>\n",
       "      <td>0</td>\n",
       "      <td>1</td>\n",
       "      <td>Fiber optic</td>\n",
       "      <td>74.35</td>\n",
       "      <td>1.0</td>\n",
       "      <td>0</td>\n",
       "      <td>0</td>\n",
       "      <td>1</td>\n",
       "      <td>1</td>\n",
       "      <td>Electronic check</td>\n",
       "      <td>1</td>\n",
       "      <td>0</td>\n",
       "      <td>0</td>\n",
       "      <td>0.0</td>\n",
       "      <td>0.0</td>\n",
       "      <td>11.0</td>\n",
       "      <td>834.20</td>\n",
       "    </tr>\n",
       "    <tr>\n",
       "      <th>3</th>\n",
       "      <td>0.0</td>\n",
       "      <td>Month-to-month</td>\n",
       "      <td>1</td>\n",
       "      <td>1</td>\n",
       "      <td>1</td>\n",
       "      <td>DSL</td>\n",
       "      <td>45.00</td>\n",
       "      <td>0.0</td>\n",
       "      <td>1</td>\n",
       "      <td>1</td>\n",
       "      <td>1</td>\n",
       "      <td>0</td>\n",
       "      <td>Mailed check</td>\n",
       "      <td>0</td>\n",
       "      <td>0</td>\n",
       "      <td>0</td>\n",
       "      <td>0.0</td>\n",
       "      <td>1.0</td>\n",
       "      <td>29.0</td>\n",
       "      <td>1242.45</td>\n",
       "    </tr>\n",
       "    <tr>\n",
       "      <th>4</th>\n",
       "      <td>1.0</td>\n",
       "      <td>Month-to-month</td>\n",
       "      <td>1</td>\n",
       "      <td>0</td>\n",
       "      <td>0</td>\n",
       "      <td>Fiber optic</td>\n",
       "      <td>79.60</td>\n",
       "      <td>1.0</td>\n",
       "      <td>1</td>\n",
       "      <td>0</td>\n",
       "      <td>1</td>\n",
       "      <td>1</td>\n",
       "      <td>Mailed check</td>\n",
       "      <td>1</td>\n",
       "      <td>1</td>\n",
       "      <td>0</td>\n",
       "      <td>0.0</td>\n",
       "      <td>0.0</td>\n",
       "      <td>34.0</td>\n",
       "      <td>2718.30</td>\n",
       "    </tr>\n",
       "  </tbody>\n",
       "</table>\n",
       "</div>"
      ],
      "text/plain": [
       "   Churn        Contract  Dependents  DeviceProtection  Gender  \\\n",
       "0    0.0  Month-to-month           0                 0       0   \n",
       "1    0.0        One year           0                 1       1   \n",
       "2    1.0  Month-to-month           1                 0       1   \n",
       "3    0.0  Month-to-month           1                 1       1   \n",
       "4    1.0  Month-to-month           1                 0       0   \n",
       "\n",
       "  InternetService  MonthlyCharges  MultipleLines  OnlineBackup  \\\n",
       "0             DSL           50.15            0.0             0   \n",
       "1             DSL           69.00            1.0             0   \n",
       "2     Fiber optic           74.35            1.0             0   \n",
       "3             DSL           45.00            0.0             1   \n",
       "4     Fiber optic           79.60            1.0             1   \n",
       "\n",
       "   OnlineSecurity  PaperlessBilling  Partner            PaymentMethod  \\\n",
       "0               1                 0        0         Electronic check   \n",
       "1               0                 0        1  Credit card (automatic)   \n",
       "2               0                 1        1         Electronic check   \n",
       "3               1                 1        0             Mailed check   \n",
       "4               0                 1        1             Mailed check   \n",
       "\n",
       "   PhoneService  SeniorCitizen  StreamingMovies  StreamingTV  TechSupport  \\\n",
       "0             1              0                0          0.0          0.0   \n",
       "1             1              0                1          0.0          1.0   \n",
       "2             1              0                0          0.0          0.0   \n",
       "3             0              0                0          0.0          1.0   \n",
       "4             1              1                0          0.0          0.0   \n",
       "\n",
       "   Tenure  TotalCharges  \n",
       "0     1.0         50.15  \n",
       "1    38.0       2669.45  \n",
       "2    11.0        834.20  \n",
       "3    29.0       1242.45  \n",
       "4    34.0       2718.30  "
      ]
     },
     "execution_count": 393,
     "metadata": {},
     "output_type": "execute_result"
    }
   ],
   "source": [
    "# WRITE YOUR CODE HERE\n",
    "cor = df_cust.replace(['No','Yes','Female','Male','No internet service','No phone service',],[0,1,0,1,0,0])\n",
    "cor_dum = pd.get_dummies(cor,drop_first=True)\n",
    "cor.head()"
   ]
  },
  {
   "cell_type": "code",
   "execution_count": 394,
   "metadata": {
    "scrolled": true
   },
   "outputs": [
    {
     "data": {
      "text/plain": [
       "MonthlyCharges                 1.000000\n",
       "InternetService_Fiber optic    0.794367\n",
       "TotalCharges                   0.645966\n",
       "StreamingTV                    0.638965\n",
       "StreamingMovies                0.623816\n",
       "Name: MonthlyCharges, dtype: float64"
      ]
     },
     "execution_count": 394,
     "metadata": {},
     "output_type": "execute_result"
    }
   ],
   "source": [
    "cor_1 = cor_dum.corr().loc['MonthlyCharges']\n",
    "cor_abs = cor_1.abs().sort_values(ascending=False)\n",
    "cor_abs.head()"
   ]
  },
  {
   "cell_type": "code",
   "execution_count": 395,
   "metadata": {},
   "outputs": [],
   "source": [
    "sort_cor = pd.DataFrame(cor_abs).drop(['MonthlyCharges'])\n",
    "most_cor = sort_cor.iloc[0:1,0:1].reset_index()\n",
    "most_cor.columns=['Feature','Value']\n",
    "result_1_5 = pd.DataFrame(most_cor)\n",
    "result_1_5.to_csv(\"ID_{0}_Q_{1}.csv\".format(YOURSTUDENTID, \"1_5\"),index=None)"
   ]
  },
  {
   "cell_type": "markdown",
   "metadata": {},
   "source": [
    "### 1.6 What is the count, mean, std, min, quartiles and max of time before a customer churns? (2.5 Marks)\n",
    "\n",
    "Output your result as a two column .csv with the following format to four decimal places\n",
    "\n",
    "|   | Tenure  |\n",
    "|---|---|\n",
    "| count | 0.0 |\n",
    "| mean  | 0.0 |\n",
    "| std   | 0.0 |\n",
    "| min  | 0.0 |\n",
    "| 25%  | 0.0 |\n",
    "| 50%  | 0.0 |\n",
    "| 75%  | 0.0 |\n",
    "| max  | 0.0 |\n",
    "\n",
    "FILENAME: ID_STUDENTID_Q_1_6.csv"
   ]
  },
  {
   "cell_type": "code",
   "execution_count": 396,
   "metadata": {},
   "outputs": [],
   "source": [
    "# WRITE YOUR CODE HERE\n",
    "df_inf = df_cust['Tenure'].describe().round(1)\n",
    "df_1_6 = pd.DataFrame(df_inf)\n",
    "df_1_6.to_csv(\"ID_{0}_Q_{1}.csv\".format(YOURSTUDENTID, \"1_6\"))"
   ]
  },
  {
   "cell_type": "markdown",
   "metadata": {},
   "source": [
    "### 1.7 What is the proportion of purchase for each account addon for male and female customers? (4 Marks)\n",
    "\n",
    "Output your result as a .csv with the following format to four decimal places\n",
    "\n",
    "| Gender  | ADDON1  | ADDON2  | ... |\n",
    "|---|---|---|\n",
    "| Female  | 0.0000  | 0.0000  | .. |\n",
    "| Male  |  0.0000 | 0.0000  | .. |\n",
    "\n",
    "Please use the original name of the addon from the data. You must use your understanding of the data and the problem to determine where you can find this information in the dataset.\n",
    "\n",
    "FILENAME: ID_STUDENTID_Q_1_7.csv"
   ]
  },
  {
   "cell_type": "code",
   "execution_count": 397,
   "metadata": {},
   "outputs": [],
   "source": [
    "# WRITE YOUR CODE HERE"
   ]
  },
  {
   "cell_type": "markdown",
   "metadata": {},
   "source": [
    "### 1.8 Of the listed account addons, which addon/addons could be offered to churning customers for free or at a discounted rate in order to best retain them? (6 Marks)\n",
    "\n",
    "Output your file as a single column .csv with the following format\n",
    "\n",
    "| Addon  |\n",
    "|---|\n",
    "| ADDONX  | \n",
    "| ADDONY  |\n",
    "| ...  | \n",
    "\n",
    "where ADDONX is the name of one addon that you suggest. You must suggest at least 1 account addon up the total amount of addons listed in the dataset. You must exercise your best judgement and supporting evidence from the data to obtain a list of suggested addons. These addons should reflect the interests of the churning customers, i.e. which addons they actually care about.\n",
    "\n",
    "FILENAME: ID_STUDENTID_Q_1_8.csv"
   ]
  },
  {
   "cell_type": "code",
   "execution_count": null,
   "metadata": {},
   "outputs": [],
   "source": [
    "# WRITE YOUR CODE HERE"
   ]
  },
  {
   "cell_type": "markdown",
   "metadata": {},
   "source": [
    "# Part 2 - Churn Intervention (24 Marks)\n",
    "\n",
    "The marketing teams wants to know if it is possible to identify customers on social media before they churn and if they can identify potential customers that want to move away from their existing provider. If a customer is identified before they churn then the retention strategy that you developed in Part 1.6 can be applied to stop the customer leaving.\n",
    "\n",
    "The marketing team has outsourced the collection of data and labels. The data was collected from twitter and includes tweets referencing your company and competitors. The data is available in the ``tweets.db`` SQLite file.\n",
    "\n",
    "To achieve the goals of the project you will need to do some EDA to understand the nature of the data and attempt to build a classifier to predict if an individual is likely to churn based on what they wrote in their tweet.\n",
    "\n",
    "## Data\n",
    "\n",
    "### Schema\n",
    "\n",
    "The schema for the ``tweets.db`` file is below:\n",
    "\n",
    "churn\n",
    "\n",
    "| Column  |  Description |\n",
    "|---|---|\n",
    "| tid  | Tweet ID  |\n",
    "| churn  | Churn status  |\n",
    "| set  | Training or Hidden  |\n",
    "\n",
    "tweets\n",
    "\n",
    "| Column  |  Description |\n",
    "|---|---|\n",
    "| tid  | Tweet ID  |\n",
    "| uid  | User ID  |\n",
    "| date  | Datetime of the tweet  |\n",
    "| text  | Content of the tweet  |\n",
    "\n",
    "### Training and Hidden Sets\n",
    "\n",
    "The data has been divided into two sets:\n",
    "\n",
    "| Set  |  Tweets | Target  |\n",
    "|---|---|---|\n",
    "| Training  | Yes  | Yes  |\n",
    "| Hidden  | Yes  | No  |\n",
    "\n",
    "The Churn labels for the training sets has been made available. However the marketing team wants to know how well your classifier will work on future and unseen data before deploying it. They will assess your classification performance on the hidden set."
   ]
  },
  {
   "cell_type": "markdown",
   "metadata": {},
   "source": [
    "### 2.1 How many tweets in the training set contain at least one of the strings \"AT&T\", \"Verizon\" or \"T-Mobile\" (1.5 Marks)\n",
    "\n",
    "Output the number of tweets as an integer to a .txt file. Your search should be invariant to capitilisation.\n",
    "\n",
    "FILENAME: ID_STUDENTID_Q_2_1.txt"
   ]
  },
  {
   "cell_type": "code",
   "execution_count": 5,
   "metadata": {},
   "outputs": [],
   "source": [
    "from sklearn.decomposition import KernelPCA\n",
    "from sklearn.feature_extraction.text import TfidfVectorizer\n",
    "from sklearn.linear_model import LogisticRegression\n",
    "import pandas as pd\n",
    "import sqlite3\n",
    "import re\n"
   ]
  },
  {
   "cell_type": "code",
   "execution_count": 4,
   "metadata": {},
   "outputs": [
    {
     "ename": "NameError",
     "evalue": "name 're' is not defined",
     "output_type": "error",
     "traceback": [
      "\u001b[1;31m---------------------------------------------------------------------------\u001b[0m",
      "\u001b[1;31mNameError\u001b[0m                                 Traceback (most recent call last)",
      "\u001b[1;32m<ipython-input-4-052b14133a21>\u001b[0m in \u001b[0;36m<module>\u001b[1;34m\u001b[0m\n\u001b[0;32m      5\u001b[0m \u001b[0mchurn_tr\u001b[0m \u001b[1;33m=\u001b[0m \u001b[0mdf_churn_sql\u001b[0m\u001b[1;33m[\u001b[0m\u001b[1;33m~\u001b[0m\u001b[0mdf_churn_sql\u001b[0m\u001b[1;33m[\u001b[0m\u001b[1;34m'set'\u001b[0m\u001b[1;33m]\u001b[0m\u001b[1;33m.\u001b[0m\u001b[0misin\u001b[0m\u001b[1;33m(\u001b[0m\u001b[1;33m[\u001b[0m\u001b[1;34m'hidden'\u001b[0m\u001b[1;33m]\u001b[0m\u001b[1;33m)\u001b[0m\u001b[1;33m]\u001b[0m\u001b[1;33m\u001b[0m\u001b[0m\n\u001b[0;32m      6\u001b[0m \u001b[0mdf_merged\u001b[0m \u001b[1;33m=\u001b[0m \u001b[1;33m(\u001b[0m\u001b[0mpd\u001b[0m\u001b[1;33m.\u001b[0m\u001b[0mmerge\u001b[0m\u001b[1;33m(\u001b[0m\u001b[0mchurn_tr\u001b[0m\u001b[1;33m,\u001b[0m \u001b[0mdf_tweets_sql\u001b[0m\u001b[1;33m,\u001b[0m \u001b[0mhow\u001b[0m\u001b[1;33m=\u001b[0m\u001b[1;34m'left'\u001b[0m\u001b[1;33m,\u001b[0m \u001b[0mon\u001b[0m\u001b[1;33m=\u001b[0m\u001b[1;34m'tid'\u001b[0m\u001b[1;33m)\u001b[0m\u001b[1;33m)\u001b[0m\u001b[1;33m\u001b[0m\u001b[0m\n\u001b[1;32m----> 7\u001b[1;33m \u001b[0mmatches\u001b[0m \u001b[1;33m=\u001b[0m \u001b[0mdf_merged\u001b[0m\u001b[1;33m.\u001b[0m\u001b[0mtext\u001b[0m\u001b[1;33m.\u001b[0m\u001b[0mstr\u001b[0m\u001b[1;33m.\u001b[0m\u001b[0mcontains\u001b[0m\u001b[1;33m(\u001b[0m\u001b[1;34m'AT&T|Verizon|T-Mobile'\u001b[0m\u001b[1;33m,\u001b[0m\u001b[0mflags\u001b[0m\u001b[1;33m=\u001b[0m\u001b[0mre\u001b[0m\u001b[1;33m.\u001b[0m\u001b[0mIGNORECASE\u001b[0m\u001b[1;33m,\u001b[0m\u001b[0mna\u001b[0m\u001b[1;33m=\u001b[0m\u001b[1;32mFalse\u001b[0m\u001b[1;33m)\u001b[0m\u001b[1;33m\u001b[0m\u001b[0m\n\u001b[0m\u001b[0;32m      8\u001b[0m \u001b[0mresult\u001b[0m \u001b[1;33m=\u001b[0m \u001b[0mmatches\u001b[0m\u001b[1;33m.\u001b[0m\u001b[0mvalue_counts\u001b[0m\u001b[1;33m(\u001b[0m\u001b[1;33m)\u001b[0m\u001b[1;33m\u001b[0m\u001b[0m\n",
      "\u001b[1;31mNameError\u001b[0m: name 're' is not defined"
     ]
    }
   ],
   "source": [
    "# WRITE YOUR CODE HERE\n",
    "con = sqlite3.connect(\"tweets.db\")\n",
    "df_tweets_sql = pd.read_sql(\"select * from tweets\",con)\n",
    "df_churn_sql = pd.read_sql(\"select * from churn\",con)\n",
    "churn_tr = df_churn_sql[~df_churn_sql['set'].isin(['hidden'])]\n",
    "df_merged = (pd.merge(churn_tr, df_tweets_sql, how='left', on='tid'))\n",
    "matches = df_merged.text.str.contains('AT&T|Verizon|T-Mobile',flags=re.IGNORECASE,na=False)\n",
    "result = matches.value_counts()"
   ]
  },
  {
   "cell_type": "code",
   "execution_count": null,
   "metadata": {},
   "outputs": [],
   "source": [
    "number_tweets = result\n",
    "# This will save your answer to a .txt file\n",
    "write_txt(YOURSTUDENTID, \"2_1\", number_tweets)"
   ]
  },
  {
   "cell_type": "markdown",
   "metadata": {},
   "source": [
    "### 2.2 Find all tweets in the training set containing the strings \"AT&T\", \"Verizon\" and \"switch\" (2.5 Marks)\n",
    "\n",
    "Output the tweets as a two column .csv file with the following format:\n",
    "\n",
    "| tid  |  text |\n",
    "|---|---|\n",
    "| tweet_id1  | text1  |\n",
    "| tweet_id2  | text2  |\n",
    "| tweet_id3  | text3  |\n",
    "| ...  | ...  |\n",
    "\n",
    "The first column should be the tweet id and the second column should be the original text of the tweet. Your search should be invariant to capitilisation.\n",
    "\n",
    "FILENAME: ID_STUDENTID_Q_2_2.csv"
   ]
  },
  {
   "cell_type": "code",
   "execution_count": 625,
   "metadata": {},
   "outputs": [
    {
     "data": {
      "text/html": [
       "<div>\n",
       "<style scoped>\n",
       "    .dataframe tbody tr th:only-of-type {\n",
       "        vertical-align: middle;\n",
       "    }\n",
       "\n",
       "    .dataframe tbody tr th {\n",
       "        vertical-align: top;\n",
       "    }\n",
       "\n",
       "    .dataframe thead th {\n",
       "        text-align: right;\n",
       "    }\n",
       "</style>\n",
       "<table border=\"1\" class=\"dataframe\">\n",
       "  <thead>\n",
       "    <tr style=\"text-align: right;\">\n",
       "      <th></th>\n",
       "      <th>tid</th>\n",
       "      <th>text</th>\n",
       "    </tr>\n",
       "  </thead>\n",
       "  <tbody>\n",
       "    <tr>\n",
       "      <th>0</th>\n",
       "      <td>3.145813e+17</td>\n",
       "      <td>Im about to switch to at&amp;t if this keeps up; @...</td>\n",
       "    </tr>\n",
       "    <tr>\n",
       "      <th>1</th>\n",
       "      <td>3.543021e+17</td>\n",
       "      <td>@LiDudeCrossDaSt i know you dont know nobody w...</td>\n",
       "    </tr>\n",
       "    <tr>\n",
       "      <th>2</th>\n",
       "      <td>3.405339e+17</td>\n",
       "      <td>There isnt a dope enough phone on another carr...</td>\n",
       "    </tr>\n",
       "    <tr>\n",
       "      <th>3</th>\n",
       "      <td>3.318473e+17</td>\n",
       "      <td>Im not paying my phone bill tomorrow ! Im gon ...</td>\n",
       "    </tr>\n",
       "    <tr>\n",
       "      <th>4</th>\n",
       "      <td>4.191864e+17</td>\n",
       "      <td>I need to call at&amp;t and threaten to switch to ...</td>\n",
       "    </tr>\n",
       "  </tbody>\n",
       "</table>\n",
       "</div>"
      ],
      "text/plain": [
       "            tid                                               text\n",
       "0  3.145813e+17  Im about to switch to at&t if this keeps up; @...\n",
       "1  3.543021e+17  @LiDudeCrossDaSt i know you dont know nobody w...\n",
       "2  3.405339e+17  There isnt a dope enough phone on another carr...\n",
       "3  3.318473e+17  Im not paying my phone bill tomorrow ! Im gon ...\n",
       "4  4.191864e+17  I need to call at&t and threaten to switch to ..."
      ]
     },
     "execution_count": 625,
     "metadata": {},
     "output_type": "execute_result"
    }
   ],
   "source": [
    "# WRITE YOUR CODE HERE\n",
    "import re\n",
    "matches_1 = df_merged.loc[df_merged.text.str.contains('AT&T|Verizon|T-Mobile',flags=re.IGNORECASE,na=False), ['tid', 'text']]\n",
    "matches_1.to_csv(\"ID_{0}_Q_{1}.csv\".format(YOURSTUDENTID, \"2_2\"),index = None)\n",
    "matches_1.head()"
   ]
  },
  {
   "cell_type": "markdown",
   "metadata": {},
   "source": [
    "### 2.3 Identify Churning Customers via Logistic Regression (Total 10 Marks)\n",
    "\n",
    "Train a Logistic Regression Classifier to identify tweets from churning customers\n",
    "\n",
    "Requirements\n",
    "- The original features must be the tweet text data\n",
    "- Use dimension reduction to reduce the dimensionality of the problem. In class you have learnt about PCA. However PCA will not work for TF or TF-IDF data as it is sparse. You must find an alternative method in scikit-learn that works with sparse data.\n",
    "- Maximum of 5 components\n",
    "\n",
    "In Q2.3.5 your marks will be assigned based on your classifiers performance on the hidden set. Make sure you tune your model thoroughly in section Q2.3.3.\n",
    "\n",
    "#### 2.3.1 Transform Features (1.5 Marks)\n",
    "\n",
    "Given the original text data, use an sklearn vectoriser to convert the text to a numeric representation.\n",
    "\n",
    "Output your fitted vectoriser as a pickle file.\n",
    "\n",
    "FILENAME: ID_STUDENTID_Q_2_3_1.pickle"
   ]
  },
  {
   "cell_type": "code",
   "execution_count": 643,
   "metadata": {
    "scrolled": true
   },
   "outputs": [
    {
     "data": {
      "text/plain": [
       "<2492x5799 sparse matrix of type '<class 'numpy.float64'>'\n",
       "\twith 37340 stored elements in Compressed Sparse Row format>"
      ]
     },
     "execution_count": 643,
     "metadata": {},
     "output_type": "execute_result"
    }
   ],
   "source": [
    "# WRITE YOUR CODE HERE\n",
    "from sklearn.feature_extraction.text import TfidfVectorizer\n",
    "from sklearn.feature_extraction.text import CountVectorizer\n",
    "merged_text = list(df_merged['text'].dropna(axis=0,how='any'))\n",
    "vectorizer = TfidfVectorizer()\n",
    "X = vectorizer.fit_transform(merged_text)\n",
    "X"
   ]
  },
  {
   "cell_type": "code",
   "execution_count": 647,
   "metadata": {},
   "outputs": [],
   "source": [
    "# This code will save your Transformer/Vectoriser object to a file\n",
    "import pickle\n",
    "\n",
    "filename = \"ID_{0}_Q_2_3_1.pickle\".format(YOURSTUDENTID)\n",
    "\n",
    "# MYTRANSFORMEROBJECT must be a sklearn transformer or vectoriser\n",
    "s = pickle.dump(vectorizer, open(filename, 'wb'))"
   ]
  },
  {
   "cell_type": "markdown",
   "metadata": {},
   "source": [
    "#### 2.3.2 Dimension Reduction (1.5 Marks)\n",
    "\n",
    "Reduce the dimensionality of your features to a maximum of 5 components.\n",
    "\n",
    "Output your fitted dimensionality reducing object as a pickle file.\n",
    "\n",
    "FILENAME: ID_STUDENTID_Q_2_3_2.pickle"
   ]
  },
  {
   "cell_type": "code",
   "execution_count": 645,
   "metadata": {},
   "outputs": [
    {
     "data": {
      "text/plain": [
       "array([[ 0.27036267, -0.09613833,  0.0891966 , -0.02166759,  0.03373639],\n",
       "       [ 0.10330187, -0.03027167, -0.07503496, -0.02204809, -0.10616968],\n",
       "       [ 0.20133537, -0.00267353, -0.1121987 ,  0.09781379, -0.05444379],\n",
       "       ...,\n",
       "       [ 0.24550827, -0.04613312, -0.00184788,  0.07876032,  0.00176731],\n",
       "       [ 0.16404618, -0.06534504, -0.01712377,  0.05515677, -0.04649989],\n",
       "       [ 0.20365697,  0.03758214,  0.07401011, -0.11080236, -0.02668376]])"
      ]
     },
     "execution_count": 645,
     "metadata": {},
     "output_type": "execute_result"
    }
   ],
   "source": [
    "# WRITE YOUR CODE HERE\n",
    "from sklearn.decomposition import TruncatedSVD\n",
    "\n",
    "svd = TruncatedSVD(n_components=5)\n",
    "X_transformed = svd.fit_transform(X)"
   ]
  },
  {
   "cell_type": "code",
   "execution_count": 646,
   "metadata": {},
   "outputs": [],
   "source": [
    "# This code will save your Dimensionality Reducer object to a file\n",
    "import pickle\n",
    "\n",
    "filename = \"ID_{0}_Q_2_3_2.pickle\".format(YOURSTUDENTID)\n",
    "\n",
    "# MYREDUCEROBJECT must be a valid dimensionality reducer from sklearn\n",
    "s = pickle.dump(svd, open(filename, 'wb'))"
   ]
  },
  {
   "cell_type": "markdown",
   "metadata": {},
   "source": [
    "#### 2.3.3 Tuning (2 Marks)\n",
    "\n",
    "Tune your model hyper-parameters for best performance. Make sure to tune thoroughly!\n",
    "\n",
    "Output your fitted GridSearchCV or RandomisedSearchCV object as a pickle file.\n",
    "\n",
    "FILENAME: ID_STUDENTID_Q_2_3_3.pickle"
   ]
  },
  {
   "cell_type": "code",
   "execution_count": null,
   "metadata": {},
   "outputs": [],
   "source": [
    "from sklearn.model_selection import GridSearchCV\n",
    "from sklearn.linear_model import LogisticRegression\n",
    "\n",
    "param_grid = {'C': [0.0001, 0.001, 0.01, 0.1, 1, 10],\n",
    "              'solver': ['lbfgs', 'liblinear', 'sag', 'saga']\n",
    "              }\n",
    "lrGrid = GridSearchCV(LogisticRegression(penalty='l2'), param_grid)\n",
    "lrGrid.fit(X_transformed, df_merged['churn'].values)\n",
    "best_params = lrGrid.best_params_\n",
    "best_score = lrGrid.best_score_\n",
    "print(best_params)\n",
    "print(best_score)"
   ]
  },
  {
   "cell_type": "code",
   "execution_count": 679,
   "metadata": {},
   "outputs": [
    {
     "ename": "NameError",
     "evalue": "name 'MYGRIDSEARCHOBJECT' is not defined",
     "output_type": "error",
     "traceback": [
      "\u001b[0;31m---------------------------------------------------------------------------\u001b[0m",
      "\u001b[0;31mNameError\u001b[0m                                 Traceback (most recent call last)",
      "\u001b[0;32m<ipython-input-679-dfdb6649de08>\u001b[0m in \u001b[0;36m<module>\u001b[0;34m()\u001b[0m\n\u001b[1;32m      5\u001b[0m \u001b[0;34m\u001b[0m\u001b[0m\n\u001b[1;32m      6\u001b[0m \u001b[0;31m# MYGRIDSEARCHOBJECT must be GridSearchCV or RandomisedSearchCV\u001b[0m\u001b[0;34m\u001b[0m\u001b[0;34m\u001b[0m\u001b[0m\n\u001b[0;32m----> 7\u001b[0;31m \u001b[0ms\u001b[0m \u001b[0;34m=\u001b[0m \u001b[0mpickle\u001b[0m\u001b[0;34m.\u001b[0m\u001b[0mdump\u001b[0m\u001b[0;34m(\u001b[0m\u001b[0mMYGRIDSEARCHOBJECT\u001b[0m\u001b[0;34m,\u001b[0m \u001b[0mopen\u001b[0m\u001b[0;34m(\u001b[0m\u001b[0mfilename\u001b[0m\u001b[0;34m,\u001b[0m \u001b[0;34m'wb'\u001b[0m\u001b[0;34m)\u001b[0m\u001b[0;34m)\u001b[0m\u001b[0;34m\u001b[0m\u001b[0m\n\u001b[0m",
      "\u001b[0;31mNameError\u001b[0m: name 'MYGRIDSEARCHOBJECT' is not defined"
     ]
    }
   ],
   "source": [
    "# This code will save your GridSearchCV or RandomisedSearchCV to a file\n",
    "import pickle\n",
    "\n",
    "filename = \"ID_{0}_Q_2_3_3.pickle\".format(YOURSTUDENTID)\n",
    "\n",
    "# MYGRIDSEARCHOBJECT must be GridSearchCV or RandomisedSearchCV\n",
    "s = pickle.dump(lrGrid, open(filename, 'wb'))"
   ]
  },
  {
   "cell_type": "code",
   "execution_count": null,
   "metadata": {},
   "outputs": [],
   "source": []
  },
  {
   "cell_type": "markdown",
   "metadata": {},
   "source": [
    "#### 2.3.4 Output Model (1 Marks)\n",
    "\n",
    "Output your trained logistic regression model as a pickle file. In the next part you will be competing against other students. So make sure you tune your model as best you can!\n",
    "\n",
    "FILENAME: ID_STUDENTID_Q_2_3_4.pickle"
   ]
  },
  {
   "cell_type": "code",
   "execution_count": null,
   "metadata": {},
   "outputs": [],
   "source": [
    "# WRITE YOUR CODE HERE\n",
    "################ 2.3.4 Output Model (1 Marks)\n",
    "logistic_model = LogisticRegression(C=0.001, solver='lbfgs')\n",
    "logistic_model.fit(X_transformed, df_merged['churn'].values)\n"
   ]
  },
  {
   "cell_type": "code",
   "execution_count": null,
   "metadata": {},
   "outputs": [],
   "source": [
    "# This code will save your LogisticRegression to a file\n",
    "import pickle\n",
    "\n",
    "filename = \"ID_{0}_Q_2_3_4.pickle\".format(YOURSTUDENTID)\n",
    "\n",
    "# MYLOGISTICREGRESSION must be of type sklearn.linear_model.LogisticRegression\n",
    "s = pickle.dump(logistic_model, open(filename, 'wb'))"
   ]
  },
  {
   "cell_type": "markdown",
   "metadata": {},
   "source": [
    "#### 2.3.5 Predicting Churn for the Hidden Customers (4 Marks)\n",
    "\n",
    "We will assign marks to this question based on the relative performance of each students classifier. You must try and tune your classifier in Question 2.3 as best you can!\n",
    "\n",
    "Output your predictions as a two column .csv file with the following format:\n",
    "\n",
    "| tid  |  Churn |\n",
    "|---|---|\n",
    "| tweet_id1  | 0  |\n",
    "| tweet_id2  | 1  |\n",
    "| tweet_id3  | 0  |\n",
    "| ...  | ...  |\n",
    "\n",
    "where pred1 is the predicted class i.e. 1 is \"Churn\" and 0 is \"Not churn\".\n",
    "\n",
    "FILENAME: ID_STUDENTID_Q_2_3_5.csv"
   ]
  },
  {
   "cell_type": "code",
   "execution_count": null,
   "metadata": {},
   "outputs": [],
   "source": [
    "# WRITE YOUR CODE HERE\n",
    "churn_tr_test = df_churn_sql[df_churn_sql['set'].isin(['hidden'])]\n",
    "df_mergedTest = (pd.merge(churn_tr, df_tweets_sql, how='left', on='tid'))\n",
    "df_mergedTest = df_mergedTest.dropna()\n",
    "tfidf_transformer = TfidfVectorizer()\n",
    "tfidf_transformer.fit_transform(df_mergedTest['text'])\n",
    "test_sparse = tfidf_transformer.transform(df_mergedTest['text']).toarray()\n",
    "\n",
    "transformerDR = KernelPCA(n_components=5)\n",
    "transformerDR.fit_transform(test_sparse)\n",
    "test_X = transformerDR.transform(test_sparse)\n",
    "pre_result = logistic_model.predict(test_X)\n",
    "print(\"pre_result.shape:{}\".format(pre_result.shape))\n",
    "df_mergedTest['pre'] = pre_result\n",
    "df_mergedTest.to_csv(\"ID_{}_Q_2_3_5.csv\".format(YOURSTUDENTID), index=None)"
   ]
  },
  {
   "cell_type": "markdown",
   "metadata": {},
   "source": [
    "### 2.4 Prediction Competition (Total 10 Marks)\n",
    "\n",
    "We will assign marks to this question based on the relative performance of each students classifier.\n",
    "\n",
    "Your goal is to build the most accurate classification pipeline for the hidden data. You should do your own research to find suitable preprocessing steps and classifier. You are allowed to use **any preprocessing you like and any sklearn compatible classifier** i.e. it must support the following functions:\n",
    "- fit\n",
    "- predict\n",
    "\n",
    "You must output your classifier (as a pickle file) and predictions (as csv) using the format from Question 2.3.4 and 2.3.5.\n",
    "\n",
    "Good luck!\n",
    "\n",
    "FILENAMES:\n",
    "- ID_{0}_Q_2_4_1.pickle\n",
    "- ID_{0}_Q_2_4_1.csv"
   ]
  },
  {
   "cell_type": "code",
   "execution_count": null,
   "metadata": {},
   "outputs": [],
   "source": [
    "# WRITE YOUR CODE HERE\n",
    "\n",
    "from sklearn.decomposition import PCA\n",
    "from sklearn.pipeline import Pipeline\n",
    "############### 2.4 Prediction Competition (Total 10 Marks)\n",
    "Pipelinemodel = Pipeline([(\"pca\", PCA(n_components=5)),\n",
    "                      (\"clf\", LogisticRegression(C=0.001, solver='lbfgs'))])\n",
    "Pipelinemodel.fit(X_transformed, y=df_merged['churn'].values)\n",
    "filename = \"ID{0}Q_2_4_1.pickle\".format(YOURSTUDENTID)\n",
    "# MYLOGISTICREGRESSION must be of type sklearn.linear_model.LogisticRegression\n",
    "s = pickle.dump(Pipelinemodel, open(filename, 'wb'))\n",
    "# predict model\n",
    "pre = Pipelinemodel.predict(test_X)\n",
    "df_mergedTest['pred'] = pre\n",
    "del df_mergedTest['pre']\n",
    "df_mergedTest.to_csv(\"ID{0}Q_2_4_1.csv\".format(YOURSTUDENTID), index=None)\n",
    "print(df_mergedTest.shape)"
   ]
  }
 ],
 "metadata": {
  "kernelspec": {
   "display_name": "Python 3",
   "language": "python",
   "name": "python3"
  },
  "language_info": {
   "codemirror_mode": {
    "name": "ipython",
    "version": 3
   },
   "file_extension": ".py",
   "mimetype": "text/x-python",
   "name": "python",
   "nbconvert_exporter": "python",
   "pygments_lexer": "ipython3",
   "version": "3.6.6"
  }
 },
 "nbformat": 4,
 "nbformat_minor": 1
}
