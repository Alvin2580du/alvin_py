{
 "cells": [
  {
   "cell_type": "markdown",
   "metadata": {},
   "source": [
    "# Marketing and Business Analytics Individual Assignment\n",
    "\n",
    "1. This assignment accounts for 22% of your final mark.\n",
    "    - 15% from the Marketing component\n",
    "    - 7% from the Business Analytics component\n",
    "1. This is an individual assignment.\n",
    "2. The assignment is due before **17:00 26th October 2018**. The late penalty for the assignment is 10% of the assigned mark per day, starting after 5pm on the due date. The closing date **5pm 2nd November 2018** is the last date on which an assessment will be accepted for marking. \n",
    "3. Please only include your student ID in the submitted report, and do **NOT** include your name.\n",
    "\n",
    "## Background\n",
    "\n",
    "You are employed as a Data Scientist at a telecommunications company. One of the biggest issues facing the company is minimising customer churn. Customer churn is when a customer changes provider. The business is interested in analysing and predicting churn since the cost of acquiring new customers is higher than retaining existing customers.\n",
    "\n",
    "This is particularly problematic for the telecommunications industry as changing telecommunications provider is relatively easy. There are also a large number of price competitive providers to choose from, which encourages churning. \n",
    "\n",
    "Your job is to help the marketing department to undertake the following:\n",
    "- Investigate why and which customers churn\n",
    "- Discover retention oppurtunities and strategies\n",
    "- Identify current customers that are likely to churn so that the retention strategy can be applied\n",
    "- Identify potential customers so that the incentive strategy can be applied\n",
    "\n",
    "## Files\n",
    "\n",
    "Part 1:\n",
    "- churn_survey.json\n",
    "\n",
    "Part 2:\n",
    "- tweets.db\n",
    "\n",
    "\n",
    "## Submission Instructions\n",
    "\n",
    "This assessment will be automatically marked. Any deviation from the stated output form will be marked as an incorrect answer. It is your responsibility to check that the output matches the given template or example for each question.\n",
    "\n",
    "#### What to Submit\n",
    "\n",
    "Submit only your .ipynb file. You can choose to use this file as a template OR start from scratch. Just make sure that running your notebook generates all the answers!\n",
    "\n",
    "#### Filename\n",
    "\n",
    "The filename must be \"BUSS6002_MKBA_STUDENTID.ipynb\"\n",
    "\n",
    "#### Loading the data files when marking\n",
    "\n",
    "We will run your notebook in the same directory as the data files. We will assume the original file names.\n",
    "\n",
    "#### Output\n",
    "\n",
    "The output for each question should be saved to the same directory as the notebook.\n",
    "\n",
    "#### Checking the format of your output files\n",
    "\n",
    "We have created ED Challenges for each question. The challenges will tell you if the FORMAT of your output file is correct. It does not tell you if your answer is correct. Please test your output files on Ed before submitting your assignment.\n",
    "\n",
    "#### Timeout\n",
    "\n",
    "We will automatically run your notebook. Each notebook will be given a maximum of 1 minute to be completed. Please ensure any model training or optimisation will be easily completed in this time frame.\n",
    "\n",
    "## Marking Criteria\n",
    "1. Correctness of results"
   ]
  },
  {
   "cell_type": "markdown",
   "metadata": {},
   "source": [
    "## Set your Student ID here"
   ]
  },
  {
   "cell_type": "code",
   "execution_count": null,
   "metadata": {},
   "outputs": [],
   "source": [
    "YOURSTUDENTID = ..."
   ]
  },
  {
   "cell_type": "markdown",
   "metadata": {},
   "source": [
    "## Helper Function"
   ]
  },
  {
   "cell_type": "code",
   "execution_count": null,
   "metadata": {},
   "outputs": [],
   "source": [
    "# This function is used to save answers with a non-tabular output\n",
    "def write_txt(student_id, part_number, data):\n",
    "    file = open(\"ID_{0}_Q_{1}.txt\".format(student_id, part_number), 'w')\n",
    "    file.write(data)\n",
    "    file.close()"
   ]
  },
  {
   "cell_type": "markdown",
   "metadata": {},
   "source": [
    "# Part 1 - Understanding Churn and Identifying Retention Strategies (20 Marks)\n",
    "\n",
    "## Data\n",
    "\n",
    "The marketing team has collected information from a subset of current and past customers. To understand why customers churn and identify why customers have churned use the ``churn_survey.json`` file.\n",
    "\n",
    "### Data Dictionary\n",
    "\n",
    "| Variable  | Description  |\n",
    "|---|---|\n",
    "| Churn  | Whether the customer churned or not |\n",
    "| Contract  | The contract term of the customer |\n",
    "| Dependents  | Whether the customer has dependents or not |\n",
    "| DeviceProtection  | Whether the customer has purchased the device protection service or not |\n",
    "| Gender  | Customer gender |\n",
    "| InternetService  | Customer’s internet service type |\n",
    "| MonthlyCharges  | The amount charged to the customer monthly |\n",
    "| MultipleLines  | Whether the customer has multiple lines or not |\n",
    "| OnlineBackup  | Whether the customer has purchased the additional online backup service or not |\n",
    "| OnlineSecurity  | Whether the customer has purchased the additional online security service or not |\n",
    "| PaperlessBilling  | Whether the customer has paperless billing or not |\n",
    "| Partner  | Whether the customer has a partner or not |\n",
    "| PaymentMethod  | The customer’s payment method |\n",
    "| PhoneService  | Whether the customer has a phone service or not |\n",
    "| SeniorCitizen  | Whether the customer is a senior citizen or not |\n",
    "| StreamingMovies  | Whether the customer has purchased the additional streaming movie service or not |\n",
    "| StreamingTV  | Whether the customer has purchased the additional streaming TV service or not |\n",
    "| TechSupport  | Whether the customer has purchased the additional tech support service or not |\n",
    "| Tenure  | Number of months the customer has stayed with the company |\n",
    "| TotalCharges  | The total amount charged to the customer |\n"
   ]
  },
  {
   "cell_type": "code",
   "execution_count": null,
   "metadata": {},
   "outputs": [],
   "source": [
    "# Use this area to load the data"
   ]
  },
  {
   "cell_type": "markdown",
   "metadata": {},
   "source": [
    "## Questions\n",
    "\n",
    "### 1.1 What is the most popular payment method? (1 Mark)\n",
    "\n",
    "Output your answer as a .txt file containing the name of the most popular payment method.\n",
    "\n",
    "FILENAME: ID_STUDENTID_Q_1_1.txt"
   ]
  },
  {
   "cell_type": "code",
   "execution_count": null,
   "metadata": {},
   "outputs": [],
   "source": [
    "# WRITE YOUR CODE HERE\n",
    "\n",
    "method_name = ...\n",
    "\n",
    "# This will save your answer to a .txt file\n",
    "write_txt(YOURSTUDENTID, \"1_1\", method_name)"
   ]
  },
  {
   "cell_type": "markdown",
   "metadata": {},
   "source": [
    "### 1.2 What is the mean amount spent per month for the churn and non-churn customers? (1 Mark)\n",
    "\n",
    "Output your answer as a .csv file with the following format to four decimal places. DO NOT include the $ sign.\n",
    "\n",
    "| Churn  | MonthlyCharges  |\n",
    "|---|---|\n",
    "| No  | 00.0000  |\n",
    "| Yes  |  00.0000 |\n",
    "\n",
    "FILENAME: ID_STUDENTID_Q_1_2.csv"
   ]
  },
  {
   "cell_type": "code",
   "execution_count": null,
   "metadata": {},
   "outputs": [],
   "source": [
    "# WRITE YOUR CODE HERE"
   ]
  },
  {
   "cell_type": "markdown",
   "metadata": {},
   "source": [
    "### 1.3 What is the standard deviation of amount spent per month for the churn and non-churn customers? (1 Mark)\n",
    "\n",
    "Output your answer as a .csv file with the following format to four decimal places. DO NOT include the $ sign.\n",
    "\n",
    "| Churn  | MonthlyCharges  |\n",
    "|---|---|\n",
    "| No  | 00.0000  |\n",
    "| Yes  |  00.0000 |\n",
    "\n",
    "FILENAME: ID_STUDENTID_Q_1_3.csv"
   ]
  },
  {
   "cell_type": "code",
   "execution_count": null,
   "metadata": {},
   "outputs": [],
   "source": [
    "# WRITE YOUR CODE HERE"
   ]
  },
  {
   "cell_type": "markdown",
   "metadata": {},
   "source": [
    "### 1.4 What is the percentage of contract type for the churn and non-churn customers (2 Marks)\n",
    "\n",
    "Output your answer as a .csv file with the following format to two decimal places. Do not include the % symbol.\n",
    "\n",
    "| Churn  | Month-to-month  | One year | Two year |\n",
    "|---|---|---|---|\n",
    "| No  | 00.00  |00.00  |00.00  |\n",
    "| Yes  |  00.00 |00.00  |00.00  |\n",
    "\n",
    "This percentage should be relative to the churn status NOT the entire sample i.e. the top left cell is the percentage of customers on month-to-month contracts who didn't churn.\n",
    "\n",
    "FILENAME: ID_STUDENTID_Q_1_4.csv"
   ]
  },
  {
   "cell_type": "code",
   "execution_count": null,
   "metadata": {},
   "outputs": [],
   "source": [
    "# WRITE YOUR CODE HERE"
   ]
  },
  {
   "cell_type": "markdown",
   "metadata": {},
   "source": [
    "### 1.5 Which feature and value is most correlated with MonthlyCharges? (2.5 Marks)\n",
    "\n",
    "Output your answer as a .csv file with the following format containing the most correlated feature name and value.\n",
    "\n",
    "| Feature  | Value  |\n",
    "|---|---|---|---|\n",
    "| FEATURE_NAME  | FEATURE_VALUE  |\n",
    "\n",
    "FILENAME: ID_STUDENTID_Q_1_5.csv"
   ]
  },
  {
   "cell_type": "code",
   "execution_count": null,
   "metadata": {},
   "outputs": [],
   "source": [
    "# WRITE YOUR CODE HERE"
   ]
  },
  {
   "cell_type": "markdown",
   "metadata": {},
   "source": [
    "### 1.6 What is the count, mean, std, min, quartiles and max of time before a customer churns? (2.5 Marks)\n",
    "\n",
    "Output your result as a two column .csv with the following format to four decimal places\n",
    "\n",
    "|   | Tenure  |\n",
    "|---|---|\n",
    "| count | 0.0 |\n",
    "| mean  | 0.0 |\n",
    "| std   | 0.0 |\n",
    "| min  | 0.0 |\n",
    "| 25%  | 0.0 |\n",
    "| 50%  | 0.0 |\n",
    "| 75%  | 0.0 |\n",
    "| max  | 0.0 |\n",
    "\n",
    "FILENAME: ID_STUDENTID_Q_1_6.csv"
   ]
  },
  {
   "cell_type": "code",
   "execution_count": null,
   "metadata": {},
   "outputs": [],
   "source": [
    "# WRITE YOUR CODE HERE"
   ]
  },
  {
   "cell_type": "markdown",
   "metadata": {},
   "source": [
    "### 1.7 What is the proportion of purchase for each account addon for male and female customers? (4 Marks)\n",
    "\n",
    "Output your result as a .csv with the following format to four decimal places\n",
    "\n",
    "| Gender  | ADDON1  | ADDON2  | ... |\n",
    "|---|---|---|\n",
    "| Female  | 0.0000  | 0.0000  | .. |\n",
    "| Male  |  0.0000 | 0.0000  | .. |\n",
    "\n",
    "Please use the original name of the addon from the data. You must use your understanding of the data and the problem to determine where you can find this information in the dataset.\n",
    "\n",
    "FILENAME: ID_STUDENTID_Q_1_7.csv"
   ]
  },
  {
   "cell_type": "code",
   "execution_count": null,
   "metadata": {},
   "outputs": [],
   "source": [
    "# WRITE YOUR CODE HERE"
   ]
  },
  {
   "cell_type": "markdown",
   "metadata": {},
   "source": [
    "### 1.8 Of the listed account addons, which addon/addons could be offered to churning customers for free or at a discounted rate in order to best retain them? (6 Marks)\n",
    "\n",
    "Output your file as a single column .csv with the following format\n",
    "\n",
    "| Addon  |\n",
    "|---|\n",
    "| ADDONX  | \n",
    "| ADDONY  |\n",
    "| ...  | \n",
    "\n",
    "where ADDONX is the name of one addon that you suggest. You must suggest at least 1 account addon up the total amount of addons listed in the dataset. You must exercise your best judgement and supporting evidence from the data to obtain a list of suggested addons. These addons should reflect the interests of the churning customers, i.e. which addons they actually care about.\n",
    "\n",
    "FILENAME: ID_STUDENTID_Q_1_8.csv"
   ]
  },
  {
   "cell_type": "code",
   "execution_count": null,
   "metadata": {},
   "outputs": [],
   "source": [
    "# WRITE YOUR CODE HERE"
   ]
  },
  {
   "cell_type": "markdown",
   "metadata": {},
   "source": [
    "# Part 2 - Churn Intervention (24 Marks)\n",
    "\n",
    "The marketing teams wants to know if it is possible to identify customers on social media before they churn and if they can identify potential customers that want to move away from their existing provider. If a customer is identified before they churn then the retention strategy that you developed in Part 1.6 can be applied to stop the customer leaving.\n",
    "\n",
    "The marketing team has outsourced the collection of data and labels. The data was collected from twitter and includes tweets referencing your company and competitors. The data is available in the ``tweets.db`` SQLite file.\n",
    "\n",
    "To achieve the goals of the project you will need to do some EDA to understand the nature of the data and attempt to build a classifier to predict if an individual is likely to churn based on what they wrote in their tweet.\n",
    "\n",
    "## Data\n",
    "\n",
    "### Schema\n",
    "\n",
    "The schema for the ``tweets.db`` file is below:\n",
    "\n",
    "churn\n",
    "\n",
    "| Column  |  Description |\n",
    "|---|---|\n",
    "| tid  | Tweet ID  |\n",
    "| churn  | Churn status  |\n",
    "| set  | Training or Hidden  |\n",
    "\n",
    "tweets\n",
    "\n",
    "| Column  |  Description |\n",
    "|---|---|\n",
    "| tid  | Tweet ID  |\n",
    "| uid  | User ID  |\n",
    "| date  | Datetime of the tweet  |\n",
    "| text  | Content of the tweet  |\n",
    "\n",
    "### Training and Hidden Sets\n",
    "\n",
    "The data has been divided into two sets:\n",
    "\n",
    "| Set  |  Tweets | Target  |\n",
    "|---|---|---|\n",
    "| Training  | Yes  | Yes  |\n",
    "| Hidden  | Yes  | No  |\n",
    "\n",
    "The Churn labels for the training sets has been made available. However the marketing team wants to know how well your classifier will work on future and unseen data before deploying it. They will assess your classification performance on the hidden set."
   ]
  },
  {
   "cell_type": "markdown",
   "metadata": {},
   "source": [
    "### 2.1 How many tweets in the training set contain at least one of the strings \"AT&T\", \"Verizon\" or \"T-Mobile\" (1.5 Marks)\n",
    "\n",
    "Output the number of tweets as an integer to a .txt file. Your search should be invariant to capitilisation.\n",
    "\n",
    "FILENAME: ID_STUDENTID_Q_2_1.txt"
   ]
  },
  {
   "cell_type": "code",
   "execution_count": null,
   "metadata": {},
   "outputs": [],
   "source": [
    "import sqlite3 as db\n",
    "import pandas as pd\n",
    "import pickle\n",
    "\n",
    "from sklearn.decomposition import FastICA\n",
    "from sklearn.pipeline import Pipeline\n",
    "from sklearn.model_selection import GridSearchCV\n",
    "from sklearn.linear_model import LogisticRegression\n",
    "from sklearn.feature_extraction.text import TfidfVectorizer"
   ]
  },
  {
   "cell_type": "code",
   "execution_count": null,
   "metadata": {},
   "outputs": [],
   "source": [
    "def readFronSqllite(db_path, exectCmd):\n",
    "    conn = db.connect(db_path)\n",
    "    cursor = conn.cursor()\n",
    "    cursor.execute(exectCmd)\n",
    "    rows = cursor.fetchall()\n",
    "    return rows\n",
    "\n",
    "\n",
    "churn = readFronSqllite('tweets.db', exectCmd=\"select * from churn\")\n",
    "tweets = readFronSqllite('tweets.db', exectCmd=\"select * from tweets\")\n",
    "\n",
    "\n",
    "def find_spacial_symbol(inputs):\n",
    "    if \"AT&T\" or \"Verizon\" or \"T-Mobile\" in inputs.split():\n",
    "        return True\n",
    "    else:\n",
    "        return False\n",
    "\n",
    "\n",
    "def find_train_id():\n",
    "    train_ids = []\n",
    "    hidden_ids = []\n",
    "    for x in churn:\n",
    "        if x[2] == 'training':\n",
    "            train_ids.append(x[0])\n",
    "        else:\n",
    "            hidden_ids.append(x[0])\n",
    "    return train_ids, hidden_ids\n",
    "\n",
    "\n",
    "train_ids, hidden_ids = find_train_id()\n",
    "\n",
    "\n",
    "def write_txt(student_id, part_number, data):\n",
    "    file = open(\"ID_{0}_Q_{1}.txt\".format(student_id, part_number), 'w')\n",
    "    file.write(data)\n",
    "    file.close()\n",
    "\n",
    "\n",
    "def get_num():\n",
    "    number_tweets = 0\n",
    "    for x in tweets:\n",
    "        if isinstance(x[0], float):\n",
    "            if x[0] in train_ids:\n",
    "                if \"AT&T\" or \"Verizon\" or \"T-Mobile\" in x[3]:\n",
    "                    number_tweets += 1\n",
    "    return number_tweets"
   ]
  },
  {
   "cell_type": "code",
   "execution_count": null,
   "metadata": {},
   "outputs": [],
   "source": [
    "# WRITE YOUR CODE HERE\n",
    "number_tweets = str(get_num())\n",
    "# This will save your answer to a .txt file\n",
    "write_txt(YOURSTUDENTID, \"2_1\", number_tweets)"
   ]
  },
  {
   "cell_type": "markdown",
   "metadata": {},
   "source": [
    "### 2.2 Find all tweets in the training set containing the strings \"AT&T\", \"Verizon\" and \"switch\" (2.5 Marks)\n",
    "\n",
    "Output the tweets as a two column .csv file with the following format:\n",
    "\n",
    "| tid  |  text |\n",
    "|---|---|\n",
    "| tweet_id1  | text1  |\n",
    "| tweet_id2  | text2  |\n",
    "| tweet_id3  | text3  |\n",
    "| ...  | ...  |\n",
    "\n",
    "The first column should be the tweet id and the second column should be the original text of the tweet. Your search should be invariant to capitilisation.\n",
    "\n",
    "FILENAME: ID_STUDENTID_Q_2_2.csv"
   ]
  },
  {
   "cell_type": "code",
   "execution_count": null,
   "metadata": {},
   "outputs": [],
   "source": [
    "# WRITE YOUR CODE HERE\n",
    "\n",
    "def find_train_id():\n",
    "    train_ids = []\n",
    "    hidden_ids = []\n",
    "    for x in churn:\n",
    "        if x[2] == 'training':\n",
    "            train_ids.append(x[0])\n",
    "        else:\n",
    "            hidden_ids.append(x[0])\n",
    "    return train_ids, hidden_ids\n",
    "\n",
    "\n",
    "train_ids, hidden_ids = find_train_id()\n",
    "\n",
    "fw = open(\"ID_STUDENTID_Q_2_2.csv\", 'w')\n",
    "for x in tweets:\n",
    "    if x[0] in train_ids:\n",
    "        if isinstance(x[0], float):\n",
    "            rows = \"| {}  | {}  |\".format(int(x[0]), x[3])\n",
    "            fw.writelines(rows + '\\n')"
   ]
  },
  {
   "cell_type": "markdown",
   "metadata": {},
   "source": [
    "### 2.3 Identify Churning Customers via Logistic Regression (Total 10 Marks)\n",
    "\n",
    "Train a Logistic Regression Classifier to identify tweets from churning customers\n",
    "\n",
    "Requirements\n",
    "- The original features must be the tweet text data\n",
    "- Use dimension reduction to reduce the dimensionality of the problem. In class you have learnt about PCA. However PCA will not work for TF or TF-IDF data as it is sparse. You must find an alternative method in scikit-learn that works with sparse data.\n",
    "- Maximum of 5 components\n",
    "\n",
    "In Q2.3.5 your marks will be assigned based on your classifiers performance on the hidden set. Make sure you tune your model thoroughly in section Q2.3.3.\n",
    "\n",
    "#### 2.3.1 Transform Features (1.5 Marks)\n",
    "\n",
    "Given the original text data, use an sklearn vectoriser to convert the text to a numeric representation.\n",
    "\n",
    "Output your fitted vectoriser as a pickle file.\n",
    "\n",
    "FILENAME: ID_STUDENTID_Q_2_3_1.pickle"
   ]
  },
  {
   "cell_type": "code",
   "execution_count": null,
   "metadata": {},
   "outputs": [],
   "source": [
    "# WRITE YOUR CODE HERE\n",
    "\n",
    "def get_label(tweet_id):\n",
    "    for x in churn:\n",
    "        if isinstance(x[0], float):\n",
    "            if int(x[0]) == tweet_id:\n",
    "                label = x[1]\n",
    "                return label\n",
    "\n",
    "\n",
    "texts = []\n",
    "with open(\"ID_STUDENTID_Q_2_2.csv\", 'r') as fr:\n",
    "    lines = fr.readlines()\n",
    "    for line in lines:\n",
    "        t_id = int(\"{}\".format(line.split(' | ')[0].replace(\" \", \"\").replace(\"|\", \"\")))\n",
    "        label = get_label(t_id)\n",
    "        rows = {'text': line.replace(\"\\n\", \"\").split(\" | \")[1], 'label': label}\n",
    "        texts.append(rows)\n",
    "\n",
    "train_df = pd.DataFrame(texts)\n",
    "\n",
    "tfidf_transformer = TfidfVectorizer()\n",
    "tfidf_transformer.fit_transform(train_df['text'])\n",
    "dense_result = tfidf_transformer.transform(train_df['text']).todense()\n",
    "print(dense_result.shape)"
   ]
  },
  {
   "cell_type": "code",
   "execution_count": null,
   "metadata": {},
   "outputs": [],
   "source": [
    "# This code will save your Transformer/Vectoriser object to a file\n",
    "import pickle\n",
    "\n",
    "filename = \"ID_{0}_Q_2_3_1.pickle\".format(YOURSTUDENTID)\n",
    "\n",
    "# MYTRANSFORMEROBJECT must be a sklearn transformer or vectoriser\n",
    "s = pickle.dump(tfidf_transformer, open(filename, 'wb'))"
   ]
  },
  {
   "cell_type": "markdown",
   "metadata": {},
   "source": [
    "#### 2.3.2 Dimension Reduction (1.5 Marks)\n",
    "\n",
    "Reduce the dimensionality of your features to a maximum of 5 components.\n",
    "\n",
    "Output your fitted dimensionality reducing object as a pickle file.\n",
    "\n",
    "FILENAME: ID_STUDENTID_Q_2_3_2.pickle"
   ]
  },
  {
   "cell_type": "code",
   "execution_count": null,
   "metadata": {},
   "outputs": [],
   "source": [
    "# WRITE YOUR CODE HERE\n",
    "transformerDR = FastICA(n_components=5)\n",
    "X_transformed = transformerDR.fit_transform(dense_result)\n",
    "print(\"X_transformed shape:{}\".format(X_transformed.shape))"
   ]
  },
  {
   "cell_type": "code",
   "execution_count": null,
   "metadata": {},
   "outputs": [],
   "source": [
    "# This code will save your Dimensionality Reducer object to a file\n",
    "import pickle\n",
    "\n",
    "filename = \"ID_{0}_Q_2_3_2.pickle\".format(YOURSTUDENTID)\n",
    "\n",
    "# MYREDUCEROBJECT must be a valid dimensionality reducer from sklearn\n",
    "s = pickle.dump(X_transformed, open(filename, 'wb'))"
   ]
  },
  {
   "cell_type": "markdown",
   "metadata": {},
   "source": [
    "#### 2.3.3 Tuning (2 Marks)\n",
    "\n",
    "Tune your model hyper-parameters for best performance. Make sure to tune thoroughly!\n",
    "\n",
    "Output your fitted GridSearchCV or RandomisedSearchCV object as a pickle file.\n",
    "\n",
    "FILENAME: ID_STUDENTID_Q_2_3_3.pickle"
   ]
  },
  {
   "cell_type": "code",
   "execution_count": null,
   "metadata": {},
   "outputs": [],
   "source": [
    "# WRITE YOUR CODE HERE\n",
    "\n",
    "param_grid = {'C': [0.0001, 0.001, 0.01, 0.1, 1, 10],\n",
    "              'solver': ['lbfgs', 'liblinear', 'sag', 'saga']\n",
    "              }\n",
    "lr_grid = GridSearchCV(LogisticRegression(penalty='l2'), param_grid)\n",
    "lr_grid.fit(X_transformed, train_df['label'].values)\n",
    "par = lr_grid.best_params_\n",
    "sco = lr_grid.best_score_\n",
    "print(\"par:{}, sco:{}\".format(par, sco))"
   ]
  },
  {
   "cell_type": "code",
   "execution_count": null,
   "metadata": {},
   "outputs": [],
   "source": [
    "# This code will save your GridSearchCV or RandomisedSearchCV to a file\n",
    "import pickle\n",
    "\n",
    "filename = \"ID_{0}_Q_2_3_3.pickle\".format(YOURSTUDENTID)\n",
    "\n",
    "# MYGRIDSEARCHOBJECT must be GridSearchCV or RandomisedSearchCV\n",
    "s = pickle.dump(lr_grid, open(filename, 'wb'))"
   ]
  },
  {
   "cell_type": "markdown",
   "metadata": {},
   "source": [
    "#### 2.3.4 Output Model (1 Marks)\n",
    "\n",
    "Output your trained logistic regression model as a pickle file. In the next part you will be competing against other students. So make sure you tune your model as best you can!\n",
    "\n",
    "FILENAME: ID_STUDENTID_Q_2_3_4.pickle"
   ]
  },
  {
   "cell_type": "code",
   "execution_count": null,
   "metadata": {},
   "outputs": [],
   "source": [
    "# WRITE YOUR CODE HERE\n",
    "\n",
    "lr_model = LogisticRegression(C=0.001, solver='lbfgs')\n",
    "lr_model.fit(X_transformed, train_df['label'].values)"
   ]
  },
  {
   "cell_type": "code",
   "execution_count": null,
   "metadata": {},
   "outputs": [],
   "source": [
    "# This code will save your LogisticRegression to a file\n",
    "import pickle\n",
    "\n",
    "filename = \"ID_{0}_Q_2_3_4.pickle\".format(YOURSTUDENTID)\n",
    "\n",
    "# MYLOGISTICREGRESSION must be of type sklearn.linear_model.LogisticRegression\n",
    "s = pickle.dump(lr_model, open(filename, 'wb'))"
   ]
  },
  {
   "cell_type": "markdown",
   "metadata": {},
   "source": [
    "#### 2.3.5 Predicting Churn for the Hidden Customers (4 Marks)\n",
    "\n",
    "We will assign marks to this question based on the relative performance of each students classifier. You must try and tune your classifier in Question 2.3 as best you can!\n",
    "\n",
    "Output your predictions as a two column .csv file with the following format:\n",
    "\n",
    "| tid  |  Churn |\n",
    "|---|---|\n",
    "| tweet_id1  | 0  |\n",
    "| tweet_id2  | 1  |\n",
    "| tweet_id3  | 0  |\n",
    "| ...  | ...  |\n",
    "\n",
    "where pred1 is the predicted class i.e. 1 is \"Churn\" and 0 is \"Not churn\".\n",
    "\n",
    "FILENAME: ID_STUDENTID_Q_2_3_5.csv"
   ]
  },
  {
   "cell_type": "code",
   "execution_count": null,
   "metadata": {},
   "outputs": [],
   "source": [
    "# WRITE YOUR CODE HERE\n",
    "test_set = []\n",
    "for x in tweets:\n",
    "    if x[0] in hidden_ids:\n",
    "        test_set.append({'text': x[3]})\n",
    "\n",
    "test_set_df = pd.DataFrame(test_set)\n",
    "test_sparse = tfidf_transformer.transform(test_set_df['text']).toarray()\n",
    "\n",
    "transformerDR = FastICA(n_components=5)\n",
    "transformerDR.fit_transform(test_sparse)\n",
    "test_X = transformerDR.transform(test_sparse)\n",
    "pre_result = lr_model.predict(test_X)\n",
    "print(\"pre_result.shape:{}\".format(pre_result.shape))\n",
    "test_set_df['pre'] = pre_result\n",
    "test_set_df.to_csv(\"ID_{}_Q_2_3_5.csv\".format(YOURSTUDENTID), index=None)"
   ]
  },
  {
   "cell_type": "markdown",
   "metadata": {},
   "source": [
    "### 2.4 Prediction Competition (Total 10 Marks)\n",
    "\n",
    "We will assign marks to this question based on the relative performance of each students classifier.\n",
    "\n",
    "Your goal is to build the most accurate classification pipeline for the hidden data. You should do your own research to find suitable preprocessing steps and classifier. You are allowed to use **any preprocessing you like and any sklearn compatible classifier** i.e. it must support the following functions:\n",
    "- fit\n",
    "- predict\n",
    "\n",
    "You must output your classifier (as a pickle file) and predictions (as csv) using the format from Question 2.3.4 and 2.3.5.\n",
    "\n",
    "Good luck!\n",
    "\n",
    "FILENAMES:\n",
    "- ID_{0}_Q_2_4_1.pickle\n",
    "- ID_{0}_Q_2_4_1.csv"
   ]
  },
  {
   "cell_type": "code",
   "execution_count": null,
   "metadata": {},
   "outputs": [],
   "source": [
    "# WRITE YOUR CODE HERE\n",
    "\n",
    "pip_model = Pipeline([(\"pca\", FastICA(n_components=5)),\n",
    "                      (\"clf\", LogisticRegression(C=0.001, solver='lbfgs'))])\n",
    "pip_model.fit(X_transformed, y=train_df['label'].values)\n",
    "filename = \"ID{0}Q_2_4_1.pickle\".format(YOURSTUDENTID)\n",
    "# MYLOGISTICREGRESSION must be of type sklearn.linear_model.LogisticRegression\n",
    "s = pickle.dump(pip_model, open(filename, 'wb'))\n",
    "# predict model\n",
    "pre = pip_model.predict(test_X)\n",
    "test_set_df['pred'] = pre\n",
    "test_set_df.to_csv(\"ID{0}Q_2_4_1.csv\".format(YOURSTUDENTID), index=None)\n",
    "print(test_set_df.shape)"
   ]
  }
 ],
 "metadata": {
  "kernelspec": {
   "display_name": "Python 3",
   "language": "python",
   "name": "python3"
  },
  "language_info": {
   "codemirror_mode": {
    "name": "ipython",
    "version": 3.0
   },
   "file_extension": ".py",
   "mimetype": "text/x-python",
   "name": "python",
   "nbconvert_exporter": "python",
   "pygments_lexer": "ipython3",
   "version": "3.6.5"
  }
 },
 "nbformat": 4,
 "nbformat_minor": 0
}