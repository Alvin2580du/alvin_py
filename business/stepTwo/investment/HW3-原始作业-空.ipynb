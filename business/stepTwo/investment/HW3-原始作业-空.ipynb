{
 "cells": [
  {
   "cell_type": "markdown",
   "metadata": {},
   "source": [
    "GROUP NUMBER:\n",
    "\n",
    "GROUP MEMBERS that participated in the production of this file:\n",
    "\n",
    "Comments:\n"
   ]
  },
  {
   "cell_type": "markdown",
   "metadata": {},
   "source": [
    "# Problem Set 3\n",
    "\n",
    "\n",
    "\n",
    "This problem set provides both computational and theoretical practice on forming mean-variance efficient portfolios and employing mean-variance mathematics.\n",
    "\n"
   ]
  },
  {
   "cell_type": "markdown",
   "metadata": {},
   "source": [
    "### 1. \n",
    "\n",
    "In order to proceed you need Microsoft Excel and file \"https://www.dropbox.com/s/5qituivg6ovlscr/Homework3.xlsx?dl=1\". \n",
    "\n",
    "This file contains data for 10 value-weighted industry portfolios monthly returns over an 90-year period.  \n",
    "\n",
    "You will be computing mean-variance efficient portfolios for these 10 industries.\n",
    "\n",
    "Find the minimum variance and tangency portfolios of the industries. \n",
    "(hint 1:  For the tangency portfolio, put everything in excess return space and use the formular we derived in class) \n",
    "\n",
    "\n",
    "(hint 2::  to find the minimum variance portfolio, look at the maximization problem of Lecture 3 and now replace the constraint that the portfolio has to have some target expected return, by the constraint that the weights have to add up to 1-- The constraint becomes 1'@ W-1 instead of ER' @ W -mutarget , so in practice you are simply replacing the vector of average returns by a vector of 1's...What does this mean? It means that a small adjustement to the formula you use to construct the tangent portfolio will deliver for you the minimum variance portfolio.\n",
    "\n",
    "\n",
    "\n",
    "Report their weights. Don't forget to normalize so they add up to 1, and be careful so the signs don't flip! \n",
    "\n",
    "Comment on the different weights applied to each industry under the MVP and Tangent portfolios\n",
    "\n",
    "\n"
   ]
  },
  {
   "cell_type": "code",
   "execution_count": 39,
   "metadata": {
    "collapsed": true
   },
   "outputs": [],
   "source": [
    ""
   ]
  },
  {
   "cell_type": "markdown",
   "metadata": {},
   "source": [
    "### 2. \n",
    "\n",
    "a)Compute the means and standard deviations of the minimum variance portfolio and Tangent portfolios.  \n",
    "\n",
    "b)Plot the mean-standard deviation efficient frontier of these 10 industries. Plot the 10 industries as well on a mean-standard deviation diagram.  \n",
    "- Do that for the case that you have free borrowing and lending like we did in the beggining of notebook 4, where we can simply scale up and down the tangency portfolio weights, and also for the case that you cannot borrow or invest in the risk-free asset-- for this case you will need to use the maximizer that we use in the end of notebook 4.\n",
    "\n",
    "c)Plot the mean-variance efficient frontier of these 10 industries. Plot the 10 industries as well on a mean-standard deviation diagram. \n",
    "- Do that for the case that you have free borrowing and lending like we did in the beggining of notebook 4, where we can simply scale up and down the tangency portfolio weights, and also for the case that you cannot borrow or invest in the risk-free asset-- for this case you will need to use the maximizer that we use in the end of notebook 4.\n",
    "\n",
    "\n",
    "\n",
    "\n",
    "\n"
   ]
  },
  {
   "cell_type": "code",
   "execution_count": null,
   "metadata": {
    "collapsed": true
   },
   "outputs": [],
   "source": [
    ""
   ]
  },
  {
   "cell_type": "markdown",
   "metadata": {},
   "source": [
    "### 3. \n",
    "\n",
    "a)Comment on the reliability of the mean return estimates for each industry.\n",
    "\n",
    "b)Describe how you would evaluate if they are well estimated.\n",
    "\n",
    "c)Construct the 95% confidence interval for the estimator of each industry expected return.\n",
    "\n",
    "\n",
    "d)Artificially change the mean return estimates of each industry by a one standard error increase.  How much does the Tangent portfolio change?  Does the efficient frontier change a lot or a little? What does that teach us?\n",
    " \n",
    "- Do that for the case that you have free borrowing and lending like we did in the beggining of notebook 4, where we can simply scale up and down the tangency portfolio weights, and also for the case that you cannot borrow or invest in the risk-free asset-- for this case you will need to use the maximizer that we use in the end of notebook 4.\n"
   ]
  },
  {
   "cell_type": "code",
   "execution_count": null,
   "metadata": {
    "collapsed": true
   },
   "outputs": [],
   "source": [
    ""
   ]
  },
  {
   "cell_type": "markdown",
   "metadata": {},
   "source": [
    "### 4. \n",
    "\n",
    "a) Comment on the reliability of the covariance matrix estimate.  \n",
    "\n",
    "b) First,lets ignore covaraince terms:  assume that all covariances are zero and recompute the efficient frontier using the diagonal matrix of variances as the covariance matrix. (you might find the fucntion diag() from the numpy package very useful here). For this one you can focus on the case with free borrowing and lending. Report the tangency portfolio weights.\n",
    "\n",
    "c)Then, lets also ignore variance terms: assume very simply that the covariance matrix is just the identity matrix (i.e., a matrix of ones along the diagonal and zeros everywhere else). Compute tangency portfolio weights\n",
    "\n",
    "d) Now lets assume that the average returns are the same, replicated the analysis in (c), look at the weights, what portfolio is this? \n",
    "\n",
    "d) Does the mean-variance frontier change a lot or a little, relative to the analysis in 3)?  \n",
    "\n",
    "e) Discuss how important are the covariance terms relative to the variance terms.\n",
    "\n"
   ]
  },
  {
   "cell_type": "code",
   "execution_count": null,
   "metadata": {
    "collapsed": true
   },
   "outputs": [],
   "source": [
    ""
   ]
  },
  {
   "cell_type": "markdown",
   "metadata": {
    "collapsed": true
   },
   "source": [
    "### 5. \n",
    "\n",
    "a) construct the portfolios returns for the 4 different approaches discussed in 3 and 4:tangent portfolio, minimum variance portfolio, minimum variance portfolio that ignores covariance terms, minimum variance portfolio that ignore covariance terms and assume variances are the same.\n",
    "\n",
    "\n",
    "b) report mean returns for 4 portfolios\n",
    "\n",
    "c) report mean returns in excess of the risk-free rate\n",
    "\n",
    "d) Report standard deviations\n",
    "\n",
    "e) report portfolio sharpe ratios by dividing the answer in (c) by the answer in (d)\n",
    "\n",
    "f) Discuss the results. Is it surprising what you find? What does that teach us about the different approaches?\n",
    "\n",
    "g) Suggest an empirical approach to learn even more about which strategy is better (no need to implement just discuss) \n"
   ]
  },
  {
   "cell_type": "code",
   "execution_count": null,
   "metadata": {
    "collapsed": true
   },
   "outputs": [],
   "source": [
    ""
   ]
  },
  {
   "cell_type": "markdown",
   "metadata": {},
   "source": [
    "## MORE QUESTIONS WILL BE ADDED ON THURSDAY"
   ]
  }
 ],
 "metadata": {
  "kernelspec": {
   "display_name": "Python 3",
   "language": "python",
   "name": "python3"
  },
  "language_info": {
   "codemirror_mode": {
    "name": "ipython",
    "version": 3.0
   },
   "file_extension": ".py",
   "mimetype": "text/x-python",
   "name": "python",
   "nbconvert_exporter": "python",
   "pygments_lexer": "ipython3",
   "version": "3.7.0"
  }
 },
 "nbformat": 4,
 "nbformat_minor": 0
}