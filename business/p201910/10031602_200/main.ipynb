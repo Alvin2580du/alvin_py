{
 "cells": [
  {
   "cell_type": "code",
   "execution_count": 1,
   "metadata": {},
   "outputs": [],
   "source": [
    "import pandas as pd\n",
    "import numpy as np\n",
    "import scipy.stats as stats"
   ]
  },
  {
   "cell_type": "code",
   "execution_count": 2,
   "metadata": {},
   "outputs": [],
   "source": [
    "# 读取数据\n",
    "data = pd.read_excel(\"prices_multiasset_portfolio_1292016__Homework_Data_Set.xlsx\")\n"
   ]
  },
  {
   "cell_type": "code",
   "execution_count": 3,
   "metadata": {},
   "outputs": [],
   "source": [
    "# 实际保存数据的列\n",
    "real_cols = ['Unnamed: 1', 'Unnamed: 4', 'Unnamed: 7', 'Unnamed: 10', 'Unnamed: 13',\n",
    "             'Unnamed: 16', 'Unnamed: 19', 'Unnamed: 22']\n"
   ]
  },
  {
   "cell_type": "code",
   "execution_count": 4,
   "metadata": {},
   "outputs": [],
   "source": [
    "# index 列\n",
    "Indexs = ['SPTR Index', 'FNERTR Index', 'RU10INTR Index',\n",
    "          'SPGSCITR Index', 'GDDUEAFE Index', 'LBUSTRUU Index',\n",
    "          'LF98TRUU Index', 'GDLEEGF Index']\n"
   ]
  },
  {
   "cell_type": "code",
   "execution_count": 13,
   "metadata": {},
   "outputs": [],
   "source": [
    "# 第一问的计算方法\n",
    "\n",
    "def question_one(data):\n",
    "    length = len(data)\n",
    "    Ltts = [np.nan]\n",
    "    lnLtts = [np.nan]\n",
    "\n",
    "    for i in range(length):\n",
    "        if i + 1 < length:\n",
    "            Lt = data[i + 1] / data[i] - 1\n",
    "            lnLt = np.log(data[i + 1] / data[i])\n",
    "            Ltts.append(Lt)\n",
    "            lnLtts.append(lnLt)\n",
    "    return Ltts, lnLtts\n",
    "\n"
   ]
  },
  {
   "cell_type": "code",
   "execution_count": 14,
   "metadata": {},
   "outputs": [],
   "source": [
    "# 第二问的计算方法\n",
    "def question_two(data):\n",
    "    return data.mean(), data.std(), data.skew(), data.kurt()\n",
    "\n"
   ]
  },
  {
   "cell_type": "code",
   "execution_count": 15,
   "metadata": {},
   "outputs": [],
   "source": [
    "# 第三问的计算方法\n",
    "def question_three(y):\n",
    "    n = y.size\n",
    "    y_ = y - y.mean()\n",
    "    M2 = np.mean(y_ ** 2)\n",
    "    skew = np.mean(y_ ** 3) / M2 ** 1.5\n",
    "    krut = np.mean(y_ ** 4) / M2 ** 2\n",
    "    JB = n * (skew ** 2 / 6 + (krut - 3) ** 2 / 24)\n",
    "    pvalue = 1 - stats.chi2.cdf(JB, df=2)\n",
    "    return np.array([JB, pvalue])\n"
   ]
  },
  {
   "cell_type": "code",
   "execution_count": 16,
   "metadata": {},
   "outputs": [
    {
     "name": "stdout",
     "output_type": "stream",
     "text": [
      "================ SPTR Index Results ===================\n",
      "4517 4517 4517\n",
      "mean:2223.599976975868\n",
      "standard deviation:777.806208691123\n",
      "skewness:1.099795835742543\n",
      "kurtosis:0.10259828630776369\n",
      "Jarque Bera:[911.91136672   0.        ]\n",
      "- * -- * -- * -- * -- * -- * -- * -- * -- * -- * -- * -- * -- * -- * -- * -- * -- * -- * -- * -- * -\n",
      "================ FNERTR Index Results ===================\n",
      "4517 4517 4517\n",
      "mean:7675.083055877779\n",
      "standard deviation:3936.3914816340093\n",
      "skewness:0.43896719009639107\n",
      "kurtosis:-0.8039707688427078\n",
      "Jarque Bera:[266.75349501   0.        ]\n",
      "- * -- * -- * -- * -- * -- * -- * -- * -- * -- * -- * -- * -- * -- * -- * -- * -- * -- * -- * -- * -\n",
      "================ RU10INTR Index Results ===================\n",
      "4517 4517 4517\n",
      "mean:3498.2076003984944\n",
      "standard deviation:1271.339976567084\n",
      "skewness:1.0783144328679186\n",
      "kurtosis:0.027596359032028506\n",
      "Jarque Bera:[874.91423317   0.        ]\n",
      "- * -- * -- * -- * -- * -- * -- * -- * -- * -- * -- * -- * -- * -- * -- * -- * -- * -- * -- * -- * -\n",
      "================ SPGSCITR Index Results ===================\n",
      "4517 4517 4517\n",
      "mean:4557.7009985388595\n",
      "standard deviation:1576.2885818660086\n",
      "skewness:0.7741937128550362\n",
      "kurtosis:1.0373636306162743\n",
      "Jarque Bera:[652.50020883   0.        ]\n",
      "- * -- * -- * -- * -- * -- * -- * -- * -- * -- * -- * -- * -- * -- * -- * -- * -- * -- * -- * -- * -\n",
      "================ GDDUEAFE Index Results ===================\n",
      "4517 4517 4517\n",
      "mean:4661.506767102061\n",
      "standard deviation:1367.521668473071\n",
      "skewness:0.018993578839048134\n",
      "kurtosis:-1.2059467841107214\n",
      "Jarque Bera:[273.98129324   0.        ]\n",
      "- * -- * -- * -- * -- * -- * -- * -- * -- * -- * -- * -- * -- * -- * -- * -- * -- * -- * -- * -- * -\n",
      "================ LBUSTRUU Index Results ===================\n",
      "4517 4517 4517\n",
      "mean:1414.1396834624766\n",
      "standard deviation:366.9743288051361\n",
      "skewness:0.05928406928654141\n",
      "kurtosis:-1.282070905073164\n",
      "Jarque Bera:[311.95951162   0.        ]\n",
      "- * -- * -- * -- * -- * -- * -- * -- * -- * -- * -- * -- * -- * -- * -- * -- * -- * -- * -- * -- * -\n",
      "================ LF98TRUU Index Results ===================\n",
      "4517 4517 4517\n",
      "mean:994.2877551472212\n",
      "standard deviation:408.8268725853063\n",
      "skewness:0.488354134202723\n",
      "kurtosis:-1.2112862749114846\n",
      "Jarque Bera:[455.56014877   0.        ]\n",
      "- * -- * -- * -- * -- * -- * -- * -- * -- * -- * -- * -- * -- * -- * -- * -- * -- * -- * -- * -- * -\n",
      "================ GDLEEGF Index Results ===================\n",
      "4517 4517 4517\n",
      "mean:59438.35126367037\n",
      "standard deviation:28651.109227048244\n",
      "skewness:-0.06478918926620918\n",
      "kurtosis:-1.5386243858075812\n",
      "Jarque Bera:[448.49891701   0.        ]\n",
      "- * -- * -- * -- * -- * -- * -- * -- * -- * -- * -- * -- * -- * -- * -- * -- * -- * -- * -- * -- * -\n"
     ]
    }
   ],
   "source": [
    "\n",
    "num = 0\n",
    "for col in real_cols:\n",
    "    print(\"================ {} Results ===================\".format(Indexs[num]))\n",
    "    Ltts, lnLtts = question_one(data[col])\n",
    "    df = pd.DataFrame()\n",
    "    df[\"{}\".format(Indexs[num])] = data[col]\n",
    "    df['Ltts'] = Ltts\n",
    "    df['lnLtts'] = lnLtts\n",
    "    df.to_excel(\"{}_one.xlsx\".format(Indexs[num]), index=None)\n",
    "    num += 1\n",
    "\n",
    "    mean, std, sk, kr = question_two(data[col])\n",
    "\n",
    "    jb = question_three(data[col])\n",
    "    print(\"mean:{}\".format(mean))\n",
    "    print(\"standard deviation:{}\".format(std))\n",
    "    print(\"skewness:{}\".format(sk))\n",
    "    print(\"kurtosis:{}\".format(kr))\n",
    "    print(\"Jarque Bera:{}\".format(jb))\n",
    "    print('- * -' * 20)\n"
   ]
  },
  {
   "cell_type": "code",
   "execution_count": null,
   "metadata": {},
   "outputs": [],
   "source": []
  }
 ],
 "metadata": {
  "kernelspec": {
   "display_name": "Python 3",
   "language": "python",
   "name": "python3"
  },
  "language_info": {
   "codemirror_mode": {
    "name": "ipython",
    "version": 3
   },
   "file_extension": ".py",
   "mimetype": "text/x-python",
   "name": "python",
   "nbconvert_exporter": "python",
   "pygments_lexer": "ipython3",
   "version": "3.6.7"
  }
 },
 "nbformat": 4,
 "nbformat_minor": 2
}
